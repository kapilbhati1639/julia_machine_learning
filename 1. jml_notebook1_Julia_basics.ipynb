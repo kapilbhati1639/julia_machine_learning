{
 "cells": [
  {
   "cell_type": "markdown",
   "metadata": {},
   "source": [
    "# Machine Learning - Getting Started"
   ]
  },
  {
   "cell_type": "markdown",
   "metadata": {},
   "source": [
    "## Part 1. Julia basics\n",
    "We start with some basic numerical operations. "
   ]
  },
  {
   "cell_type": "code",
   "execution_count": 1,
   "metadata": {},
   "outputs": [
    {
     "name": "stdout",
     "output_type": "stream",
     "text": [
      "Hello World!\n"
     ]
    }
   ],
   "source": [
    "println(\"Hello World!\")"
   ]
  },
  {
   "cell_type": "markdown",
   "metadata": {},
   "source": [
    "One thing you may have noticed - it takes time for Julia to respond. This is due to the JIT compiling mechanism Julia adopts and it happens when some packages are first loaded into memory. The next time you run the code it just flies! Click back on the previous cell and run it again - you'll see. \n",
    "\n",
    "Now we deal with simple assignment, and for loops."
   ]
  },
  {
   "cell_type": "code",
   "execution_count": 2,
   "metadata": {},
   "outputs": [
    {
     "data": {
      "text/plain": [
       "1"
      ]
     },
     "execution_count": 2,
     "metadata": {},
     "output_type": "execute_result"
    }
   ],
   "source": [
    "a = 1"
   ]
  },
  {
   "cell_type": "code",
   "execution_count": 3,
   "metadata": {},
   "outputs": [
    {
     "data": {
      "text/plain": [
       "1"
      ]
     },
     "execution_count": 3,
     "metadata": {},
     "output_type": "execute_result"
    }
   ],
   "source": [
    "a^2    # The power of 2. Julia seems to prefer LaTeX when it comes to notations!"
   ]
  },
  {
   "cell_type": "markdown",
   "metadata": {},
   "source": [
    "Now, let's make a simple array, and access its elements using indeces. Note, the index of a Julia array starts at 1 (rather than 0, as in C / Python); the last element can be accessed by using index \"end\":"
   ]
  },
  {
   "cell_type": "code",
   "execution_count": 4,
   "metadata": {},
   "outputs": [
    {
     "name": "stdout",
     "output_type": "stream",
     "text": [
      "v's 1st element is 1\n",
      "v's last element is 5\n"
     ]
    }
   ],
   "source": [
    "v = [1, 2, 3, 4, 5]\n",
    "println(\"v's 1st element is \", v[1])\n",
    "println(\"v's last element is \", v[end])"
   ]
  },
  {
   "cell_type": "code",
   "execution_count": 5,
   "metadata": {},
   "outputs": [
    {
     "name": "stdout",
     "output_type": "stream",
     "text": [
      "1\n",
      "121\n",
      "12321\n",
      "1234321\n",
      "123454321\n"
     ]
    }
   ],
   "source": [
    "# Here's a for loop\n",
    "for a in [1, 11, 111, 1111, 11111]\n",
    "    println(a^2)  # print out a square\n",
    "end"
   ]
  },
  {
   "cell_type": "code",
   "execution_count": 6,
   "metadata": {},
   "outputs": [
    {
     "name": "stdout",
     "output_type": "stream",
     "text": [
      "1\n",
      "121\n",
      "12321\n",
      "1234321\n",
      "123454321\n",
      "12345654321\n",
      "1234567654321\n",
      "123456787654321\n",
      "12345678987654321\n"
     ]
    }
   ],
   "source": [
    "# Or, a longer series generated in the loop\n",
    "a=1\n",
    "for i in 1:9  # use a range\n",
    "    println(a^2)\n",
    "    a = 10a + 1 \n",
    "end"
   ]
  },
  {
   "cell_type": "markdown",
   "metadata": {},
   "source": [
    "A frequently used trick is to use an empty array, and push new result into it. IMPORTANT: In Julia, whenever we want a function to change the content of its variable(s), we need to add a \"!\" after the function name! Hence \"push!()\", not \"push()\"."
   ]
  },
  {
   "cell_type": "code",
   "execution_count": 7,
   "metadata": {},
   "outputs": [
    {
     "name": "stdout",
     "output_type": "stream",
     "text": [
      "[1, 121, 12321, 1234321, 123454321, 12345654321, 1234567654321, 123456787654321, 12345678987654321]\n"
     ]
    }
   ],
   "source": [
    "a=1\n",
    "res = Int64[]  # Create an empty array of integers\n",
    "for i in 1:9\n",
    "    push!(res, a*a)  # Append the square number to the array\n",
    "    a = 10a + 1\n",
    "end\n",
    "println(res)  # Here comes a long array"
   ]
  },
  {
   "cell_type": "code",
   "execution_count": 8,
   "metadata": {},
   "outputs": [
    {
     "data": {
      "text/plain": [
       "9-element Vector{Int64}:\n",
       "                 1\n",
       "               121\n",
       "             12321\n",
       "           1234321\n",
       "         123454321\n",
       "       12345654321\n",
       "     1234567654321\n",
       "   123456787654321\n",
       " 12345678987654321"
      ]
     },
     "execution_count": 8,
     "metadata": {},
     "output_type": "execute_result"
    }
   ],
   "source": [
    "# Another simpler implementation, generating strings, then converting strings to numbers\n",
    "astr=[\"1\"^i for i in 1:9]\n",
    "res = parse.(Int, astr).^2"
   ]
  },
  {
   "cell_type": "markdown",
   "metadata": {},
   "source": [
    "Note, in the cell above the \".\" modifiers make the following operation/function to be applied to *every* element of the array - this is called a *broadcast*, a very useful mechanism in Julia.\n",
    "## Part 2 - Arrays\n",
    "Now we work on more vector/array operations. \n",
    "### Norms\n",
    "Let's work out the $\\ell_2$ norm of a vector."
   ]
  },
  {
   "cell_type": "code",
   "execution_count": 9,
   "metadata": {},
   "outputs": [
    {
     "name": "stdout",
     "output_type": "stream",
     "text": [
      "Norm2 of x is 3.0"
     ]
    }
   ],
   "source": [
    "x = [1, 2, 2]\n",
    "print(\"Norm2 of x is \", sqrt(sum(x .* x)))"
   ]
  },
  {
   "cell_type": "markdown",
   "metadata": {},
   "source": [
    "We can use the LinearAlgebra function norm(x, p) to calculate $\\ell_p$. The following code gives the same result as above:"
   ]
  },
  {
   "cell_type": "code",
   "execution_count": 10,
   "metadata": {},
   "outputs": [
    {
     "data": {
      "text/plain": [
       "3.0"
      ]
     },
     "execution_count": 10,
     "metadata": {},
     "output_type": "execute_result"
    }
   ],
   "source": [
    "using LinearAlgebra\n",
    "norm(x)   # default p is 2, giving Euclidean norm"
   ]
  },
  {
   "cell_type": "markdown",
   "metadata": {},
   "source": [
    "Try other Minkowskis $\\ell_1$ and $\\ell_{1/2}$:"
   ]
  },
  {
   "cell_type": "code",
   "execution_count": 11,
   "metadata": {},
   "outputs": [
    {
     "data": {
      "text/plain": [
       "5.0"
      ]
     },
     "execution_count": 11,
     "metadata": {},
     "output_type": "execute_result"
    }
   ],
   "source": [
    "norm(x, 1)"
   ]
  },
  {
   "cell_type": "code",
   "execution_count": 12,
   "metadata": {},
   "outputs": [
    {
     "data": {
      "text/plain": [
       "14.656854249492378"
      ]
     },
     "execution_count": 12,
     "metadata": {},
     "output_type": "execute_result"
    }
   ],
   "source": [
    "norm(x, 0.5)"
   ]
  },
  {
   "cell_type": "markdown",
   "metadata": {},
   "source": [
    "We can write a function for Euclidean norm $(\\sum x_i^2)^{1/2}$:"
   ]
  },
  {
   "cell_type": "code",
   "execution_count": 13,
   "metadata": {},
   "outputs": [
    {
     "data": {
      "text/plain": [
       "my_euclnorm (generic function with 1 method)"
      ]
     },
     "execution_count": 13,
     "metadata": {},
     "output_type": "execute_result"
    }
   ],
   "source": [
    "function my_euclnorm(x)\n",
    "    sum(x.^2)^0.5\n",
    "end"
   ]
  },
  {
   "cell_type": "code",
   "execution_count": 14,
   "metadata": {},
   "outputs": [
    {
     "data": {
      "text/plain": [
       "3.0"
      ]
     },
     "execution_count": 14,
     "metadata": {},
     "output_type": "execute_result"
    }
   ],
   "source": [
    "# test it \n",
    "my_euclnorm(x)"
   ]
  },
  {
   "cell_type": "markdown",
   "metadata": {},
   "source": [
    "**Task 1a:** Write your own function to calculate $\\ell_p$, defined as $(\\sum |x_i|^p)^{1/p}$:"
   ]
  },
  {
   "cell_type": "code",
   "execution_count": 15,
   "metadata": {},
   "outputs": [
    {
     "data": {
      "text/plain": [
       "my_lp (generic function with 1 method)"
      ]
     },
     "execution_count": 15,
     "metadata": {},
     "output_type": "execute_result"
    }
   ],
   "source": [
    "function my_lp(x, p)\n",
    "    (sum((abs.(x)).^p))^(1/p)\n",
    "end"
   ]
  },
  {
   "cell_type": "markdown",
   "metadata": {},
   "source": [
    "**Task 1b:** Test your implementation using the examples above:"
   ]
  },
  {
   "cell_type": "code",
   "execution_count": 16,
   "metadata": {},
   "outputs": [
    {
     "data": {
      "text/plain": [
       "14.656854249492378"
      ]
     },
     "execution_count": 16,
     "metadata": {},
     "output_type": "execute_result"
    }
   ],
   "source": [
    "# testing code\n",
    "my_lp(x, 0.5)"
   ]
  },
  {
   "cell_type": "markdown",
   "metadata": {},
   "source": [
    "Now let's try a matrix, i.e., a 2-D array:"
   ]
  },
  {
   "cell_type": "code",
   "execution_count": 17,
   "metadata": {},
   "outputs": [
    {
     "data": {
      "text/plain": [
       "2×2 Matrix{Int64}:\n",
       " 1  2\n",
       " 3  4"
      ]
     },
     "execution_count": 17,
     "metadata": {},
     "output_type": "execute_result"
    }
   ],
   "source": [
    "A = [1 2; 3 4]"
   ]
  },
  {
   "cell_type": "code",
   "execution_count": 18,
   "metadata": {},
   "outputs": [
    {
     "data": {
      "text/plain": [
       "2-element Vector{Int64}:\n",
       " 1\n",
       " 2"
      ]
     },
     "execution_count": 18,
     "metadata": {},
     "output_type": "execute_result"
    }
   ],
   "source": [
    "A[1, :]  # gives first \"row\" as a column vector"
   ]
  },
  {
   "cell_type": "code",
   "execution_count": 19,
   "metadata": {},
   "outputs": [
    {
     "data": {
      "text/plain": [
       "2-element Vector{Int64}:\n",
       " 2\n",
       " 4"
      ]
     },
     "execution_count": 19,
     "metadata": {},
     "output_type": "execute_result"
    }
   ],
   "source": [
    "A[:, 2]  # gives the 2nd column"
   ]
  },
  {
   "cell_type": "code",
   "execution_count": 20,
   "metadata": {},
   "outputs": [
    {
     "data": {
      "text/plain": [
       "2×2 Matrix{Float64}:\n",
       " -2.0   1.0\n",
       "  1.5  -0.5"
      ]
     },
     "execution_count": 20,
     "metadata": {},
     "output_type": "execute_result"
    }
   ],
   "source": [
    "inv(A) # gives inverse of A"
   ]
  },
  {
   "cell_type": "code",
   "execution_count": 21,
   "metadata": {},
   "outputs": [
    {
     "data": {
      "text/plain": [
       "2×2 Matrix{Float64}:\n",
       " 1.0          0.0\n",
       " 2.22045e-16  1.0"
      ]
     },
     "execution_count": 21,
     "metadata": {},
     "output_type": "execute_result"
    }
   ],
   "source": [
    "inv(A)*A # inv(A) multiplies A of course gives the identity matrix [1.0 0.0; 0.0 1.0]"
   ]
  },
  {
   "cell_type": "code",
   "execution_count": 22,
   "metadata": {},
   "outputs": [
    {
     "data": {
      "text/plain": [
       "5.477225575051661"
      ]
     },
     "execution_count": 22,
     "metadata": {},
     "output_type": "execute_result"
    }
   ],
   "source": [
    "norm(A) # gives the Frobenius norm"
   ]
  },
  {
   "cell_type": "markdown",
   "metadata": {},
   "source": [
    "We can work out the power of matrices, e.g. $A^2$"
   ]
  },
  {
   "cell_type": "code",
   "execution_count": 23,
   "metadata": {},
   "outputs": [
    {
     "data": {
      "text/plain": [
       "2×2 Matrix{Int64}:\n",
       "  7  10\n",
       " 15  22"
      ]
     },
     "execution_count": 23,
     "metadata": {},
     "output_type": "execute_result"
    }
   ],
   "source": [
    "A^2"
   ]
  },
  {
   "cell_type": "markdown",
   "metadata": {},
   "source": [
    "The following example transition probability matrix is taken from Talor & Karlin's book *An Introdution to Statistical Modeling*:"
   ]
  },
  {
   "cell_type": "code",
   "execution_count": 24,
   "metadata": {},
   "outputs": [
    {
     "data": {
      "text/plain": [
       "3×3 Matrix{Float64}:\n",
       " 0.7  0.2  0.1\n",
       " 0.2  0.6  0.2\n",
       " 0.1  0.4  0.5"
      ]
     },
     "execution_count": 24,
     "metadata": {},
     "output_type": "execute_result"
    }
   ],
   "source": [
    "P = [0.7 0.2 0.1;  0.2 0.6 0.2; 0.1 0.4 0.5]   # transition prob."
   ]
  },
  {
   "cell_type": "markdown",
   "metadata": {},
   "source": [
    "In matrix $P$, each row stands for the father's class (for Lower/Middle/Upper Class, respectively), and the column stands for the son's class (Lower/Middle/Upper). Note values on each row add to 1. \n",
    "\n",
    "How to interpret $P$? \\\n",
    "For instance, the probability of a next-generation transition from \"Middle\" (2nd row), to \"Upper\" (3rd column), is P[2,3]=0.2. Likewise, the transition probability from \"Upper\" (3rd row), to \"Lower\" (1st column), is P[3,1]=0.1. \n",
    "Suppose initially a family is of lower class, so we start with an initial status as a row vector v=[1 0 0] (Note: no comma, but spaces!). So we need to calculate a matrix product\n",
    "\n",
    "$ (1 \\ \\ 0 \\ \\ 0) \\left(\\begin{array}{lll}\n",
    "0.7 & 0.2 & 0.1 \\\\\n",
    "0.2 & 0.6 & 0.2 \\\\\n",
    "0.1 & 0.4 & 0.5\n",
    "\\end{array}\n",
    "\\right).$ \n",
    "\n"
   ]
  },
  {
   "cell_type": "code",
   "execution_count": 25,
   "metadata": {},
   "outputs": [
    {
     "data": {
      "text/plain": [
       "1×3 Matrix{Float64}:\n",
       " 0.7  0.2  0.1"
      ]
     },
     "execution_count": 25,
     "metadata": {},
     "output_type": "execute_result"
    }
   ],
   "source": [
    "p = [1 0 0] \n",
    "p*P"
   ]
  },
  {
   "cell_type": "markdown",
   "metadata": {},
   "source": [
    "This means, the next generation is not very certain, but still a quite unfavoured outcome: 70% chance in Lower, 20% Middle, and 10% upper. \n",
    "Let's then calculate the probablistic status after 10 generations:"
   ]
  },
  {
   "cell_type": "code",
   "execution_count": 26,
   "metadata": {},
   "outputs": [
    {
     "data": {
      "text/plain": [
       "1×3 Matrix{Float64}:\n",
       " 0.354317  0.410959  0.234724"
      ]
     },
     "execution_count": 26,
     "metadata": {},
     "output_type": "execute_result"
    }
   ],
   "source": [
    "p*(P^10)"
   ]
  },
  {
   "cell_type": "markdown",
   "metadata": {},
   "source": [
    "Well, that's certainly some social mobility already! \n",
    "\n",
    "**Task 2**: Find out where an upper-class family would likely to be after 30 generations; what about a middle-class?"
   ]
  },
  {
   "cell_type": "code",
   "execution_count": 27,
   "metadata": {},
   "outputs": [
    {
     "name": "stdout",
     "output_type": "stream",
     "text": [
      "Upper after  30 gen.: [\"0.353\" \"0.412\" \"0.235\"]\n",
      "Mid after  30 gen.: [\"0.353\" \"0.412\" \"0.235\"]\n"
     ]
    }
   ],
   "source": [
    "# your code here\n",
    "using Printf\n",
    "p = [0.0 0.0 1.0]*(P^30)\n",
    "println(\"Upper after  30 gen.: \", [@sprintf \"%.3f\" a for a in [0.0 0.0 1.0]*(P^30)])\n",
    "println(\"Mid after  30 gen.: \", [@sprintf \"%.3f\" a for a in [0.0 1.0 0.0]*(P^30)])"
   ]
  },
  {
   "cell_type": "markdown",
   "metadata": {},
   "source": [
    "Note in the above cell, \"Printf\" is used to print out floating numbers in a specified format (with three decimal places). The following gives another example: "
   ]
  },
  {
   "cell_type": "code",
   "execution_count": 28,
   "metadata": {},
   "outputs": [
    {
     "data": {
      "text/plain": [
       "\"3.14159\""
      ]
     },
     "execution_count": 28,
     "metadata": {},
     "output_type": "execute_result"
    }
   ],
   "source": [
    "@sprintf \"%.5f\" π"
   ]
  },
  {
   "cell_type": "markdown",
   "metadata": {},
   "source": [
    "**Comment on your findings:** \n",
    "- Regardless of where a family's social status is, after 30 generations or so they all end up with the same chances to be in upper, middle or lower classes (0.35, 0.41 and 0.24 in probability respectively).\n",
    "- The converged probability vector $p$=[0.35, 0.41, 0.24] is unchanged by its multiplication with P, i.e., $pP=p$, i.e. it gives the stationary distribution of social movement. In Linear Algebra, we say $p$ is the eigenvector of $P$ with an eigenvalue of 1. \n",
    "\n",
    "*Note:* If we fill in P with the transition probabilities between webpages (i.e, by clicking on a certain link from one page goes to the next page), we can use the same mechanism, so-called \"Markov chains\", to model people's web browsing behavious instead of social movement. Based on the stationary distribution of webpages, we can rank the webpages. In fact, this is the essence of the famous PageRank algorithm by Google. "
   ]
  },
  {
   "cell_type": "markdown",
   "metadata": {},
   "source": [
    "## Part 3 - plotting\n",
    "Let's generate some random data and try out a few useful plots. "
   ]
  },
  {
   "cell_type": "code",
   "execution_count": 29,
   "metadata": {},
   "outputs": [],
   "source": [
    "# import Pkg; Pkg.add(\"Plots\")\n",
    "using Plots"
   ]
  },
  {
   "cell_type": "code",
   "execution_count": 30,
   "metadata": {},
   "outputs": [
    {
     "data": {
      "image/svg+xml": [
       "<?xml version=\"1.0\" encoding=\"utf-8\"?>\n",
       "<svg xmlns=\"http://www.w3.org/2000/svg\" xmlns:xlink=\"http://www.w3.org/1999/xlink\" width=\"600\" height=\"400\" viewBox=\"0 0 2400 1600\">\n",
       "<defs>\n",
       "  <clipPath id=\"clip450\">\n",
       "    <rect x=\"0\" y=\"0\" width=\"2400\" height=\"1600\"/>\n",
       "  </clipPath>\n",
       "</defs>\n",
       "<path clip-path=\"url(#clip450)\" d=\"M0 1600 L2400 1600 L2400 0 L0 0  Z\" fill=\"#ffffff\" fill-rule=\"evenodd\" fill-opacity=\"1\"/>\n",
       "<defs>\n",
       "  <clipPath id=\"clip451\">\n",
       "    <rect x=\"480\" y=\"0\" width=\"1681\" height=\"1600\"/>\n",
       "  </clipPath>\n",
       "</defs>\n",
       "<path clip-path=\"url(#clip450)\" d=\"M186.274 1486.45 L2352.76 1486.45 L2352.76 47.2441 L186.274 47.2441  Z\" fill=\"#ffffff\" fill-rule=\"evenodd\" fill-opacity=\"1\"/>\n",
       "<defs>\n",
       "  <clipPath id=\"clip452\">\n",
       "    <rect x=\"186\" y=\"47\" width=\"2167\" height=\"1440\"/>\n",
       "  </clipPath>\n",
       "</defs>\n",
       "<polyline clip-path=\"url(#clip452)\" style=\"stroke:#000000; stroke-linecap:round; stroke-linejoin:round; stroke-width:2; stroke-opacity:0.1; fill:none\" points=\"226.945,1486.45 226.945,47.2441 \"/>\n",
       "<polyline clip-path=\"url(#clip452)\" style=\"stroke:#000000; stroke-linecap:round; stroke-linejoin:round; stroke-width:2; stroke-opacity:0.1; fill:none\" points=\"743.069,1486.45 743.069,47.2441 \"/>\n",
       "<polyline clip-path=\"url(#clip452)\" style=\"stroke:#000000; stroke-linecap:round; stroke-linejoin:round; stroke-width:2; stroke-opacity:0.1; fill:none\" points=\"1259.19,1486.45 1259.19,47.2441 \"/>\n",
       "<polyline clip-path=\"url(#clip452)\" style=\"stroke:#000000; stroke-linecap:round; stroke-linejoin:round; stroke-width:2; stroke-opacity:0.1; fill:none\" points=\"1775.32,1486.45 1775.32,47.2441 \"/>\n",
       "<polyline clip-path=\"url(#clip452)\" style=\"stroke:#000000; stroke-linecap:round; stroke-linejoin:round; stroke-width:2; stroke-opacity:0.1; fill:none\" points=\"2291.44,1486.45 2291.44,47.2441 \"/>\n",
       "<polyline clip-path=\"url(#clip450)\" style=\"stroke:#000000; stroke-linecap:round; stroke-linejoin:round; stroke-width:4; stroke-opacity:1; fill:none\" points=\"186.274,1486.45 2352.76,1486.45 \"/>\n",
       "<polyline clip-path=\"url(#clip450)\" style=\"stroke:#000000; stroke-linecap:round; stroke-linejoin:round; stroke-width:4; stroke-opacity:1; fill:none\" points=\"226.945,1486.45 226.945,1467.55 \"/>\n",
       "<polyline clip-path=\"url(#clip450)\" style=\"stroke:#000000; stroke-linecap:round; stroke-linejoin:round; stroke-width:4; stroke-opacity:1; fill:none\" points=\"743.069,1486.45 743.069,1467.55 \"/>\n",
       "<polyline clip-path=\"url(#clip450)\" style=\"stroke:#000000; stroke-linecap:round; stroke-linejoin:round; stroke-width:4; stroke-opacity:1; fill:none\" points=\"1259.19,1486.45 1259.19,1467.55 \"/>\n",
       "<polyline clip-path=\"url(#clip450)\" style=\"stroke:#000000; stroke-linecap:round; stroke-linejoin:round; stroke-width:4; stroke-opacity:1; fill:none\" points=\"1775.32,1486.45 1775.32,1467.55 \"/>\n",
       "<polyline clip-path=\"url(#clip450)\" style=\"stroke:#000000; stroke-linecap:round; stroke-linejoin:round; stroke-width:4; stroke-opacity:1; fill:none\" points=\"2291.44,1486.45 2291.44,1467.55 \"/>\n",
       "<path clip-path=\"url(#clip450)\" d=\"M226.945 1517.37 Q223.333 1517.37 221.505 1520.93 Q219.699 1524.47 219.699 1531.6 Q219.699 1538.71 221.505 1542.27 Q223.333 1545.82 226.945 1545.82 Q230.579 1545.82 232.384 1542.27 Q234.213 1538.71 234.213 1531.6 Q234.213 1524.47 232.384 1520.93 Q230.579 1517.37 226.945 1517.37 M226.945 1513.66 Q232.755 1513.66 235.81 1518.27 Q238.889 1522.85 238.889 1531.6 Q238.889 1540.33 235.81 1544.94 Q232.755 1549.52 226.945 1549.52 Q221.134 1549.52 218.056 1544.94 Q215 1540.33 215 1531.6 Q215 1522.85 218.056 1518.27 Q221.134 1513.66 226.945 1513.66 Z\" fill=\"#000000\" fill-rule=\"nonzero\" fill-opacity=\"1\" /><path clip-path=\"url(#clip450)\" d=\"M722.339 1544.91 L738.659 1544.91 L738.659 1548.85 L716.714 1548.85 L716.714 1544.91 Q719.377 1542.16 723.96 1537.53 Q728.566 1532.88 729.747 1531.53 Q731.992 1529.01 732.872 1527.27 Q733.775 1525.51 733.775 1523.82 Q733.775 1521.07 731.83 1519.33 Q729.909 1517.6 726.807 1517.6 Q724.608 1517.6 722.154 1518.36 Q719.724 1519.13 716.946 1520.68 L716.946 1515.95 Q719.77 1514.82 722.224 1514.24 Q724.677 1513.66 726.714 1513.66 Q732.085 1513.66 735.279 1516.35 Q738.474 1519.03 738.474 1523.52 Q738.474 1525.65 737.663 1527.57 Q736.876 1529.47 734.77 1532.07 Q734.191 1532.74 731.089 1535.95 Q727.988 1539.15 722.339 1544.91 Z\" fill=\"#000000\" fill-rule=\"nonzero\" fill-opacity=\"1\" /><path clip-path=\"url(#clip450)\" d=\"M748.52 1514.29 L766.876 1514.29 L766.876 1518.22 L752.802 1518.22 L752.802 1526.7 Q753.821 1526.35 754.839 1526.19 Q755.858 1526 756.876 1526 Q762.663 1526 766.043 1529.17 Q769.423 1532.34 769.423 1537.76 Q769.423 1543.34 765.95 1546.44 Q762.478 1549.52 756.159 1549.52 Q753.983 1549.52 751.714 1549.15 Q749.469 1548.78 747.062 1548.04 L747.062 1543.34 Q749.145 1544.47 751.367 1545.03 Q753.589 1545.58 756.066 1545.58 Q760.071 1545.58 762.409 1543.48 Q764.747 1541.37 764.747 1537.76 Q764.747 1534.15 762.409 1532.04 Q760.071 1529.94 756.066 1529.94 Q754.191 1529.94 752.316 1530.35 Q750.464 1530.77 748.52 1531.65 L748.52 1514.29 Z\" fill=\"#000000\" fill-rule=\"nonzero\" fill-opacity=\"1\" /><path clip-path=\"url(#clip450)\" d=\"M1233.89 1514.29 L1252.25 1514.29 L1252.25 1518.22 L1238.17 1518.22 L1238.17 1526.7 Q1239.19 1526.35 1240.21 1526.19 Q1241.23 1526 1242.25 1526 Q1248.04 1526 1251.41 1529.17 Q1254.79 1532.34 1254.79 1537.76 Q1254.79 1543.34 1251.32 1546.44 Q1247.85 1549.52 1241.53 1549.52 Q1239.35 1549.52 1237.09 1549.15 Q1234.84 1548.78 1232.43 1548.04 L1232.43 1543.34 Q1234.52 1544.47 1236.74 1545.03 Q1238.96 1545.58 1241.44 1545.58 Q1245.44 1545.58 1247.78 1543.48 Q1250.12 1541.37 1250.12 1537.76 Q1250.12 1534.15 1247.78 1532.04 Q1245.44 1529.94 1241.44 1529.94 Q1239.56 1529.94 1237.69 1530.35 Q1235.84 1530.77 1233.89 1531.65 L1233.89 1514.29 Z\" fill=\"#000000\" fill-rule=\"nonzero\" fill-opacity=\"1\" /><path clip-path=\"url(#clip450)\" d=\"M1274.01 1517.37 Q1270.4 1517.37 1268.57 1520.93 Q1266.76 1524.47 1266.76 1531.6 Q1266.76 1538.71 1268.57 1542.27 Q1270.4 1545.82 1274.01 1545.82 Q1277.64 1545.82 1279.45 1542.27 Q1281.28 1538.71 1281.28 1531.6 Q1281.28 1524.47 1279.45 1520.93 Q1277.64 1517.37 1274.01 1517.37 M1274.01 1513.66 Q1279.82 1513.66 1282.87 1518.27 Q1285.95 1522.85 1285.95 1531.6 Q1285.95 1540.33 1282.87 1544.94 Q1279.82 1549.52 1274.01 1549.52 Q1268.2 1549.52 1265.12 1544.94 Q1262.06 1540.33 1262.06 1531.6 Q1262.06 1522.85 1265.12 1518.27 Q1268.2 1513.66 1274.01 1513.66 Z\" fill=\"#000000\" fill-rule=\"nonzero\" fill-opacity=\"1\" /><path clip-path=\"url(#clip450)\" d=\"M1749.17 1514.29 L1771.39 1514.29 L1771.39 1516.28 L1758.85 1548.85 L1753.96 1548.85 L1765.77 1518.22 L1749.17 1518.22 L1749.17 1514.29 Z\" fill=\"#000000\" fill-rule=\"nonzero\" fill-opacity=\"1\" /><path clip-path=\"url(#clip450)\" d=\"M1780.56 1514.29 L1798.92 1514.29 L1798.92 1518.22 L1784.84 1518.22 L1784.84 1526.7 Q1785.86 1526.35 1786.88 1526.19 Q1787.9 1526 1788.92 1526 Q1794.7 1526 1798.08 1529.17 Q1801.46 1532.34 1801.46 1537.76 Q1801.46 1543.34 1797.99 1546.44 Q1794.52 1549.52 1788.2 1549.52 Q1786.02 1549.52 1783.75 1549.15 Q1781.51 1548.78 1779.1 1548.04 L1779.1 1543.34 Q1781.18 1544.47 1783.41 1545.03 Q1785.63 1545.58 1788.11 1545.58 Q1792.11 1545.58 1794.45 1543.48 Q1796.79 1541.37 1796.79 1537.76 Q1796.79 1534.15 1794.45 1532.04 Q1792.11 1529.94 1788.11 1529.94 Q1786.23 1529.94 1784.36 1530.35 Q1782.5 1530.77 1780.56 1531.65 L1780.56 1514.29 Z\" fill=\"#000000\" fill-rule=\"nonzero\" fill-opacity=\"1\" /><path clip-path=\"url(#clip450)\" d=\"M2251.05 1544.91 L2258.69 1544.91 L2258.69 1518.55 L2250.38 1520.21 L2250.38 1515.95 L2258.64 1514.29 L2263.32 1514.29 L2263.32 1544.91 L2270.95 1544.91 L2270.95 1548.85 L2251.05 1548.85 L2251.05 1544.91 Z\" fill=\"#000000\" fill-rule=\"nonzero\" fill-opacity=\"1\" /><path clip-path=\"url(#clip450)\" d=\"M2290.4 1517.37 Q2286.79 1517.37 2284.96 1520.93 Q2283.15 1524.47 2283.15 1531.6 Q2283.15 1538.71 2284.96 1542.27 Q2286.79 1545.82 2290.4 1545.82 Q2294.03 1545.82 2295.84 1542.27 Q2297.67 1538.71 2297.67 1531.6 Q2297.67 1524.47 2295.84 1520.93 Q2294.03 1517.37 2290.4 1517.37 M2290.4 1513.66 Q2296.21 1513.66 2299.26 1518.27 Q2302.34 1522.85 2302.34 1531.6 Q2302.34 1540.33 2299.26 1544.94 Q2296.21 1549.52 2290.4 1549.52 Q2284.59 1549.52 2281.51 1544.94 Q2278.45 1540.33 2278.45 1531.6 Q2278.45 1522.85 2281.51 1518.27 Q2284.59 1513.66 2290.4 1513.66 Z\" fill=\"#000000\" fill-rule=\"nonzero\" fill-opacity=\"1\" /><path clip-path=\"url(#clip450)\" d=\"M2320.56 1517.37 Q2316.95 1517.37 2315.12 1520.93 Q2313.32 1524.47 2313.32 1531.6 Q2313.32 1538.71 2315.12 1542.27 Q2316.95 1545.82 2320.56 1545.82 Q2324.19 1545.82 2326 1542.27 Q2327.83 1538.71 2327.83 1531.6 Q2327.83 1524.47 2326 1520.93 Q2324.19 1517.37 2320.56 1517.37 M2320.56 1513.66 Q2326.37 1513.66 2329.43 1518.27 Q2332.5 1522.85 2332.5 1531.6 Q2332.5 1540.33 2329.43 1544.94 Q2326.37 1549.52 2320.56 1549.52 Q2314.75 1549.52 2311.67 1544.94 Q2308.62 1540.33 2308.62 1531.6 Q2308.62 1522.85 2311.67 1518.27 Q2314.75 1513.66 2320.56 1513.66 Z\" fill=\"#000000\" fill-rule=\"nonzero\" fill-opacity=\"1\" /><polyline clip-path=\"url(#clip452)\" style=\"stroke:#000000; stroke-linecap:round; stroke-linejoin:round; stroke-width:2; stroke-opacity:0.1; fill:none\" points=\"186.274,1448.51 2352.76,1448.51 \"/>\n",
       "<polyline clip-path=\"url(#clip452)\" style=\"stroke:#000000; stroke-linecap:round; stroke-linejoin:round; stroke-width:2; stroke-opacity:0.1; fill:none\" points=\"186.274,1107.97 2352.76,1107.97 \"/>\n",
       "<polyline clip-path=\"url(#clip452)\" style=\"stroke:#000000; stroke-linecap:round; stroke-linejoin:round; stroke-width:2; stroke-opacity:0.1; fill:none\" points=\"186.274,767.438 2352.76,767.438 \"/>\n",
       "<polyline clip-path=\"url(#clip452)\" style=\"stroke:#000000; stroke-linecap:round; stroke-linejoin:round; stroke-width:2; stroke-opacity:0.1; fill:none\" points=\"186.274,426.904 2352.76,426.904 \"/>\n",
       "<polyline clip-path=\"url(#clip452)\" style=\"stroke:#000000; stroke-linecap:round; stroke-linejoin:round; stroke-width:2; stroke-opacity:0.1; fill:none\" points=\"186.274,86.3691 2352.76,86.3691 \"/>\n",
       "<polyline clip-path=\"url(#clip450)\" style=\"stroke:#000000; stroke-linecap:round; stroke-linejoin:round; stroke-width:4; stroke-opacity:1; fill:none\" points=\"186.274,1486.45 186.274,47.2441 \"/>\n",
       "<polyline clip-path=\"url(#clip450)\" style=\"stroke:#000000; stroke-linecap:round; stroke-linejoin:round; stroke-width:4; stroke-opacity:1; fill:none\" points=\"186.274,1448.51 205.172,1448.51 \"/>\n",
       "<polyline clip-path=\"url(#clip450)\" style=\"stroke:#000000; stroke-linecap:round; stroke-linejoin:round; stroke-width:4; stroke-opacity:1; fill:none\" points=\"186.274,1107.97 205.172,1107.97 \"/>\n",
       "<polyline clip-path=\"url(#clip450)\" style=\"stroke:#000000; stroke-linecap:round; stroke-linejoin:round; stroke-width:4; stroke-opacity:1; fill:none\" points=\"186.274,767.438 205.172,767.438 \"/>\n",
       "<polyline clip-path=\"url(#clip450)\" style=\"stroke:#000000; stroke-linecap:round; stroke-linejoin:round; stroke-width:4; stroke-opacity:1; fill:none\" points=\"186.274,426.904 205.172,426.904 \"/>\n",
       "<polyline clip-path=\"url(#clip450)\" style=\"stroke:#000000; stroke-linecap:round; stroke-linejoin:round; stroke-width:4; stroke-opacity:1; fill:none\" points=\"186.274,86.3691 205.172,86.3691 \"/>\n",
       "<path clip-path=\"url(#clip450)\" d=\"M62.9365 1434.31 Q59.3254 1434.31 57.4967 1437.87 Q55.6912 1441.41 55.6912 1448.54 Q55.6912 1455.65 57.4967 1459.21 Q59.3254 1462.75 62.9365 1462.75 Q66.5707 1462.75 68.3763 1459.21 Q70.205 1455.65 70.205 1448.54 Q70.205 1441.41 68.3763 1437.87 Q66.5707 1434.31 62.9365 1434.31 M62.9365 1430.6 Q68.7467 1430.6 71.8022 1435.21 Q74.8809 1439.79 74.8809 1448.54 Q74.8809 1457.27 71.8022 1461.88 Q68.7467 1466.46 62.9365 1466.46 Q57.1264 1466.46 54.0477 1461.88 Q50.9921 1457.27 50.9921 1448.54 Q50.9921 1439.79 54.0477 1435.21 Q57.1264 1430.6 62.9365 1430.6 Z\" fill=\"#000000\" fill-rule=\"nonzero\" fill-opacity=\"1\" /><path clip-path=\"url(#clip450)\" d=\"M83.0984 1459.91 L87.9827 1459.91 L87.9827 1465.79 L83.0984 1465.79 L83.0984 1459.91 Z\" fill=\"#000000\" fill-rule=\"nonzero\" fill-opacity=\"1\" /><path clip-path=\"url(#clip450)\" d=\"M108.168 1434.31 Q104.557 1434.31 102.728 1437.87 Q100.922 1441.41 100.922 1448.54 Q100.922 1455.65 102.728 1459.21 Q104.557 1462.75 108.168 1462.75 Q111.802 1462.75 113.608 1459.21 Q115.436 1455.65 115.436 1448.54 Q115.436 1441.41 113.608 1437.87 Q111.802 1434.31 108.168 1434.31 M108.168 1430.6 Q113.978 1430.6 117.033 1435.21 Q120.112 1439.79 120.112 1448.54 Q120.112 1457.27 117.033 1461.88 Q113.978 1466.46 108.168 1466.46 Q102.358 1466.46 99.2789 1461.88 Q96.2234 1457.27 96.2234 1448.54 Q96.2234 1439.79 99.2789 1435.21 Q102.358 1430.6 108.168 1430.6 Z\" fill=\"#000000\" fill-rule=\"nonzero\" fill-opacity=\"1\" /><path clip-path=\"url(#clip450)\" d=\"M138.33 1434.31 Q134.719 1434.31 132.89 1437.87 Q131.084 1441.41 131.084 1448.54 Q131.084 1455.65 132.89 1459.21 Q134.719 1462.75 138.33 1462.75 Q141.964 1462.75 143.769 1459.21 Q145.598 1455.65 145.598 1448.54 Q145.598 1441.41 143.769 1437.87 Q141.964 1434.31 138.33 1434.31 M138.33 1430.6 Q144.14 1430.6 147.195 1435.21 Q150.274 1439.79 150.274 1448.54 Q150.274 1457.27 147.195 1461.88 Q144.14 1466.46 138.33 1466.46 Q132.519 1466.46 129.441 1461.88 Q126.385 1457.27 126.385 1448.54 Q126.385 1439.79 129.441 1435.21 Q132.519 1430.6 138.33 1430.6 Z\" fill=\"#000000\" fill-rule=\"nonzero\" fill-opacity=\"1\" /><path clip-path=\"url(#clip450)\" d=\"M63.9319 1093.77 Q60.3208 1093.77 58.4921 1097.34 Q56.6865 1100.88 56.6865 1108.01 Q56.6865 1115.11 58.4921 1118.68 Q60.3208 1122.22 63.9319 1122.22 Q67.5661 1122.22 69.3717 1118.68 Q71.2004 1115.11 71.2004 1108.01 Q71.2004 1100.88 69.3717 1097.34 Q67.5661 1093.77 63.9319 1093.77 M63.9319 1090.07 Q69.742 1090.07 72.7976 1094.67 Q75.8763 1099.26 75.8763 1108.01 Q75.8763 1116.73 72.7976 1121.34 Q69.742 1125.92 63.9319 1125.92 Q58.1217 1125.92 55.043 1121.34 Q51.9875 1116.73 51.9875 1108.01 Q51.9875 1099.26 55.043 1094.67 Q58.1217 1090.07 63.9319 1090.07 Z\" fill=\"#000000\" fill-rule=\"nonzero\" fill-opacity=\"1\" /><path clip-path=\"url(#clip450)\" d=\"M84.0938 1119.37 L88.978 1119.37 L88.978 1125.25 L84.0938 1125.25 L84.0938 1119.37 Z\" fill=\"#000000\" fill-rule=\"nonzero\" fill-opacity=\"1\" /><path clip-path=\"url(#clip450)\" d=\"M103.191 1121.32 L119.51 1121.32 L119.51 1125.25 L97.566 1125.25 L97.566 1121.32 Q100.228 1118.56 104.811 1113.93 Q109.418 1109.28 110.598 1107.94 Q112.844 1105.41 113.723 1103.68 Q114.626 1101.92 114.626 1100.23 Q114.626 1097.48 112.682 1095.74 Q110.76 1094 107.658 1094 Q105.459 1094 103.006 1094.77 Q100.575 1095.53 97.7974 1097.08 L97.7974 1092.36 Q100.621 1091.23 103.075 1090.65 Q105.529 1090.07 107.566 1090.07 Q112.936 1090.07 116.131 1092.75 Q119.325 1095.44 119.325 1099.93 Q119.325 1102.06 118.515 1103.98 Q117.728 1105.88 115.621 1108.47 Q115.043 1109.14 111.941 1112.36 Q108.839 1115.55 103.191 1121.32 Z\" fill=\"#000000\" fill-rule=\"nonzero\" fill-opacity=\"1\" /><path clip-path=\"url(#clip450)\" d=\"M129.371 1090.69 L147.728 1090.69 L147.728 1094.63 L133.654 1094.63 L133.654 1103.1 Q134.672 1102.75 135.691 1102.59 Q136.709 1102.41 137.728 1102.41 Q143.515 1102.41 146.894 1105.58 Q150.274 1108.75 150.274 1114.16 Q150.274 1119.74 146.802 1122.85 Q143.33 1125.92 137.01 1125.92 Q134.834 1125.92 132.566 1125.55 Q130.32 1125.18 127.913 1124.44 L127.913 1119.74 Q129.996 1120.88 132.219 1121.43 Q134.441 1121.99 136.918 1121.99 Q140.922 1121.99 143.26 1119.88 Q145.598 1117.78 145.598 1114.16 Q145.598 1110.55 143.26 1108.45 Q140.922 1106.34 136.918 1106.34 Q135.043 1106.34 133.168 1106.76 Q131.316 1107.17 129.371 1108.05 L129.371 1090.69 Z\" fill=\"#000000\" fill-rule=\"nonzero\" fill-opacity=\"1\" /><path clip-path=\"url(#clip450)\" d=\"M62.9365 753.237 Q59.3254 753.237 57.4967 756.802 Q55.6912 760.343 55.6912 767.473 Q55.6912 774.579 57.4967 778.144 Q59.3254 781.686 62.9365 781.686 Q66.5707 781.686 68.3763 778.144 Q70.205 774.579 70.205 767.473 Q70.205 760.343 68.3763 756.802 Q66.5707 753.237 62.9365 753.237 M62.9365 749.533 Q68.7467 749.533 71.8022 754.14 Q74.8809 758.723 74.8809 767.473 Q74.8809 776.2 71.8022 780.806 Q68.7467 785.389 62.9365 785.389 Q57.1264 785.389 54.0477 780.806 Q50.9921 776.2 50.9921 767.473 Q50.9921 758.723 54.0477 754.14 Q57.1264 749.533 62.9365 749.533 Z\" fill=\"#000000\" fill-rule=\"nonzero\" fill-opacity=\"1\" /><path clip-path=\"url(#clip450)\" d=\"M83.0984 778.839 L87.9827 778.839 L87.9827 784.718 L83.0984 784.718 L83.0984 778.839 Z\" fill=\"#000000\" fill-rule=\"nonzero\" fill-opacity=\"1\" /><path clip-path=\"url(#clip450)\" d=\"M98.2141 750.158 L116.57 750.158 L116.57 754.093 L102.496 754.093 L102.496 762.566 Q103.515 762.218 104.534 762.056 Q105.552 761.871 106.571 761.871 Q112.358 761.871 115.737 765.042 Q119.117 768.214 119.117 773.63 Q119.117 779.209 115.645 782.311 Q112.172 785.389 105.853 785.389 Q103.677 785.389 101.409 785.019 Q99.1632 784.649 96.7558 783.908 L96.7558 779.209 Q98.8391 780.343 101.061 780.899 Q103.284 781.454 105.76 781.454 Q109.765 781.454 112.103 779.348 Q114.441 777.241 114.441 773.63 Q114.441 770.019 112.103 767.913 Q109.765 765.806 105.76 765.806 Q103.885 765.806 102.01 766.223 Q100.159 766.64 98.2141 767.519 L98.2141 750.158 Z\" fill=\"#000000\" fill-rule=\"nonzero\" fill-opacity=\"1\" /><path clip-path=\"url(#clip450)\" d=\"M138.33 753.237 Q134.719 753.237 132.89 756.802 Q131.084 760.343 131.084 767.473 Q131.084 774.579 132.89 778.144 Q134.719 781.686 138.33 781.686 Q141.964 781.686 143.769 778.144 Q145.598 774.579 145.598 767.473 Q145.598 760.343 143.769 756.802 Q141.964 753.237 138.33 753.237 M138.33 749.533 Q144.14 749.533 147.195 754.14 Q150.274 758.723 150.274 767.473 Q150.274 776.2 147.195 780.806 Q144.14 785.389 138.33 785.389 Q132.519 785.389 129.441 780.806 Q126.385 776.2 126.385 767.473 Q126.385 758.723 129.441 754.14 Q132.519 749.533 138.33 749.533 Z\" fill=\"#000000\" fill-rule=\"nonzero\" fill-opacity=\"1\" /><path clip-path=\"url(#clip450)\" d=\"M63.9319 412.702 Q60.3208 412.702 58.4921 416.267 Q56.6865 419.809 56.6865 426.938 Q56.6865 434.045 58.4921 437.61 Q60.3208 441.151 63.9319 441.151 Q67.5661 441.151 69.3717 437.61 Q71.2004 434.045 71.2004 426.938 Q71.2004 419.809 69.3717 416.267 Q67.5661 412.702 63.9319 412.702 M63.9319 408.999 Q69.742 408.999 72.7976 413.605 Q75.8763 418.188 75.8763 426.938 Q75.8763 435.665 72.7976 440.272 Q69.742 444.855 63.9319 444.855 Q58.1217 444.855 55.043 440.272 Q51.9875 435.665 51.9875 426.938 Q51.9875 418.188 55.043 413.605 Q58.1217 408.999 63.9319 408.999 Z\" fill=\"#000000\" fill-rule=\"nonzero\" fill-opacity=\"1\" /><path clip-path=\"url(#clip450)\" d=\"M84.0938 438.304 L88.978 438.304 L88.978 444.184 L84.0938 444.184 L84.0938 438.304 Z\" fill=\"#000000\" fill-rule=\"nonzero\" fill-opacity=\"1\" /><path clip-path=\"url(#clip450)\" d=\"M97.9826 409.624 L120.205 409.624 L120.205 411.614 L107.658 444.184 L102.774 444.184 L114.58 413.559 L97.9826 413.559 L97.9826 409.624 Z\" fill=\"#000000\" fill-rule=\"nonzero\" fill-opacity=\"1\" /><path clip-path=\"url(#clip450)\" d=\"M129.371 409.624 L147.728 409.624 L147.728 413.559 L133.654 413.559 L133.654 422.031 Q134.672 421.684 135.691 421.522 Q136.709 421.337 137.728 421.337 Q143.515 421.337 146.894 424.508 Q150.274 427.679 150.274 433.096 Q150.274 438.674 146.802 441.776 Q143.33 444.855 137.01 444.855 Q134.834 444.855 132.566 444.485 Q130.32 444.114 127.913 443.373 L127.913 438.674 Q129.996 439.809 132.219 440.364 Q134.441 440.92 136.918 440.92 Q140.922 440.92 143.26 438.813 Q145.598 436.707 145.598 433.096 Q145.598 429.485 143.26 427.378 Q140.922 425.272 136.918 425.272 Q135.043 425.272 133.168 425.688 Q131.316 426.105 129.371 426.985 L129.371 409.624 Z\" fill=\"#000000\" fill-rule=\"nonzero\" fill-opacity=\"1\" /><path clip-path=\"url(#clip450)\" d=\"M53.7467 99.7139 L61.3856 99.7139 L61.3856 73.3483 L53.0754 75.015 L53.0754 70.7557 L61.3393 69.0891 L66.0152 69.0891 L66.0152 99.7139 L73.654 99.7139 L73.654 103.649 L53.7467 103.649 L53.7467 99.7139 Z\" fill=\"#000000\" fill-rule=\"nonzero\" fill-opacity=\"1\" /><path clip-path=\"url(#clip450)\" d=\"M83.0984 97.7695 L87.9827 97.7695 L87.9827 103.649 L83.0984 103.649 L83.0984 97.7695 Z\" fill=\"#000000\" fill-rule=\"nonzero\" fill-opacity=\"1\" /><path clip-path=\"url(#clip450)\" d=\"M108.168 72.1678 Q104.557 72.1678 102.728 75.7326 Q100.922 79.2742 100.922 86.4038 Q100.922 93.5102 102.728 97.075 Q104.557 100.617 108.168 100.617 Q111.802 100.617 113.608 97.075 Q115.436 93.5102 115.436 86.4038 Q115.436 79.2742 113.608 75.7326 Q111.802 72.1678 108.168 72.1678 M108.168 68.4641 Q113.978 68.4641 117.033 73.0705 Q120.112 77.6539 120.112 86.4038 Q120.112 95.1306 117.033 99.7371 Q113.978 104.32 108.168 104.32 Q102.358 104.32 99.2789 99.7371 Q96.2234 95.1306 96.2234 86.4038 Q96.2234 77.6539 99.2789 73.0705 Q102.358 68.4641 108.168 68.4641 Z\" fill=\"#000000\" fill-rule=\"nonzero\" fill-opacity=\"1\" /><path clip-path=\"url(#clip450)\" d=\"M138.33 72.1678 Q134.719 72.1678 132.89 75.7326 Q131.084 79.2742 131.084 86.4038 Q131.084 93.5102 132.89 97.075 Q134.719 100.617 138.33 100.617 Q141.964 100.617 143.769 97.075 Q145.598 93.5102 145.598 86.4038 Q145.598 79.2742 143.769 75.7326 Q141.964 72.1678 138.33 72.1678 M138.33 68.4641 Q144.14 68.4641 147.195 73.0705 Q150.274 77.6539 150.274 86.4038 Q150.274 95.1306 147.195 99.7371 Q144.14 104.32 138.33 104.32 Q132.519 104.32 129.441 99.7371 Q126.385 95.1306 126.385 86.4038 Q126.385 77.6539 129.441 73.0705 Q132.519 68.4641 138.33 68.4641 Z\" fill=\"#000000\" fill-rule=\"nonzero\" fill-opacity=\"1\" /><polyline clip-path=\"url(#clip452)\" style=\"stroke:#009af9; stroke-linecap:round; stroke-linejoin:round; stroke-width:4; stroke-opacity:1; fill:none\" points=\"247.59,270.579 268.234,246.898 288.879,504.402 309.524,1431.82 330.169,696.035 350.814,485.478 371.459,1445.72 392.104,1231.17 412.749,714.572 433.394,98.8572 454.039,556.22 474.684,590.829 495.329,714.516 515.974,932.873 536.619,161.701 557.264,1197.52 577.909,478.524 598.554,1342.17 619.199,1309.08 639.844,263.953 660.489,963.189 681.134,506.239 701.779,966.266 722.424,1229.05 743.069,741.023 763.713,997.609 784.358,1409.71 805.003,750.626 825.648,1191.38 846.293,506.831 866.938,892.649 887.583,1152.1 908.228,663.535 928.873,818.995 949.518,948.499 970.163,295.191 990.808,1373.79 1011.45,1240.2 1032.1,215.248 1052.74,472.355 1073.39,937.573 1094.03,1425.24 1114.68,923.513 1135.32,282.81 1155.97,222.167 1176.61,957.412 1197.26,449.188 1217.9,527.929 1238.55,563.956 1259.19,730.694 1279.84,154.906 1300.48,779.555 1321.13,124.181 1341.77,162.876 1362.42,544.438 1383.06,1138.98 1403.71,198.208 1424.35,833.619 1445,620.946 1465.64,704.891 1486.29,364.961 1506.93,524.075 1527.58,275.372 1548.22,1090.8 1568.87,87.9763 1589.51,945.294 1610.16,402.755 1630.8,997.483 1651.45,1424.38 1672.09,125.919 1692.74,1345.32 1713.38,717.99 1734.03,1274.3 1754.67,905.79 1775.32,1098.52 1795.96,366.803 1816.61,791.039 1837.25,464.007 1857.9,735.909 1878.54,284.133 1899.19,913.789 1919.83,1122.54 1940.48,119.719 1961.12,1089.29 1981.77,910.931 2002.41,203.339 2023.06,635.857 2043.7,145.5 2064.35,158.234 2084.99,819.25 2105.64,181.627 2126.28,197.834 2146.93,600.585 2167.57,1063.92 2188.22,159.159 2208.86,643.844 2229.51,677.221 2250.15,687.139 2270.8,824.621 2291.44,361.458 \"/>\n",
       "</svg>\n"
      ]
     },
     "execution_count": 30,
     "metadata": {},
     "output_type": "execute_result"
    }
   ],
   "source": [
    "# generate 100 random numbers of uniform distribution within [0, 1]\n",
    "a = rand(100)\n",
    "# plot them out\n",
    "plot(a, label=\"\")"
   ]
  },
  {
   "cell_type": "markdown",
   "metadata": {},
   "source": [
    "We can plot out two arrays for comparison. Here's an example:"
   ]
  },
  {
   "cell_type": "code",
   "execution_count": 31,
   "metadata": {},
   "outputs": [
    {
     "data": {
      "image/svg+xml": [
       "<?xml version=\"1.0\" encoding=\"utf-8\"?>\n",
       "<svg xmlns=\"http://www.w3.org/2000/svg\" xmlns:xlink=\"http://www.w3.org/1999/xlink\" width=\"600\" height=\"400\" viewBox=\"0 0 2400 1600\">\n",
       "<defs>\n",
       "  <clipPath id=\"clip490\">\n",
       "    <rect x=\"0\" y=\"0\" width=\"2400\" height=\"1600\"/>\n",
       "  </clipPath>\n",
       "</defs>\n",
       "<path clip-path=\"url(#clip490)\" d=\"M0 1600 L2400 1600 L2400 0 L0 0  Z\" fill=\"#ffffff\" fill-rule=\"evenodd\" fill-opacity=\"1\"/>\n",
       "<defs>\n",
       "  <clipPath id=\"clip491\">\n",
       "    <rect x=\"480\" y=\"0\" width=\"1681\" height=\"1600\"/>\n",
       "  </clipPath>\n",
       "</defs>\n",
       "<path clip-path=\"url(#clip490)\" d=\"M223.103 1486.45 L2352.76 1486.45 L2352.76 47.2441 L223.103 47.2441  Z\" fill=\"#ffffff\" fill-rule=\"evenodd\" fill-opacity=\"1\"/>\n",
       "<defs>\n",
       "  <clipPath id=\"clip492\">\n",
       "    <rect x=\"223\" y=\"47\" width=\"2131\" height=\"1440\"/>\n",
       "  </clipPath>\n",
       "</defs>\n",
       "<polyline clip-path=\"url(#clip492)\" style=\"stroke:#000000; stroke-linecap:round; stroke-linejoin:round; stroke-width:2; stroke-opacity:0.1; fill:none\" points=\"263.082,1486.45 263.082,47.2441 \"/>\n",
       "<polyline clip-path=\"url(#clip492)\" style=\"stroke:#000000; stroke-linecap:round; stroke-linejoin:round; stroke-width:2; stroke-opacity:0.1; fill:none\" points=\"770.432,1486.45 770.432,47.2441 \"/>\n",
       "<polyline clip-path=\"url(#clip492)\" style=\"stroke:#000000; stroke-linecap:round; stroke-linejoin:round; stroke-width:2; stroke-opacity:0.1; fill:none\" points=\"1277.78,1486.45 1277.78,47.2441 \"/>\n",
       "<polyline clip-path=\"url(#clip492)\" style=\"stroke:#000000; stroke-linecap:round; stroke-linejoin:round; stroke-width:2; stroke-opacity:0.1; fill:none\" points=\"1785.13,1486.45 1785.13,47.2441 \"/>\n",
       "<polyline clip-path=\"url(#clip492)\" style=\"stroke:#000000; stroke-linecap:round; stroke-linejoin:round; stroke-width:2; stroke-opacity:0.1; fill:none\" points=\"2292.48,1486.45 2292.48,47.2441 \"/>\n",
       "<polyline clip-path=\"url(#clip490)\" style=\"stroke:#000000; stroke-linecap:round; stroke-linejoin:round; stroke-width:4; stroke-opacity:1; fill:none\" points=\"223.103,1486.45 2352.76,1486.45 \"/>\n",
       "<polyline clip-path=\"url(#clip490)\" style=\"stroke:#000000; stroke-linecap:round; stroke-linejoin:round; stroke-width:4; stroke-opacity:1; fill:none\" points=\"263.082,1486.45 263.082,1467.55 \"/>\n",
       "<polyline clip-path=\"url(#clip490)\" style=\"stroke:#000000; stroke-linecap:round; stroke-linejoin:round; stroke-width:4; stroke-opacity:1; fill:none\" points=\"770.432,1486.45 770.432,1467.55 \"/>\n",
       "<polyline clip-path=\"url(#clip490)\" style=\"stroke:#000000; stroke-linecap:round; stroke-linejoin:round; stroke-width:4; stroke-opacity:1; fill:none\" points=\"1277.78,1486.45 1277.78,1467.55 \"/>\n",
       "<polyline clip-path=\"url(#clip490)\" style=\"stroke:#000000; stroke-linecap:round; stroke-linejoin:round; stroke-width:4; stroke-opacity:1; fill:none\" points=\"1785.13,1486.45 1785.13,1467.55 \"/>\n",
       "<polyline clip-path=\"url(#clip490)\" style=\"stroke:#000000; stroke-linecap:round; stroke-linejoin:round; stroke-width:4; stroke-opacity:1; fill:none\" points=\"2292.48,1486.45 2292.48,1467.55 \"/>\n",
       "<path clip-path=\"url(#clip490)\" d=\"M263.082 1517.37 Q259.471 1517.37 257.642 1520.93 Q255.836 1524.47 255.836 1531.6 Q255.836 1538.71 257.642 1542.27 Q259.471 1545.82 263.082 1545.82 Q266.716 1545.82 268.521 1542.27 Q270.35 1538.71 270.35 1531.6 Q270.35 1524.47 268.521 1520.93 Q266.716 1517.37 263.082 1517.37 M263.082 1513.66 Q268.892 1513.66 271.947 1518.27 Q275.026 1522.85 275.026 1531.6 Q275.026 1540.33 271.947 1544.94 Q268.892 1549.52 263.082 1549.52 Q257.272 1549.52 254.193 1544.94 Q251.137 1540.33 251.137 1531.6 Q251.137 1522.85 254.193 1518.27 Q257.272 1513.66 263.082 1513.66 Z\" fill=\"#000000\" fill-rule=\"nonzero\" fill-opacity=\"1\" /><path clip-path=\"url(#clip490)\" d=\"M749.703 1544.91 L766.022 1544.91 L766.022 1548.85 L744.078 1548.85 L744.078 1544.91 Q746.74 1542.16 751.323 1537.53 Q755.93 1532.88 757.11 1531.53 Q759.356 1529.01 760.235 1527.27 Q761.138 1525.51 761.138 1523.82 Q761.138 1521.07 759.194 1519.33 Q757.272 1517.6 754.17 1517.6 Q751.971 1517.6 749.518 1518.36 Q747.087 1519.13 744.309 1520.68 L744.309 1515.95 Q747.133 1514.82 749.587 1514.24 Q752.041 1513.66 754.078 1513.66 Q759.448 1513.66 762.643 1516.35 Q765.837 1519.03 765.837 1523.52 Q765.837 1525.65 765.027 1527.57 Q764.24 1529.47 762.133 1532.07 Q761.555 1532.74 758.453 1535.95 Q755.351 1539.15 749.703 1544.91 Z\" fill=\"#000000\" fill-rule=\"nonzero\" fill-opacity=\"1\" /><path clip-path=\"url(#clip490)\" d=\"M775.883 1514.29 L794.24 1514.29 L794.24 1518.22 L780.166 1518.22 L780.166 1526.7 Q781.184 1526.35 782.203 1526.19 Q783.221 1526 784.24 1526 Q790.027 1526 793.406 1529.17 Q796.786 1532.34 796.786 1537.76 Q796.786 1543.34 793.314 1546.44 Q789.842 1549.52 783.522 1549.52 Q781.346 1549.52 779.078 1549.15 Q776.832 1548.78 774.425 1548.04 L774.425 1543.34 Q776.508 1544.47 778.731 1545.03 Q780.953 1545.58 783.43 1545.58 Q787.434 1545.58 789.772 1543.48 Q792.11 1541.37 792.11 1537.76 Q792.11 1534.15 789.772 1532.04 Q787.434 1529.94 783.43 1529.94 Q781.555 1529.94 779.68 1530.35 Q777.828 1530.77 775.883 1531.65 L775.883 1514.29 Z\" fill=\"#000000\" fill-rule=\"nonzero\" fill-opacity=\"1\" /><path clip-path=\"url(#clip490)\" d=\"M1252.48 1514.29 L1270.84 1514.29 L1270.84 1518.22 L1256.76 1518.22 L1256.76 1526.7 Q1257.78 1526.35 1258.8 1526.19 Q1259.82 1526 1260.84 1526 Q1266.62 1526 1270 1529.17 Q1273.38 1532.34 1273.38 1537.76 Q1273.38 1543.34 1269.91 1546.44 Q1266.44 1549.52 1260.12 1549.52 Q1257.94 1549.52 1255.68 1549.15 Q1253.43 1548.78 1251.02 1548.04 L1251.02 1543.34 Q1253.11 1544.47 1255.33 1545.03 Q1257.55 1545.58 1260.03 1545.58 Q1264.03 1545.58 1266.37 1543.48 Q1268.71 1541.37 1268.71 1537.76 Q1268.71 1534.15 1266.37 1532.04 Q1264.03 1529.94 1260.03 1529.94 Q1258.15 1529.94 1256.28 1530.35 Q1254.43 1530.77 1252.48 1531.65 L1252.48 1514.29 Z\" fill=\"#000000\" fill-rule=\"nonzero\" fill-opacity=\"1\" /><path clip-path=\"url(#clip490)\" d=\"M1292.6 1517.37 Q1288.99 1517.37 1287.16 1520.93 Q1285.35 1524.47 1285.35 1531.6 Q1285.35 1538.71 1287.16 1542.27 Q1288.99 1545.82 1292.6 1545.82 Q1296.23 1545.82 1298.04 1542.27 Q1299.87 1538.71 1299.87 1531.6 Q1299.87 1524.47 1298.04 1520.93 Q1296.23 1517.37 1292.6 1517.37 M1292.6 1513.66 Q1298.41 1513.66 1301.46 1518.27 Q1304.54 1522.85 1304.54 1531.6 Q1304.54 1540.33 1301.46 1544.94 Q1298.41 1549.52 1292.6 1549.52 Q1286.79 1549.52 1283.71 1544.94 Q1280.65 1540.33 1280.65 1531.6 Q1280.65 1522.85 1283.71 1518.27 Q1286.79 1513.66 1292.6 1513.66 Z\" fill=\"#000000\" fill-rule=\"nonzero\" fill-opacity=\"1\" /><path clip-path=\"url(#clip490)\" d=\"M1758.99 1514.29 L1781.21 1514.29 L1781.21 1516.28 L1768.66 1548.85 L1763.78 1548.85 L1775.58 1518.22 L1758.99 1518.22 L1758.99 1514.29 Z\" fill=\"#000000\" fill-rule=\"nonzero\" fill-opacity=\"1\" /><path clip-path=\"url(#clip490)\" d=\"M1790.38 1514.29 L1808.73 1514.29 L1808.73 1518.22 L1794.66 1518.22 L1794.66 1526.7 Q1795.68 1526.35 1796.69 1526.19 Q1797.71 1526 1798.73 1526 Q1804.52 1526 1807.9 1529.17 Q1811.28 1532.34 1811.28 1537.76 Q1811.28 1543.34 1807.81 1546.44 Q1804.33 1549.52 1798.01 1549.52 Q1795.84 1549.52 1793.57 1549.15 Q1791.32 1548.78 1788.92 1548.04 L1788.92 1543.34 Q1791 1544.47 1793.22 1545.03 Q1795.44 1545.58 1797.92 1545.58 Q1801.93 1545.58 1804.26 1543.48 Q1806.6 1541.37 1806.6 1537.76 Q1806.6 1534.15 1804.26 1532.04 Q1801.93 1529.94 1797.92 1529.94 Q1796.05 1529.94 1794.17 1530.35 Q1792.32 1530.77 1790.38 1531.65 L1790.38 1514.29 Z\" fill=\"#000000\" fill-rule=\"nonzero\" fill-opacity=\"1\" /><path clip-path=\"url(#clip490)\" d=\"M2252.09 1544.91 L2259.73 1544.91 L2259.73 1518.55 L2251.42 1520.21 L2251.42 1515.95 L2259.68 1514.29 L2264.36 1514.29 L2264.36 1544.91 L2272 1544.91 L2272 1548.85 L2252.09 1548.85 L2252.09 1544.91 Z\" fill=\"#000000\" fill-rule=\"nonzero\" fill-opacity=\"1\" /><path clip-path=\"url(#clip490)\" d=\"M2291.44 1517.37 Q2287.83 1517.37 2286 1520.93 Q2284.2 1524.47 2284.2 1531.6 Q2284.2 1538.71 2286 1542.27 Q2287.83 1545.82 2291.44 1545.82 Q2295.08 1545.82 2296.88 1542.27 Q2298.71 1538.71 2298.71 1531.6 Q2298.71 1524.47 2296.88 1520.93 Q2295.08 1517.37 2291.44 1517.37 M2291.44 1513.66 Q2297.25 1513.66 2300.31 1518.27 Q2303.39 1522.85 2303.39 1531.6 Q2303.39 1540.33 2300.31 1544.94 Q2297.25 1549.52 2291.44 1549.52 Q2285.63 1549.52 2282.55 1544.94 Q2279.5 1540.33 2279.5 1531.6 Q2279.5 1522.85 2282.55 1518.27 Q2285.63 1513.66 2291.44 1513.66 Z\" fill=\"#000000\" fill-rule=\"nonzero\" fill-opacity=\"1\" /><path clip-path=\"url(#clip490)\" d=\"M2321.6 1517.37 Q2317.99 1517.37 2316.16 1520.93 Q2314.36 1524.47 2314.36 1531.6 Q2314.36 1538.71 2316.16 1542.27 Q2317.99 1545.82 2321.6 1545.82 Q2325.24 1545.82 2327.04 1542.27 Q2328.87 1538.71 2328.87 1531.6 Q2328.87 1524.47 2327.04 1520.93 Q2325.24 1517.37 2321.6 1517.37 M2321.6 1513.66 Q2327.41 1513.66 2330.47 1518.27 Q2333.55 1522.85 2333.55 1531.6 Q2333.55 1540.33 2330.47 1544.94 Q2327.41 1549.52 2321.6 1549.52 Q2315.79 1549.52 2312.71 1544.94 Q2309.66 1540.33 2309.66 1531.6 Q2309.66 1522.85 2312.71 1518.27 Q2315.79 1513.66 2321.6 1513.66 Z\" fill=\"#000000\" fill-rule=\"nonzero\" fill-opacity=\"1\" /><polyline clip-path=\"url(#clip492)\" style=\"stroke:#000000; stroke-linecap:round; stroke-linejoin:round; stroke-width:2; stroke-opacity:0.1; fill:none\" points=\"223.103,1407.39 2352.76,1407.39 \"/>\n",
       "<polyline clip-path=\"url(#clip492)\" style=\"stroke:#000000; stroke-linecap:round; stroke-linejoin:round; stroke-width:2; stroke-opacity:0.1; fill:none\" points=\"223.103,1201.63 2352.76,1201.63 \"/>\n",
       "<polyline clip-path=\"url(#clip492)\" style=\"stroke:#000000; stroke-linecap:round; stroke-linejoin:round; stroke-width:2; stroke-opacity:0.1; fill:none\" points=\"223.103,995.865 2352.76,995.865 \"/>\n",
       "<polyline clip-path=\"url(#clip492)\" style=\"stroke:#000000; stroke-linecap:round; stroke-linejoin:round; stroke-width:2; stroke-opacity:0.1; fill:none\" points=\"223.103,790.102 2352.76,790.102 \"/>\n",
       "<polyline clip-path=\"url(#clip492)\" style=\"stroke:#000000; stroke-linecap:round; stroke-linejoin:round; stroke-width:2; stroke-opacity:0.1; fill:none\" points=\"223.103,584.339 2352.76,584.339 \"/>\n",
       "<polyline clip-path=\"url(#clip492)\" style=\"stroke:#000000; stroke-linecap:round; stroke-linejoin:round; stroke-width:2; stroke-opacity:0.1; fill:none\" points=\"223.103,378.576 2352.76,378.576 \"/>\n",
       "<polyline clip-path=\"url(#clip492)\" style=\"stroke:#000000; stroke-linecap:round; stroke-linejoin:round; stroke-width:2; stroke-opacity:0.1; fill:none\" points=\"223.103,172.814 2352.76,172.814 \"/>\n",
       "<polyline clip-path=\"url(#clip490)\" style=\"stroke:#000000; stroke-linecap:round; stroke-linejoin:round; stroke-width:4; stroke-opacity:1; fill:none\" points=\"223.103,1486.45 223.103,47.2441 \"/>\n",
       "<polyline clip-path=\"url(#clip490)\" style=\"stroke:#000000; stroke-linecap:round; stroke-linejoin:round; stroke-width:4; stroke-opacity:1; fill:none\" points=\"223.103,1407.39 242,1407.39 \"/>\n",
       "<polyline clip-path=\"url(#clip490)\" style=\"stroke:#000000; stroke-linecap:round; stroke-linejoin:round; stroke-width:4; stroke-opacity:1; fill:none\" points=\"223.103,1201.63 242,1201.63 \"/>\n",
       "<polyline clip-path=\"url(#clip490)\" style=\"stroke:#000000; stroke-linecap:round; stroke-linejoin:round; stroke-width:4; stroke-opacity:1; fill:none\" points=\"223.103,995.865 242,995.865 \"/>\n",
       "<polyline clip-path=\"url(#clip490)\" style=\"stroke:#000000; stroke-linecap:round; stroke-linejoin:round; stroke-width:4; stroke-opacity:1; fill:none\" points=\"223.103,790.102 242,790.102 \"/>\n",
       "<polyline clip-path=\"url(#clip490)\" style=\"stroke:#000000; stroke-linecap:round; stroke-linejoin:round; stroke-width:4; stroke-opacity:1; fill:none\" points=\"223.103,584.339 242,584.339 \"/>\n",
       "<polyline clip-path=\"url(#clip490)\" style=\"stroke:#000000; stroke-linecap:round; stroke-linejoin:round; stroke-width:4; stroke-opacity:1; fill:none\" points=\"223.103,378.576 242,378.576 \"/>\n",
       "<polyline clip-path=\"url(#clip490)\" style=\"stroke:#000000; stroke-linecap:round; stroke-linejoin:round; stroke-width:4; stroke-opacity:1; fill:none\" points=\"223.103,172.814 242,172.814 \"/>\n",
       "<path clip-path=\"url(#clip490)\" d=\"M50.9921 1407.84 L80.6679 1407.84 L80.6679 1411.78 L50.9921 1411.78 L50.9921 1407.84 Z\" fill=\"#000000\" fill-rule=\"nonzero\" fill-opacity=\"1\" /><path clip-path=\"url(#clip490)\" d=\"M100.76 1393.19 Q97.1493 1393.19 95.3206 1396.75 Q93.515 1400.3 93.515 1407.42 Q93.515 1414.53 95.3206 1418.1 Q97.1493 1421.64 100.76 1421.64 Q104.395 1421.64 106.2 1418.1 Q108.029 1414.53 108.029 1407.42 Q108.029 1400.3 106.2 1396.75 Q104.395 1393.19 100.76 1393.19 M100.76 1389.49 Q106.571 1389.49 109.626 1394.09 Q112.705 1398.67 112.705 1407.42 Q112.705 1416.15 109.626 1420.76 Q106.571 1425.34 100.76 1425.34 Q94.9502 1425.34 91.8715 1420.76 Q88.816 1416.15 88.816 1407.42 Q88.816 1398.67 91.8715 1394.09 Q94.9502 1389.49 100.76 1389.49 Z\" fill=\"#000000\" fill-rule=\"nonzero\" fill-opacity=\"1\" /><path clip-path=\"url(#clip490)\" d=\"M120.922 1418.79 L125.807 1418.79 L125.807 1424.67 L120.922 1424.67 L120.922 1418.79 Z\" fill=\"#000000\" fill-rule=\"nonzero\" fill-opacity=\"1\" /><path clip-path=\"url(#clip490)\" d=\"M140.019 1420.73 L156.339 1420.73 L156.339 1424.67 L134.394 1424.67 L134.394 1420.73 Q137.056 1417.98 141.64 1413.35 Q146.246 1408.7 147.427 1407.36 Q149.672 1404.83 150.552 1403.1 Q151.455 1401.34 151.455 1399.65 Q151.455 1396.89 149.51 1395.16 Q147.589 1393.42 144.487 1393.42 Q142.288 1393.42 139.834 1394.18 Q137.404 1394.95 134.626 1396.5 L134.626 1391.78 Q137.45 1390.64 139.904 1390.06 Q142.357 1389.49 144.394 1389.49 Q149.765 1389.49 152.959 1392.17 Q156.154 1394.86 156.154 1399.35 Q156.154 1401.48 155.343 1403.4 Q154.556 1405.3 152.45 1407.89 Q151.871 1408.56 148.769 1411.78 Q145.668 1414.97 140.019 1420.73 Z\" fill=\"#000000\" fill-rule=\"nonzero\" fill-opacity=\"1\" /><path clip-path=\"url(#clip490)\" d=\"M166.2 1390.11 L184.556 1390.11 L184.556 1394.05 L170.482 1394.05 L170.482 1402.52 Q171.501 1402.17 172.519 1402.01 Q173.538 1401.82 174.556 1401.82 Q180.343 1401.82 183.723 1404.99 Q187.103 1408.17 187.103 1413.58 Q187.103 1419.16 183.63 1422.26 Q180.158 1425.34 173.839 1425.34 Q171.663 1425.34 169.394 1424.97 Q167.149 1424.6 164.742 1423.86 L164.742 1419.16 Q166.825 1420.3 169.047 1420.85 Q171.269 1421.41 173.746 1421.41 Q177.751 1421.41 180.089 1419.3 Q182.427 1417.19 182.427 1413.58 Q182.427 1409.97 180.089 1407.86 Q177.751 1405.76 173.746 1405.76 Q171.871 1405.76 169.996 1406.17 Q168.144 1406.59 166.2 1407.47 L166.2 1390.11 Z\" fill=\"#000000\" fill-rule=\"nonzero\" fill-opacity=\"1\" /><path clip-path=\"url(#clip490)\" d=\"M99.765 1187.43 Q96.1539 1187.43 94.3252 1190.99 Q92.5197 1194.53 92.5197 1201.66 Q92.5197 1208.77 94.3252 1212.33 Q96.1539 1215.87 99.765 1215.87 Q103.399 1215.87 105.205 1212.33 Q107.033 1208.77 107.033 1201.66 Q107.033 1194.53 105.205 1190.99 Q103.399 1187.43 99.765 1187.43 M99.765 1183.72 Q105.575 1183.72 108.631 1188.33 Q111.709 1192.91 111.709 1201.66 Q111.709 1210.39 108.631 1215 Q105.575 1219.58 99.765 1219.58 Q93.9549 1219.58 90.8762 1215 Q87.8206 1210.39 87.8206 1201.66 Q87.8206 1192.91 90.8762 1188.33 Q93.9549 1183.72 99.765 1183.72 Z\" fill=\"#000000\" fill-rule=\"nonzero\" fill-opacity=\"1\" /><path clip-path=\"url(#clip490)\" d=\"M119.927 1213.03 L124.811 1213.03 L124.811 1218.91 L119.927 1218.91 L119.927 1213.03 Z\" fill=\"#000000\" fill-rule=\"nonzero\" fill-opacity=\"1\" /><path clip-path=\"url(#clip490)\" d=\"M144.996 1187.43 Q141.385 1187.43 139.556 1190.99 Q137.751 1194.53 137.751 1201.66 Q137.751 1208.77 139.556 1212.33 Q141.385 1215.87 144.996 1215.87 Q148.63 1215.87 150.436 1212.33 Q152.265 1208.77 152.265 1201.66 Q152.265 1194.53 150.436 1190.99 Q148.63 1187.43 144.996 1187.43 M144.996 1183.72 Q150.806 1183.72 153.862 1188.33 Q156.941 1192.91 156.941 1201.66 Q156.941 1210.39 153.862 1215 Q150.806 1219.58 144.996 1219.58 Q139.186 1219.58 136.107 1215 Q133.052 1210.39 133.052 1201.66 Q133.052 1192.91 136.107 1188.33 Q139.186 1183.72 144.996 1183.72 Z\" fill=\"#000000\" fill-rule=\"nonzero\" fill-opacity=\"1\" /><path clip-path=\"url(#clip490)\" d=\"M175.158 1187.43 Q171.547 1187.43 169.718 1190.99 Q167.913 1194.53 167.913 1201.66 Q167.913 1208.77 169.718 1212.33 Q171.547 1215.87 175.158 1215.87 Q178.792 1215.87 180.598 1212.33 Q182.427 1208.77 182.427 1201.66 Q182.427 1194.53 180.598 1190.99 Q178.792 1187.43 175.158 1187.43 M175.158 1183.72 Q180.968 1183.72 184.024 1188.33 Q187.103 1192.91 187.103 1201.66 Q187.103 1210.39 184.024 1215 Q180.968 1219.58 175.158 1219.58 Q169.348 1219.58 166.269 1215 Q163.214 1210.39 163.214 1201.66 Q163.214 1192.91 166.269 1188.33 Q169.348 1183.72 175.158 1183.72 Z\" fill=\"#000000\" fill-rule=\"nonzero\" fill-opacity=\"1\" /><path clip-path=\"url(#clip490)\" d=\"M100.76 981.663 Q97.1493 981.663 95.3206 985.228 Q93.515 988.77 93.515 995.899 Q93.515 1003.01 95.3206 1006.57 Q97.1493 1010.11 100.76 1010.11 Q104.395 1010.11 106.2 1006.57 Q108.029 1003.01 108.029 995.899 Q108.029 988.77 106.2 985.228 Q104.395 981.663 100.76 981.663 M100.76 977.96 Q106.571 977.96 109.626 982.566 Q112.705 987.149 112.705 995.899 Q112.705 1004.63 109.626 1009.23 Q106.571 1013.82 100.76 1013.82 Q94.9502 1013.82 91.8715 1009.23 Q88.816 1004.63 88.816 995.899 Q88.816 987.149 91.8715 982.566 Q94.9502 977.96 100.76 977.96 Z\" fill=\"#000000\" fill-rule=\"nonzero\" fill-opacity=\"1\" /><path clip-path=\"url(#clip490)\" d=\"M120.922 1007.26 L125.807 1007.26 L125.807 1013.14 L120.922 1013.14 L120.922 1007.26 Z\" fill=\"#000000\" fill-rule=\"nonzero\" fill-opacity=\"1\" /><path clip-path=\"url(#clip490)\" d=\"M140.019 1009.21 L156.339 1009.21 L156.339 1013.14 L134.394 1013.14 L134.394 1009.21 Q137.056 1006.45 141.64 1001.83 Q146.246 997.172 147.427 995.83 Q149.672 993.307 150.552 991.571 Q151.455 989.811 151.455 988.122 Q151.455 985.367 149.51 983.631 Q147.589 981.895 144.487 981.895 Q142.288 981.895 139.834 982.659 Q137.404 983.422 134.626 984.973 L134.626 980.251 Q137.45 979.117 139.904 978.538 Q142.357 977.96 144.394 977.96 Q149.765 977.96 152.959 980.645 Q156.154 983.33 156.154 987.821 Q156.154 989.95 155.343 991.872 Q154.556 993.77 152.45 996.362 Q151.871 997.034 148.769 1000.25 Q145.668 1003.45 140.019 1009.21 Z\" fill=\"#000000\" fill-rule=\"nonzero\" fill-opacity=\"1\" /><path clip-path=\"url(#clip490)\" d=\"M166.2 978.585 L184.556 978.585 L184.556 982.52 L170.482 982.52 L170.482 990.992 Q171.501 990.645 172.519 990.483 Q173.538 990.297 174.556 990.297 Q180.343 990.297 183.723 993.469 Q187.103 996.64 187.103 1002.06 Q187.103 1007.64 183.63 1010.74 Q180.158 1013.82 173.839 1013.82 Q171.663 1013.82 169.394 1013.45 Q167.149 1013.08 164.742 1012.33 L164.742 1007.64 Q166.825 1008.77 169.047 1009.33 Q171.269 1009.88 173.746 1009.88 Q177.751 1009.88 180.089 1007.77 Q182.427 1005.67 182.427 1002.06 Q182.427 998.446 180.089 996.339 Q177.751 994.233 173.746 994.233 Q171.871 994.233 169.996 994.649 Q168.144 995.066 166.2 995.946 L166.2 978.585 Z\" fill=\"#000000\" fill-rule=\"nonzero\" fill-opacity=\"1\" /><path clip-path=\"url(#clip490)\" d=\"M99.765 775.9 Q96.1539 775.9 94.3252 779.465 Q92.5197 783.007 92.5197 790.137 Q92.5197 797.243 94.3252 800.808 Q96.1539 804.349 99.765 804.349 Q103.399 804.349 105.205 800.808 Q107.033 797.243 107.033 790.137 Q107.033 783.007 105.205 779.465 Q103.399 775.9 99.765 775.9 M99.765 772.197 Q105.575 772.197 108.631 776.803 Q111.709 781.387 111.709 790.137 Q111.709 798.863 108.631 803.47 Q105.575 808.053 99.765 808.053 Q93.9549 808.053 90.8762 803.47 Q87.8206 798.863 87.8206 790.137 Q87.8206 781.387 90.8762 776.803 Q93.9549 772.197 99.765 772.197 Z\" fill=\"#000000\" fill-rule=\"nonzero\" fill-opacity=\"1\" /><path clip-path=\"url(#clip490)\" d=\"M119.927 801.502 L124.811 801.502 L124.811 807.382 L119.927 807.382 L119.927 801.502 Z\" fill=\"#000000\" fill-rule=\"nonzero\" fill-opacity=\"1\" /><path clip-path=\"url(#clip490)\" d=\"M135.043 772.822 L153.399 772.822 L153.399 776.757 L139.325 776.757 L139.325 785.229 Q140.343 784.882 141.362 784.72 Q142.381 784.535 143.399 784.535 Q149.186 784.535 152.566 787.706 Q155.945 790.877 155.945 796.294 Q155.945 801.873 152.473 804.974 Q149.001 808.053 142.681 808.053 Q140.506 808.053 138.237 807.683 Q135.992 807.312 133.584 806.572 L133.584 801.873 Q135.668 803.007 137.89 803.562 Q140.112 804.118 142.589 804.118 Q146.593 804.118 148.931 802.011 Q151.269 799.905 151.269 796.294 Q151.269 792.683 148.931 790.576 Q146.593 788.47 142.589 788.47 Q140.714 788.47 138.839 788.887 Q136.987 789.303 135.043 790.183 L135.043 772.822 Z\" fill=\"#000000\" fill-rule=\"nonzero\" fill-opacity=\"1\" /><path clip-path=\"url(#clip490)\" d=\"M175.158 775.9 Q171.547 775.9 169.718 779.465 Q167.913 783.007 167.913 790.137 Q167.913 797.243 169.718 800.808 Q171.547 804.349 175.158 804.349 Q178.792 804.349 180.598 800.808 Q182.427 797.243 182.427 790.137 Q182.427 783.007 180.598 779.465 Q178.792 775.9 175.158 775.9 M175.158 772.197 Q180.968 772.197 184.024 776.803 Q187.103 781.387 187.103 790.137 Q187.103 798.863 184.024 803.47 Q180.968 808.053 175.158 808.053 Q169.348 808.053 166.269 803.47 Q163.214 798.863 163.214 790.137 Q163.214 781.387 166.269 776.803 Q169.348 772.197 175.158 772.197 Z\" fill=\"#000000\" fill-rule=\"nonzero\" fill-opacity=\"1\" /><path clip-path=\"url(#clip490)\" d=\"M100.76 570.138 Q97.1493 570.138 95.3206 573.703 Q93.515 577.244 93.515 584.374 Q93.515 591.48 95.3206 595.045 Q97.1493 598.587 100.76 598.587 Q104.395 598.587 106.2 595.045 Q108.029 591.48 108.029 584.374 Q108.029 577.244 106.2 573.703 Q104.395 570.138 100.76 570.138 M100.76 566.434 Q106.571 566.434 109.626 571.041 Q112.705 575.624 112.705 584.374 Q112.705 593.101 109.626 597.707 Q106.571 602.29 100.76 602.29 Q94.9502 602.29 91.8715 597.707 Q88.816 593.101 88.816 584.374 Q88.816 575.624 91.8715 571.041 Q94.9502 566.434 100.76 566.434 Z\" fill=\"#000000\" fill-rule=\"nonzero\" fill-opacity=\"1\" /><path clip-path=\"url(#clip490)\" d=\"M120.922 595.739 L125.807 595.739 L125.807 601.619 L120.922 601.619 L120.922 595.739 Z\" fill=\"#000000\" fill-rule=\"nonzero\" fill-opacity=\"1\" /><path clip-path=\"url(#clip490)\" d=\"M134.811 567.059 L157.033 567.059 L157.033 569.05 L144.487 601.619 L139.603 601.619 L151.408 570.994 L134.811 570.994 L134.811 567.059 Z\" fill=\"#000000\" fill-rule=\"nonzero\" fill-opacity=\"1\" /><path clip-path=\"url(#clip490)\" d=\"M166.2 567.059 L184.556 567.059 L184.556 570.994 L170.482 570.994 L170.482 579.466 Q171.501 579.119 172.519 578.957 Q173.538 578.772 174.556 578.772 Q180.343 578.772 183.723 581.943 Q187.103 585.115 187.103 590.531 Q187.103 596.11 183.63 599.212 Q180.158 602.29 173.839 602.29 Q171.663 602.29 169.394 601.92 Q167.149 601.55 164.742 600.809 L164.742 596.11 Q166.825 597.244 169.047 597.8 Q171.269 598.355 173.746 598.355 Q177.751 598.355 180.089 596.249 Q182.427 594.142 182.427 590.531 Q182.427 586.92 180.089 584.814 Q177.751 582.707 173.746 582.707 Q171.871 582.707 169.996 583.124 Q168.144 583.54 166.2 584.42 L166.2 567.059 Z\" fill=\"#000000\" fill-rule=\"nonzero\" fill-opacity=\"1\" /><path clip-path=\"url(#clip490)\" d=\"M90.5752 391.921 L98.2141 391.921 L98.2141 365.556 L89.904 367.222 L89.904 362.963 L98.1678 361.296 L102.844 361.296 L102.844 391.921 L110.483 391.921 L110.483 395.856 L90.5752 395.856 L90.5752 391.921 Z\" fill=\"#000000\" fill-rule=\"nonzero\" fill-opacity=\"1\" /><path clip-path=\"url(#clip490)\" d=\"M119.927 389.977 L124.811 389.977 L124.811 395.856 L119.927 395.856 L119.927 389.977 Z\" fill=\"#000000\" fill-rule=\"nonzero\" fill-opacity=\"1\" /><path clip-path=\"url(#clip490)\" d=\"M144.996 364.375 Q141.385 364.375 139.556 367.94 Q137.751 371.481 137.751 378.611 Q137.751 385.717 139.556 389.282 Q141.385 392.824 144.996 392.824 Q148.63 392.824 150.436 389.282 Q152.265 385.717 152.265 378.611 Q152.265 371.481 150.436 367.94 Q148.63 364.375 144.996 364.375 M144.996 360.671 Q150.806 360.671 153.862 365.278 Q156.941 369.861 156.941 378.611 Q156.941 387.338 153.862 391.944 Q150.806 396.528 144.996 396.528 Q139.186 396.528 136.107 391.944 Q133.052 387.338 133.052 378.611 Q133.052 369.861 136.107 365.278 Q139.186 360.671 144.996 360.671 Z\" fill=\"#000000\" fill-rule=\"nonzero\" fill-opacity=\"1\" /><path clip-path=\"url(#clip490)\" d=\"M175.158 364.375 Q171.547 364.375 169.718 367.94 Q167.913 371.481 167.913 378.611 Q167.913 385.717 169.718 389.282 Q171.547 392.824 175.158 392.824 Q178.792 392.824 180.598 389.282 Q182.427 385.717 182.427 378.611 Q182.427 371.481 180.598 367.94 Q178.792 364.375 175.158 364.375 M175.158 360.671 Q180.968 360.671 184.024 365.278 Q187.103 369.861 187.103 378.611 Q187.103 387.338 184.024 391.944 Q180.968 396.528 175.158 396.528 Q169.348 396.528 166.269 391.944 Q163.214 387.338 163.214 378.611 Q163.214 369.861 166.269 365.278 Q169.348 360.671 175.158 360.671 Z\" fill=\"#000000\" fill-rule=\"nonzero\" fill-opacity=\"1\" /><path clip-path=\"url(#clip490)\" d=\"M91.5706 186.158 L99.2095 186.158 L99.2095 159.793 L90.8993 161.459 L90.8993 157.2 L99.1632 155.534 L103.839 155.534 L103.839 186.158 L111.478 186.158 L111.478 190.094 L91.5706 190.094 L91.5706 186.158 Z\" fill=\"#000000\" fill-rule=\"nonzero\" fill-opacity=\"1\" /><path clip-path=\"url(#clip490)\" d=\"M120.922 184.214 L125.807 184.214 L125.807 190.094 L120.922 190.094 L120.922 184.214 Z\" fill=\"#000000\" fill-rule=\"nonzero\" fill-opacity=\"1\" /><path clip-path=\"url(#clip490)\" d=\"M140.019 186.158 L156.339 186.158 L156.339 190.094 L134.394 190.094 L134.394 186.158 Q137.056 183.404 141.64 178.774 Q146.246 174.121 147.427 172.779 Q149.672 170.256 150.552 168.52 Q151.455 166.76 151.455 165.071 Q151.455 162.316 149.51 160.58 Q147.589 158.844 144.487 158.844 Q142.288 158.844 139.834 159.608 Q137.404 160.372 134.626 161.922 L134.626 157.2 Q137.45 156.066 139.904 155.487 Q142.357 154.909 144.394 154.909 Q149.765 154.909 152.959 157.594 Q156.154 160.279 156.154 164.77 Q156.154 166.899 155.343 168.821 Q154.556 170.719 152.45 173.311 Q151.871 173.983 148.769 177.2 Q145.668 180.395 140.019 186.158 Z\" fill=\"#000000\" fill-rule=\"nonzero\" fill-opacity=\"1\" /><path clip-path=\"url(#clip490)\" d=\"M166.2 155.534 L184.556 155.534 L184.556 159.469 L170.482 159.469 L170.482 167.941 Q171.501 167.594 172.519 167.432 Q173.538 167.246 174.556 167.246 Q180.343 167.246 183.723 170.418 Q187.103 173.589 187.103 179.006 Q187.103 184.584 183.63 187.686 Q180.158 190.765 173.839 190.765 Q171.663 190.765 169.394 190.395 Q167.149 190.024 164.742 189.283 L164.742 184.584 Q166.825 185.719 169.047 186.274 Q171.269 186.83 173.746 186.83 Q177.751 186.83 180.089 184.723 Q182.427 182.617 182.427 179.006 Q182.427 175.395 180.089 173.288 Q177.751 171.182 173.746 171.182 Q171.871 171.182 169.996 171.598 Q168.144 172.015 166.2 172.895 L166.2 155.534 Z\" fill=\"#000000\" fill-rule=\"nonzero\" fill-opacity=\"1\" /><polyline clip-path=\"url(#clip492)\" style=\"stroke:#009af9; stroke-linecap:round; stroke-linejoin:round; stroke-width:4; stroke-opacity:1; fill:none\" points=\"283.376,489.882 303.67,475.573 323.964,631.166 344.258,1191.54 364.552,746.957 384.846,619.732 405.14,1199.94 425.434,1070.3 445.728,758.158 466.022,386.122 486.316,662.476 506.61,683.389 526.904,758.124 547.198,890.063 567.492,424.094 587.786,1049.97 608.08,615.53 628.374,1137.37 648.668,1117.38 668.962,485.879 689.256,908.381 709.55,632.277 729.844,910.24 750.138,1069.02 770.432,774.141 790.726,929.179 811.02,1178.18 831.314,779.944 851.608,1046.26 871.902,632.634 892.196,865.758 912.49,1022.53 932.784,727.32 953.078,821.254 973.372,899.505 993.666,504.754 1013.96,1156.48 1034.25,1075.76 1054.55,456.449 1074.84,611.803 1095.14,892.903 1115.43,1187.57 1135.72,884.408 1156.02,497.272 1176.31,460.63 1196.61,904.891 1216.9,597.804 1237.19,645.382 1257.49,667.151 1277.78,767.9 1298.08,419.989 1318.37,797.423 1338.66,401.423 1358.96,424.805 1379.25,655.357 1399.55,1014.6 1419.84,446.153 1440.13,830.09 1460.43,701.586 1480.72,752.309 1501.02,546.911 1521.31,643.053 1541.6,492.778 1561.9,985.49 1582.19,379.547 1602.49,897.569 1622.78,569.748 1643.07,929.103 1663.37,1187.05 1683.66,402.474 1703.96,1139.28 1724.25,760.223 1744.54,1096.37 1764.84,873.699 1785.13,990.153 1805.43,548.024 1825.72,804.362 1846.01,606.758 1866.31,771.051 1886.6,498.072 1906.9,878.532 1927.19,1004.67 1947.48,398.727 1967.78,984.577 1988.07,876.805 2008.37,449.254 2028.66,710.596 2048.95,414.305 2069.25,422 2089.54,821.408 2109.84,436.135 2130.13,445.927 2150.42,689.284 2170.72,969.246 2191.01,422.558 2211.31,715.422 2231.6,735.59 2251.89,741.583 2272.19,824.654 2292.48,544.795 \"/>\n",
       "<polyline clip-path=\"url(#clip492)\" style=\"stroke:#e26f46; stroke-linecap:round; stroke-linejoin:round; stroke-width:4; stroke-opacity:1; fill:none\" points=\"283.376,645.789 303.67,603.475 323.964,551.352 344.258,1239.29 364.552,668.924 384.846,794.856 405.14,1253.13 425.434,986.472 445.728,507.618 466.022,355.34 486.316,973.488 506.61,722.486 526.904,856.445 547.198,876.445 567.492,743.634 587.786,955.111 608.08,722.16 628.374,1036.69 648.668,1029.75 668.962,362.096 689.256,1191.9 709.55,752.47 729.844,774.784 750.138,1345.85 770.432,892.702 790.726,1145.76 811.02,1046.93 831.314,1002.99 851.608,1368 871.902,596.21 892.196,754.017 912.49,1049.83 932.784,683.737 953.078,885.677 973.372,1068.84 993.666,390.659 1013.96,1439.61 1034.25,1311.38 1054.55,598.02 1074.84,550.02 1095.14,495.806 1115.43,1318.87 1135.72,867.251 1156.02,694.001 1176.31,459.247 1196.61,816.683 1216.9,661.683 1237.19,589.393 1257.49,365.187 1277.78,590.502 1298.08,440.919 1318.37,667.66 1338.66,389.282 1358.96,224.318 1379.25,444.796 1399.55,913.623 1419.84,613.01 1440.13,848.43 1460.43,493.135 1480.72,733.098 1501.02,603.968 1521.31,608.007 1541.6,543.441 1561.9,1186.68 1582.19,333.839 1602.49,880.503 1622.78,297.209 1643.07,725.227 1663.37,1162.91 1683.66,512.958 1703.96,1445.72 1724.25,981.746 1744.54,1106.67 1764.84,1004.51 1785.13,1017.91 1805.43,695.12 1825.72,950.972 1846.01,837.506 1866.31,795.904 1886.6,692.503 1906.9,635.043 1927.19,998.683 1947.48,484.72 1967.78,879.746 1988.07,1073.13 2008.37,213.869 2028.66,933.813 2048.95,240.985 2069.25,366.793 2089.54,857.166 2109.84,305.546 2130.13,263.475 2150.42,275.643 2170.72,1172.25 2191.01,87.9763 2211.31,795.863 2231.6,761.383 2251.89,856.696 2272.19,692.563 2292.48,816.171 \"/>\n",
       "<path clip-path=\"url(#clip490)\" d=\"M1977.09 1438.47 L2281.77 1438.47 L2281.77 1282.95 L1977.09 1282.95  Z\" fill=\"#ffffff\" fill-rule=\"evenodd\" fill-opacity=\"1\"/>\n",
       "<polyline clip-path=\"url(#clip490)\" style=\"stroke:#000000; stroke-linecap:round; stroke-linejoin:round; stroke-width:4; stroke-opacity:1; fill:none\" points=\"1977.09,1438.47 2281.77,1438.47 2281.77,1282.95 1977.09,1282.95 1977.09,1438.47 \"/>\n",
       "<polyline clip-path=\"url(#clip490)\" style=\"stroke:#009af9; stroke-linecap:round; stroke-linejoin:round; stroke-width:4; stroke-opacity:1; fill:none\" points=\"2000.75,1334.79 2142.73,1334.79 \"/>\n",
       "<path clip-path=\"url(#clip490)\" d=\"M2179.79 1339.04 Q2174.63 1339.04 2172.64 1340.22 Q2170.65 1341.4 2170.65 1344.25 Q2170.65 1346.52 2172.13 1347.86 Q2173.64 1349.18 2176.21 1349.18 Q2179.75 1349.18 2181.88 1346.68 Q2184.03 1344.16 2184.03 1339.99 L2184.03 1339.04 L2179.79 1339.04 M2188.29 1337.28 L2188.29 1352.07 L2184.03 1352.07 L2184.03 1348.14 Q2182.57 1350.5 2180.4 1351.63 Q2178.22 1352.75 2175.07 1352.75 Q2171.09 1352.75 2168.73 1350.52 Q2166.39 1348.28 2166.39 1344.53 Q2166.39 1340.15 2169.31 1337.93 Q2172.25 1335.71 2178.06 1335.71 L2184.03 1335.71 L2184.03 1335.29 Q2184.03 1332.35 2182.09 1330.76 Q2180.17 1329.13 2176.67 1329.13 Q2174.45 1329.13 2172.34 1329.67 Q2170.23 1330.2 2168.29 1331.26 L2168.29 1327.33 Q2170.63 1326.43 2172.83 1325.99 Q2175.03 1325.52 2177.11 1325.52 Q2182.73 1325.52 2185.51 1328.44 Q2188.29 1331.36 2188.29 1337.28 Z\" fill=\"#000000\" fill-rule=\"nonzero\" fill-opacity=\"1\" /><polyline clip-path=\"url(#clip490)\" style=\"stroke:#e26f46; stroke-linecap:round; stroke-linejoin:round; stroke-width:4; stroke-opacity:1; fill:none\" points=\"2000.75,1386.63 2142.73,1386.63 \"/>\n",
       "<path clip-path=\"url(#clip490)\" d=\"M2179.79 1390.88 Q2174.63 1390.88 2172.64 1392.06 Q2170.65 1393.24 2170.65 1396.09 Q2170.65 1398.36 2172.13 1399.7 Q2173.64 1401.02 2176.21 1401.02 Q2179.75 1401.02 2181.88 1398.52 Q2184.03 1396 2184.03 1391.83 L2184.03 1390.88 L2179.79 1390.88 M2188.29 1389.12 L2188.29 1403.91 L2184.03 1403.91 L2184.03 1399.98 Q2182.57 1402.34 2180.4 1403.47 Q2178.22 1404.59 2175.07 1404.59 Q2171.09 1404.59 2168.73 1402.36 Q2166.39 1400.12 2166.39 1396.37 Q2166.39 1391.99 2169.31 1389.77 Q2172.25 1387.55 2178.06 1387.55 L2184.03 1387.55 L2184.03 1387.13 Q2184.03 1384.19 2182.09 1382.6 Q2180.17 1380.97 2176.67 1380.97 Q2174.45 1380.97 2172.34 1381.51 Q2170.23 1382.04 2168.29 1383.1 L2168.29 1379.17 Q2170.63 1378.27 2172.83 1377.83 Q2175.03 1377.36 2177.11 1377.36 Q2182.73 1377.36 2185.51 1380.28 Q2188.29 1383.2 2188.29 1389.12 Z\" fill=\"#000000\" fill-rule=\"nonzero\" fill-opacity=\"1\" /><path clip-path=\"url(#clip490)\" d=\"M2214.4 1374.19 L2214.4 1387.09 L2227.29 1387.09 L2227.29 1391.02 L2214.4 1391.02 L2214.4 1403.91 L2210.51 1403.91 L2210.51 1391.02 L2197.62 1391.02 L2197.62 1387.09 L2210.51 1387.09 L2210.51 1374.19 L2214.4 1374.19 Z\" fill=\"#000000\" fill-rule=\"nonzero\" fill-opacity=\"1\" /><path clip-path=\"url(#clip490)\" d=\"M2238.2 1399.98 L2245.84 1399.98 L2245.84 1373.61 L2237.53 1375.28 L2237.53 1371.02 L2245.79 1369.35 L2250.47 1369.35 L2250.47 1399.98 L2258.1 1399.98 L2258.1 1403.91 L2238.2 1403.91 L2238.2 1399.98 Z\" fill=\"#000000\" fill-rule=\"nonzero\" fill-opacity=\"1\" /></svg>\n"
      ]
     },
     "execution_count": 31,
     "metadata": {},
     "output_type": "execute_result"
    }
   ],
   "source": [
    "b = a .+ 0.2 * randn(100)  # Get a noisy version of array a; randn = N(0,1)\n",
    "plot([a b], label=[\"a\" \"a+1\"]) # Plot two arrays using aligned labels"
   ]
  },
  {
   "cell_type": "markdown",
   "metadata": {},
   "source": [
    "We may also specify a layout to display things side-by-side. This results in subplots as shown below:"
   ]
  },
  {
   "cell_type": "code",
   "execution_count": 32,
   "metadata": {},
   "outputs": [
    {
     "data": {
      "image/svg+xml": [
       "<?xml version=\"1.0\" encoding=\"utf-8\"?>\n",
       "<svg xmlns=\"http://www.w3.org/2000/svg\" xmlns:xlink=\"http://www.w3.org/1999/xlink\" width=\"600\" height=\"400\" viewBox=\"0 0 2400 1600\">\n",
       "<defs>\n",
       "  <clipPath id=\"clip530\">\n",
       "    <rect x=\"0\" y=\"0\" width=\"2400\" height=\"1600\"/>\n",
       "  </clipPath>\n",
       "</defs>\n",
       "<path clip-path=\"url(#clip530)\" d=\"M0 1600 L2400 1600 L2400 0 L0 0  Z\" fill=\"#ffffff\" fill-rule=\"evenodd\" fill-opacity=\"1\"/>\n",
       "<defs>\n",
       "  <clipPath id=\"clip531\">\n",
       "    <rect x=\"480\" y=\"0\" width=\"1681\" height=\"1600\"/>\n",
       "  </clipPath>\n",
       "</defs>\n",
       "<path clip-path=\"url(#clip530)\" d=\"M186.274 1486.45 L1134.34 1486.45 L1134.34 47.2441 L186.274 47.2441  Z\" fill=\"#ffffff\" fill-rule=\"evenodd\" fill-opacity=\"1\"/>\n",
       "<defs>\n",
       "  <clipPath id=\"clip532\">\n",
       "    <rect x=\"186\" y=\"47\" width=\"949\" height=\"1440\"/>\n",
       "  </clipPath>\n",
       "</defs>\n",
       "<polyline clip-path=\"url(#clip532)\" style=\"stroke:#000000; stroke-linecap:round; stroke-linejoin:round; stroke-width:2; stroke-opacity:0.1; fill:none\" points=\"204.072,1486.45 204.072,47.2441 \"/>\n",
       "<polyline clip-path=\"url(#clip532)\" style=\"stroke:#000000; stroke-linecap:round; stroke-linejoin:round; stroke-width:2; stroke-opacity:0.1; fill:none\" points=\"429.931,1486.45 429.931,47.2441 \"/>\n",
       "<polyline clip-path=\"url(#clip532)\" style=\"stroke:#000000; stroke-linecap:round; stroke-linejoin:round; stroke-width:2; stroke-opacity:0.1; fill:none\" points=\"655.791,1486.45 655.791,47.2441 \"/>\n",
       "<polyline clip-path=\"url(#clip532)\" style=\"stroke:#000000; stroke-linecap:round; stroke-linejoin:round; stroke-width:2; stroke-opacity:0.1; fill:none\" points=\"881.65,1486.45 881.65,47.2441 \"/>\n",
       "<polyline clip-path=\"url(#clip532)\" style=\"stroke:#000000; stroke-linecap:round; stroke-linejoin:round; stroke-width:2; stroke-opacity:0.1; fill:none\" points=\"1107.51,1486.45 1107.51,47.2441 \"/>\n",
       "<polyline clip-path=\"url(#clip530)\" style=\"stroke:#000000; stroke-linecap:round; stroke-linejoin:round; stroke-width:4; stroke-opacity:1; fill:none\" points=\"186.274,1486.45 1134.34,1486.45 \"/>\n",
       "<polyline clip-path=\"url(#clip530)\" style=\"stroke:#000000; stroke-linecap:round; stroke-linejoin:round; stroke-width:4; stroke-opacity:1; fill:none\" points=\"204.072,1486.45 204.072,1467.55 \"/>\n",
       "<polyline clip-path=\"url(#clip530)\" style=\"stroke:#000000; stroke-linecap:round; stroke-linejoin:round; stroke-width:4; stroke-opacity:1; fill:none\" points=\"429.931,1486.45 429.931,1467.55 \"/>\n",
       "<polyline clip-path=\"url(#clip530)\" style=\"stroke:#000000; stroke-linecap:round; stroke-linejoin:round; stroke-width:4; stroke-opacity:1; fill:none\" points=\"655.791,1486.45 655.791,1467.55 \"/>\n",
       "<polyline clip-path=\"url(#clip530)\" style=\"stroke:#000000; stroke-linecap:round; stroke-linejoin:round; stroke-width:4; stroke-opacity:1; fill:none\" points=\"881.65,1486.45 881.65,1467.55 \"/>\n",
       "<polyline clip-path=\"url(#clip530)\" style=\"stroke:#000000; stroke-linecap:round; stroke-linejoin:round; stroke-width:4; stroke-opacity:1; fill:none\" points=\"1107.51,1486.45 1107.51,1467.55 \"/>\n",
       "<path clip-path=\"url(#clip530)\" d=\"M204.072 1517.37 Q200.461 1517.37 198.632 1520.93 Q196.826 1524.47 196.826 1531.6 Q196.826 1538.71 198.632 1542.27 Q200.461 1545.82 204.072 1545.82 Q207.706 1545.82 209.512 1542.27 Q211.34 1538.71 211.34 1531.6 Q211.34 1524.47 209.512 1520.93 Q207.706 1517.37 204.072 1517.37 M204.072 1513.66 Q209.882 1513.66 212.937 1518.27 Q216.016 1522.85 216.016 1531.6 Q216.016 1540.33 212.937 1544.94 Q209.882 1549.52 204.072 1549.52 Q198.262 1549.52 195.183 1544.94 Q192.127 1540.33 192.127 1531.6 Q192.127 1522.85 195.183 1518.27 Q198.262 1513.66 204.072 1513.66 Z\" fill=\"#000000\" fill-rule=\"nonzero\" fill-opacity=\"1\" /><path clip-path=\"url(#clip530)\" d=\"M409.202 1544.91 L425.521 1544.91 L425.521 1548.85 L403.577 1548.85 L403.577 1544.91 Q406.239 1542.16 410.822 1537.53 Q415.429 1532.88 416.609 1531.53 Q418.855 1529.01 419.734 1527.27 Q420.637 1525.51 420.637 1523.82 Q420.637 1521.07 418.693 1519.33 Q416.772 1517.6 413.67 1517.6 Q411.471 1517.6 409.017 1518.36 Q406.586 1519.13 403.809 1520.68 L403.809 1515.95 Q406.633 1514.82 409.086 1514.24 Q411.54 1513.66 413.577 1513.66 Q418.947 1513.66 422.142 1516.35 Q425.336 1519.03 425.336 1523.52 Q425.336 1525.65 424.526 1527.57 Q423.739 1529.47 421.633 1532.07 Q421.054 1532.74 417.952 1535.95 Q414.85 1539.15 409.202 1544.91 Z\" fill=\"#000000\" fill-rule=\"nonzero\" fill-opacity=\"1\" /><path clip-path=\"url(#clip530)\" d=\"M435.383 1514.29 L453.739 1514.29 L453.739 1518.22 L439.665 1518.22 L439.665 1526.7 Q440.683 1526.35 441.702 1526.19 Q442.72 1526 443.739 1526 Q449.526 1526 452.906 1529.17 Q456.285 1532.34 456.285 1537.76 Q456.285 1543.34 452.813 1546.44 Q449.341 1549.52 443.021 1549.52 Q440.845 1549.52 438.577 1549.15 Q436.332 1548.78 433.924 1548.04 L433.924 1543.34 Q436.008 1544.47 438.23 1545.03 Q440.452 1545.58 442.929 1545.58 Q446.933 1545.58 449.271 1543.48 Q451.609 1541.37 451.609 1537.76 Q451.609 1534.15 449.271 1532.04 Q446.933 1529.94 442.929 1529.94 Q441.054 1529.94 439.179 1530.35 Q437.327 1530.77 435.383 1531.65 L435.383 1514.29 Z\" fill=\"#000000\" fill-rule=\"nonzero\" fill-opacity=\"1\" /><path clip-path=\"url(#clip530)\" d=\"M630.49 1514.29 L648.846 1514.29 L648.846 1518.22 L634.772 1518.22 L634.772 1526.7 Q635.791 1526.35 636.809 1526.19 Q637.828 1526 638.846 1526 Q644.633 1526 648.013 1529.17 Q651.393 1532.34 651.393 1537.76 Q651.393 1543.34 647.92 1546.44 Q644.448 1549.52 638.129 1549.52 Q635.953 1549.52 633.684 1549.15 Q631.439 1548.78 629.032 1548.04 L629.032 1543.34 Q631.115 1544.47 633.337 1545.03 Q635.559 1545.58 638.036 1545.58 Q642.041 1545.58 644.379 1543.48 Q646.717 1541.37 646.717 1537.76 Q646.717 1534.15 644.379 1532.04 Q642.041 1529.94 638.036 1529.94 Q636.161 1529.94 634.286 1530.35 Q632.434 1530.77 630.49 1531.65 L630.49 1514.29 Z\" fill=\"#000000\" fill-rule=\"nonzero\" fill-opacity=\"1\" /><path clip-path=\"url(#clip530)\" d=\"M670.605 1517.37 Q666.994 1517.37 665.166 1520.93 Q663.36 1524.47 663.36 1531.6 Q663.36 1538.71 665.166 1542.27 Q666.994 1545.82 670.605 1545.82 Q674.24 1545.82 676.045 1542.27 Q677.874 1538.71 677.874 1531.6 Q677.874 1524.47 676.045 1520.93 Q674.24 1517.37 670.605 1517.37 M670.605 1513.66 Q676.416 1513.66 679.471 1518.27 Q682.55 1522.85 682.55 1531.6 Q682.55 1540.33 679.471 1544.94 Q676.416 1549.52 670.605 1549.52 Q664.795 1549.52 661.717 1544.94 Q658.661 1540.33 658.661 1531.6 Q658.661 1522.85 661.717 1518.27 Q664.795 1513.66 670.605 1513.66 Z\" fill=\"#000000\" fill-rule=\"nonzero\" fill-opacity=\"1\" /><path clip-path=\"url(#clip530)\" d=\"M855.504 1514.29 L877.727 1514.29 L877.727 1516.28 L865.18 1548.85 L860.296 1548.85 L872.102 1518.22 L855.504 1518.22 L855.504 1514.29 Z\" fill=\"#000000\" fill-rule=\"nonzero\" fill-opacity=\"1\" /><path clip-path=\"url(#clip530)\" d=\"M886.893 1514.29 L905.25 1514.29 L905.25 1518.22 L891.176 1518.22 L891.176 1526.7 Q892.194 1526.35 893.213 1526.19 Q894.231 1526 895.25 1526 Q901.037 1526 904.416 1529.17 Q907.796 1532.34 907.796 1537.76 Q907.796 1543.34 904.324 1546.44 Q900.851 1549.52 894.532 1549.52 Q892.356 1549.52 890.088 1549.15 Q887.842 1548.78 885.435 1548.04 L885.435 1543.34 Q887.518 1544.47 889.74 1545.03 Q891.963 1545.58 894.439 1545.58 Q898.444 1545.58 900.782 1543.48 Q903.12 1541.37 903.12 1537.76 Q903.12 1534.15 900.782 1532.04 Q898.444 1529.94 894.439 1529.94 Q892.564 1529.94 890.689 1530.35 Q888.838 1530.77 886.893 1531.65 L886.893 1514.29 Z\" fill=\"#000000\" fill-rule=\"nonzero\" fill-opacity=\"1\" /><path clip-path=\"url(#clip530)\" d=\"M1067.12 1544.91 L1074.76 1544.91 L1074.76 1518.55 L1066.44 1520.21 L1066.44 1515.95 L1074.71 1514.29 L1079.38 1514.29 L1079.38 1544.91 L1087.02 1544.91 L1087.02 1548.85 L1067.12 1548.85 L1067.12 1544.91 Z\" fill=\"#000000\" fill-rule=\"nonzero\" fill-opacity=\"1\" /><path clip-path=\"url(#clip530)\" d=\"M1106.47 1517.37 Q1102.86 1517.37 1101.03 1520.93 Q1099.22 1524.47 1099.22 1531.6 Q1099.22 1538.71 1101.03 1542.27 Q1102.86 1545.82 1106.47 1545.82 Q1110.1 1545.82 1111.91 1542.27 Q1113.74 1538.71 1113.74 1531.6 Q1113.74 1524.47 1111.91 1520.93 Q1110.1 1517.37 1106.47 1517.37 M1106.47 1513.66 Q1112.28 1513.66 1115.33 1518.27 Q1118.41 1522.85 1118.41 1531.6 Q1118.41 1540.33 1115.33 1544.94 Q1112.28 1549.52 1106.47 1549.52 Q1100.66 1549.52 1097.58 1544.94 Q1094.52 1540.33 1094.52 1531.6 Q1094.52 1522.85 1097.58 1518.27 Q1100.66 1513.66 1106.47 1513.66 Z\" fill=\"#000000\" fill-rule=\"nonzero\" fill-opacity=\"1\" /><path clip-path=\"url(#clip530)\" d=\"M1136.63 1517.37 Q1133.02 1517.37 1131.19 1520.93 Q1129.38 1524.47 1129.38 1531.6 Q1129.38 1538.71 1131.19 1542.27 Q1133.02 1545.82 1136.63 1545.82 Q1140.26 1545.82 1142.07 1542.27 Q1143.9 1538.71 1143.9 1531.6 Q1143.9 1524.47 1142.07 1520.93 Q1140.26 1517.37 1136.63 1517.37 M1136.63 1513.66 Q1142.44 1513.66 1145.5 1518.27 Q1148.57 1522.85 1148.57 1531.6 Q1148.57 1540.33 1145.5 1544.94 Q1142.44 1549.52 1136.63 1549.52 Q1130.82 1549.52 1127.74 1544.94 Q1124.69 1540.33 1124.69 1531.6 Q1124.69 1522.85 1127.74 1518.27 Q1130.82 1513.66 1136.63 1513.66 Z\" fill=\"#000000\" fill-rule=\"nonzero\" fill-opacity=\"1\" /><polyline clip-path=\"url(#clip532)\" style=\"stroke:#000000; stroke-linecap:round; stroke-linejoin:round; stroke-width:2; stroke-opacity:0.1; fill:none\" points=\"186.274,1448.51 1134.34,1448.51 \"/>\n",
       "<polyline clip-path=\"url(#clip532)\" style=\"stroke:#000000; stroke-linecap:round; stroke-linejoin:round; stroke-width:2; stroke-opacity:0.1; fill:none\" points=\"186.274,1107.97 1134.34,1107.97 \"/>\n",
       "<polyline clip-path=\"url(#clip532)\" style=\"stroke:#000000; stroke-linecap:round; stroke-linejoin:round; stroke-width:2; stroke-opacity:0.1; fill:none\" points=\"186.274,767.438 1134.34,767.438 \"/>\n",
       "<polyline clip-path=\"url(#clip532)\" style=\"stroke:#000000; stroke-linecap:round; stroke-linejoin:round; stroke-width:2; stroke-opacity:0.1; fill:none\" points=\"186.274,426.904 1134.34,426.904 \"/>\n",
       "<polyline clip-path=\"url(#clip532)\" style=\"stroke:#000000; stroke-linecap:round; stroke-linejoin:round; stroke-width:2; stroke-opacity:0.1; fill:none\" points=\"186.274,86.3691 1134.34,86.3691 \"/>\n",
       "<polyline clip-path=\"url(#clip530)\" style=\"stroke:#000000; stroke-linecap:round; stroke-linejoin:round; stroke-width:4; stroke-opacity:1; fill:none\" points=\"186.274,1486.45 186.274,47.2441 \"/>\n",
       "<polyline clip-path=\"url(#clip530)\" style=\"stroke:#000000; stroke-linecap:round; stroke-linejoin:round; stroke-width:4; stroke-opacity:1; fill:none\" points=\"186.274,1448.51 205.172,1448.51 \"/>\n",
       "<polyline clip-path=\"url(#clip530)\" style=\"stroke:#000000; stroke-linecap:round; stroke-linejoin:round; stroke-width:4; stroke-opacity:1; fill:none\" points=\"186.274,1107.97 205.172,1107.97 \"/>\n",
       "<polyline clip-path=\"url(#clip530)\" style=\"stroke:#000000; stroke-linecap:round; stroke-linejoin:round; stroke-width:4; stroke-opacity:1; fill:none\" points=\"186.274,767.438 205.172,767.438 \"/>\n",
       "<polyline clip-path=\"url(#clip530)\" style=\"stroke:#000000; stroke-linecap:round; stroke-linejoin:round; stroke-width:4; stroke-opacity:1; fill:none\" points=\"186.274,426.904 205.172,426.904 \"/>\n",
       "<polyline clip-path=\"url(#clip530)\" style=\"stroke:#000000; stroke-linecap:round; stroke-linejoin:round; stroke-width:4; stroke-opacity:1; fill:none\" points=\"186.274,86.3691 205.172,86.3691 \"/>\n",
       "<path clip-path=\"url(#clip530)\" d=\"M62.9365 1434.31 Q59.3254 1434.31 57.4967 1437.87 Q55.6912 1441.41 55.6912 1448.54 Q55.6912 1455.65 57.4967 1459.21 Q59.3254 1462.75 62.9365 1462.75 Q66.5707 1462.75 68.3763 1459.21 Q70.205 1455.65 70.205 1448.54 Q70.205 1441.41 68.3763 1437.87 Q66.5707 1434.31 62.9365 1434.31 M62.9365 1430.6 Q68.7467 1430.6 71.8022 1435.21 Q74.8809 1439.79 74.8809 1448.54 Q74.8809 1457.27 71.8022 1461.88 Q68.7467 1466.46 62.9365 1466.46 Q57.1264 1466.46 54.0477 1461.88 Q50.9921 1457.27 50.9921 1448.54 Q50.9921 1439.79 54.0477 1435.21 Q57.1264 1430.6 62.9365 1430.6 Z\" fill=\"#000000\" fill-rule=\"nonzero\" fill-opacity=\"1\" /><path clip-path=\"url(#clip530)\" d=\"M83.0984 1459.91 L87.9827 1459.91 L87.9827 1465.79 L83.0984 1465.79 L83.0984 1459.91 Z\" fill=\"#000000\" fill-rule=\"nonzero\" fill-opacity=\"1\" /><path clip-path=\"url(#clip530)\" d=\"M108.168 1434.31 Q104.557 1434.31 102.728 1437.87 Q100.922 1441.41 100.922 1448.54 Q100.922 1455.65 102.728 1459.21 Q104.557 1462.75 108.168 1462.75 Q111.802 1462.75 113.608 1459.21 Q115.436 1455.65 115.436 1448.54 Q115.436 1441.41 113.608 1437.87 Q111.802 1434.31 108.168 1434.31 M108.168 1430.6 Q113.978 1430.6 117.033 1435.21 Q120.112 1439.79 120.112 1448.54 Q120.112 1457.27 117.033 1461.88 Q113.978 1466.46 108.168 1466.46 Q102.358 1466.46 99.2789 1461.88 Q96.2234 1457.27 96.2234 1448.54 Q96.2234 1439.79 99.2789 1435.21 Q102.358 1430.6 108.168 1430.6 Z\" fill=\"#000000\" fill-rule=\"nonzero\" fill-opacity=\"1\" /><path clip-path=\"url(#clip530)\" d=\"M138.33 1434.31 Q134.719 1434.31 132.89 1437.87 Q131.084 1441.41 131.084 1448.54 Q131.084 1455.65 132.89 1459.21 Q134.719 1462.75 138.33 1462.75 Q141.964 1462.75 143.769 1459.21 Q145.598 1455.65 145.598 1448.54 Q145.598 1441.41 143.769 1437.87 Q141.964 1434.31 138.33 1434.31 M138.33 1430.6 Q144.14 1430.6 147.195 1435.21 Q150.274 1439.79 150.274 1448.54 Q150.274 1457.27 147.195 1461.88 Q144.14 1466.46 138.33 1466.46 Q132.519 1466.46 129.441 1461.88 Q126.385 1457.27 126.385 1448.54 Q126.385 1439.79 129.441 1435.21 Q132.519 1430.6 138.33 1430.6 Z\" fill=\"#000000\" fill-rule=\"nonzero\" fill-opacity=\"1\" /><path clip-path=\"url(#clip530)\" d=\"M63.9319 1093.77 Q60.3208 1093.77 58.4921 1097.34 Q56.6865 1100.88 56.6865 1108.01 Q56.6865 1115.11 58.4921 1118.68 Q60.3208 1122.22 63.9319 1122.22 Q67.5661 1122.22 69.3717 1118.68 Q71.2004 1115.11 71.2004 1108.01 Q71.2004 1100.88 69.3717 1097.34 Q67.5661 1093.77 63.9319 1093.77 M63.9319 1090.07 Q69.742 1090.07 72.7976 1094.67 Q75.8763 1099.26 75.8763 1108.01 Q75.8763 1116.73 72.7976 1121.34 Q69.742 1125.92 63.9319 1125.92 Q58.1217 1125.92 55.043 1121.34 Q51.9875 1116.73 51.9875 1108.01 Q51.9875 1099.26 55.043 1094.67 Q58.1217 1090.07 63.9319 1090.07 Z\" fill=\"#000000\" fill-rule=\"nonzero\" fill-opacity=\"1\" /><path clip-path=\"url(#clip530)\" d=\"M84.0938 1119.37 L88.978 1119.37 L88.978 1125.25 L84.0938 1125.25 L84.0938 1119.37 Z\" fill=\"#000000\" fill-rule=\"nonzero\" fill-opacity=\"1\" /><path clip-path=\"url(#clip530)\" d=\"M103.191 1121.32 L119.51 1121.32 L119.51 1125.25 L97.566 1125.25 L97.566 1121.32 Q100.228 1118.56 104.811 1113.93 Q109.418 1109.28 110.598 1107.94 Q112.844 1105.41 113.723 1103.68 Q114.626 1101.92 114.626 1100.23 Q114.626 1097.48 112.682 1095.74 Q110.76 1094 107.658 1094 Q105.459 1094 103.006 1094.77 Q100.575 1095.53 97.7974 1097.08 L97.7974 1092.36 Q100.621 1091.23 103.075 1090.65 Q105.529 1090.07 107.566 1090.07 Q112.936 1090.07 116.131 1092.75 Q119.325 1095.44 119.325 1099.93 Q119.325 1102.06 118.515 1103.98 Q117.728 1105.88 115.621 1108.47 Q115.043 1109.14 111.941 1112.36 Q108.839 1115.55 103.191 1121.32 Z\" fill=\"#000000\" fill-rule=\"nonzero\" fill-opacity=\"1\" /><path clip-path=\"url(#clip530)\" d=\"M129.371 1090.69 L147.728 1090.69 L147.728 1094.63 L133.654 1094.63 L133.654 1103.1 Q134.672 1102.75 135.691 1102.59 Q136.709 1102.41 137.728 1102.41 Q143.515 1102.41 146.894 1105.58 Q150.274 1108.75 150.274 1114.16 Q150.274 1119.74 146.802 1122.85 Q143.33 1125.92 137.01 1125.92 Q134.834 1125.92 132.566 1125.55 Q130.32 1125.18 127.913 1124.44 L127.913 1119.74 Q129.996 1120.88 132.219 1121.43 Q134.441 1121.99 136.918 1121.99 Q140.922 1121.99 143.26 1119.88 Q145.598 1117.78 145.598 1114.16 Q145.598 1110.55 143.26 1108.45 Q140.922 1106.34 136.918 1106.34 Q135.043 1106.34 133.168 1106.76 Q131.316 1107.17 129.371 1108.05 L129.371 1090.69 Z\" fill=\"#000000\" fill-rule=\"nonzero\" fill-opacity=\"1\" /><path clip-path=\"url(#clip530)\" d=\"M62.9365 753.237 Q59.3254 753.237 57.4967 756.802 Q55.6912 760.343 55.6912 767.473 Q55.6912 774.579 57.4967 778.144 Q59.3254 781.686 62.9365 781.686 Q66.5707 781.686 68.3763 778.144 Q70.205 774.579 70.205 767.473 Q70.205 760.343 68.3763 756.802 Q66.5707 753.237 62.9365 753.237 M62.9365 749.533 Q68.7467 749.533 71.8022 754.14 Q74.8809 758.723 74.8809 767.473 Q74.8809 776.2 71.8022 780.806 Q68.7467 785.389 62.9365 785.389 Q57.1264 785.389 54.0477 780.806 Q50.9921 776.2 50.9921 767.473 Q50.9921 758.723 54.0477 754.14 Q57.1264 749.533 62.9365 749.533 Z\" fill=\"#000000\" fill-rule=\"nonzero\" fill-opacity=\"1\" /><path clip-path=\"url(#clip530)\" d=\"M83.0984 778.839 L87.9827 778.839 L87.9827 784.718 L83.0984 784.718 L83.0984 778.839 Z\" fill=\"#000000\" fill-rule=\"nonzero\" fill-opacity=\"1\" /><path clip-path=\"url(#clip530)\" d=\"M98.2141 750.158 L116.57 750.158 L116.57 754.093 L102.496 754.093 L102.496 762.566 Q103.515 762.218 104.534 762.056 Q105.552 761.871 106.571 761.871 Q112.358 761.871 115.737 765.042 Q119.117 768.214 119.117 773.63 Q119.117 779.209 115.645 782.311 Q112.172 785.389 105.853 785.389 Q103.677 785.389 101.409 785.019 Q99.1632 784.649 96.7558 783.908 L96.7558 779.209 Q98.8391 780.343 101.061 780.899 Q103.284 781.454 105.76 781.454 Q109.765 781.454 112.103 779.348 Q114.441 777.241 114.441 773.63 Q114.441 770.019 112.103 767.913 Q109.765 765.806 105.76 765.806 Q103.885 765.806 102.01 766.223 Q100.159 766.64 98.2141 767.519 L98.2141 750.158 Z\" fill=\"#000000\" fill-rule=\"nonzero\" fill-opacity=\"1\" /><path clip-path=\"url(#clip530)\" d=\"M138.33 753.237 Q134.719 753.237 132.89 756.802 Q131.084 760.343 131.084 767.473 Q131.084 774.579 132.89 778.144 Q134.719 781.686 138.33 781.686 Q141.964 781.686 143.769 778.144 Q145.598 774.579 145.598 767.473 Q145.598 760.343 143.769 756.802 Q141.964 753.237 138.33 753.237 M138.33 749.533 Q144.14 749.533 147.195 754.14 Q150.274 758.723 150.274 767.473 Q150.274 776.2 147.195 780.806 Q144.14 785.389 138.33 785.389 Q132.519 785.389 129.441 780.806 Q126.385 776.2 126.385 767.473 Q126.385 758.723 129.441 754.14 Q132.519 749.533 138.33 749.533 Z\" fill=\"#000000\" fill-rule=\"nonzero\" fill-opacity=\"1\" /><path clip-path=\"url(#clip530)\" d=\"M63.9319 412.702 Q60.3208 412.702 58.4921 416.267 Q56.6865 419.809 56.6865 426.938 Q56.6865 434.045 58.4921 437.61 Q60.3208 441.151 63.9319 441.151 Q67.5661 441.151 69.3717 437.61 Q71.2004 434.045 71.2004 426.938 Q71.2004 419.809 69.3717 416.267 Q67.5661 412.702 63.9319 412.702 M63.9319 408.999 Q69.742 408.999 72.7976 413.605 Q75.8763 418.188 75.8763 426.938 Q75.8763 435.665 72.7976 440.272 Q69.742 444.855 63.9319 444.855 Q58.1217 444.855 55.043 440.272 Q51.9875 435.665 51.9875 426.938 Q51.9875 418.188 55.043 413.605 Q58.1217 408.999 63.9319 408.999 Z\" fill=\"#000000\" fill-rule=\"nonzero\" fill-opacity=\"1\" /><path clip-path=\"url(#clip530)\" d=\"M84.0938 438.304 L88.978 438.304 L88.978 444.184 L84.0938 444.184 L84.0938 438.304 Z\" fill=\"#000000\" fill-rule=\"nonzero\" fill-opacity=\"1\" /><path clip-path=\"url(#clip530)\" d=\"M97.9826 409.624 L120.205 409.624 L120.205 411.614 L107.658 444.184 L102.774 444.184 L114.58 413.559 L97.9826 413.559 L97.9826 409.624 Z\" fill=\"#000000\" fill-rule=\"nonzero\" fill-opacity=\"1\" /><path clip-path=\"url(#clip530)\" d=\"M129.371 409.624 L147.728 409.624 L147.728 413.559 L133.654 413.559 L133.654 422.031 Q134.672 421.684 135.691 421.522 Q136.709 421.337 137.728 421.337 Q143.515 421.337 146.894 424.508 Q150.274 427.679 150.274 433.096 Q150.274 438.674 146.802 441.776 Q143.33 444.855 137.01 444.855 Q134.834 444.855 132.566 444.485 Q130.32 444.114 127.913 443.373 L127.913 438.674 Q129.996 439.809 132.219 440.364 Q134.441 440.92 136.918 440.92 Q140.922 440.92 143.26 438.813 Q145.598 436.707 145.598 433.096 Q145.598 429.485 143.26 427.378 Q140.922 425.272 136.918 425.272 Q135.043 425.272 133.168 425.688 Q131.316 426.105 129.371 426.985 L129.371 409.624 Z\" fill=\"#000000\" fill-rule=\"nonzero\" fill-opacity=\"1\" /><path clip-path=\"url(#clip530)\" d=\"M53.7467 99.7139 L61.3856 99.7139 L61.3856 73.3483 L53.0754 75.015 L53.0754 70.7557 L61.3393 69.0891 L66.0152 69.0891 L66.0152 99.7139 L73.654 99.7139 L73.654 103.649 L53.7467 103.649 L53.7467 99.7139 Z\" fill=\"#000000\" fill-rule=\"nonzero\" fill-opacity=\"1\" /><path clip-path=\"url(#clip530)\" d=\"M83.0984 97.7695 L87.9827 97.7695 L87.9827 103.649 L83.0984 103.649 L83.0984 97.7695 Z\" fill=\"#000000\" fill-rule=\"nonzero\" fill-opacity=\"1\" /><path clip-path=\"url(#clip530)\" d=\"M108.168 72.1678 Q104.557 72.1678 102.728 75.7326 Q100.922 79.2742 100.922 86.4038 Q100.922 93.5102 102.728 97.075 Q104.557 100.617 108.168 100.617 Q111.802 100.617 113.608 97.075 Q115.436 93.5102 115.436 86.4038 Q115.436 79.2742 113.608 75.7326 Q111.802 72.1678 108.168 72.1678 M108.168 68.4641 Q113.978 68.4641 117.033 73.0705 Q120.112 77.6539 120.112 86.4038 Q120.112 95.1306 117.033 99.7371 Q113.978 104.32 108.168 104.32 Q102.358 104.32 99.2789 99.7371 Q96.2234 95.1306 96.2234 86.4038 Q96.2234 77.6539 99.2789 73.0705 Q102.358 68.4641 108.168 68.4641 Z\" fill=\"#000000\" fill-rule=\"nonzero\" fill-opacity=\"1\" /><path clip-path=\"url(#clip530)\" d=\"M138.33 72.1678 Q134.719 72.1678 132.89 75.7326 Q131.084 79.2742 131.084 86.4038 Q131.084 93.5102 132.89 97.075 Q134.719 100.617 138.33 100.617 Q141.964 100.617 143.769 97.075 Q145.598 93.5102 145.598 86.4038 Q145.598 79.2742 143.769 75.7326 Q141.964 72.1678 138.33 72.1678 M138.33 68.4641 Q144.14 68.4641 147.195 73.0705 Q150.274 77.6539 150.274 86.4038 Q150.274 95.1306 147.195 99.7371 Q144.14 104.32 138.33 104.32 Q132.519 104.32 129.441 99.7371 Q126.385 95.1306 126.385 86.4038 Q126.385 77.6539 129.441 73.0705 Q132.519 68.4641 138.33 68.4641 Z\" fill=\"#000000\" fill-rule=\"nonzero\" fill-opacity=\"1\" /><polyline clip-path=\"url(#clip532)\" style=\"stroke:#ff0000; stroke-linecap:round; stroke-linejoin:round; stroke-width:4; stroke-opacity:1; fill:none\" points=\"213.106,270.579 222.14,246.898 231.175,504.402 240.209,1431.82 249.244,696.035 258.278,485.478 267.312,1445.72 276.347,1231.17 285.381,714.572 294.416,98.8572 303.45,556.22 312.484,590.829 321.519,714.516 330.553,932.873 339.587,161.701 348.622,1197.52 357.656,478.524 366.691,1342.17 375.725,1309.08 384.759,263.953 393.794,963.189 402.828,506.239 411.862,966.266 420.897,1229.05 429.931,741.023 438.966,997.609 448,1409.71 457.034,750.626 466.069,1191.38 475.103,506.831 484.137,892.649 493.172,1152.1 502.206,663.535 511.241,818.995 520.275,948.499 529.309,295.191 538.344,1373.79 547.378,1240.2 556.412,215.248 565.447,472.355 574.481,937.573 583.516,1425.24 592.55,923.513 601.584,282.81 610.619,222.167 619.653,957.412 628.688,449.188 637.722,527.929 646.756,563.956 655.791,730.694 664.825,154.906 673.859,779.555 682.894,124.181 691.928,162.876 700.963,544.438 709.997,1138.98 719.031,198.208 728.066,833.619 737.1,620.946 746.134,704.891 755.169,364.961 764.203,524.075 773.238,275.372 782.272,1090.8 791.306,87.9763 800.341,945.294 809.375,402.755 818.409,997.483 827.444,1424.38 836.478,125.919 845.513,1345.32 854.547,717.99 863.581,1274.3 872.616,905.79 881.65,1098.52 890.684,366.803 899.719,791.039 908.753,464.007 917.788,735.909 926.822,284.133 935.856,913.789 944.891,1122.54 953.925,119.719 962.959,1089.29 971.994,910.931 981.028,203.339 990.063,635.857 999.097,145.5 1008.13,158.234 1017.17,819.25 1026.2,181.627 1035.23,197.834 1044.27,600.585 1053.3,1063.92 1062.34,159.159 1071.37,643.844 1080.41,677.221 1089.44,687.139 1098.48,824.621 1107.51,361.458 \"/>\n",
       "<path clip-path=\"url(#clip530)\" d=\"M986.035 1438.47 L1102.74 1438.47 L1102.74 1334.79 L986.035 1334.79  Z\" fill=\"#ffffff\" fill-rule=\"evenodd\" fill-opacity=\"1\"/>\n",
       "<polyline clip-path=\"url(#clip530)\" style=\"stroke:#000000; stroke-linecap:round; stroke-linejoin:round; stroke-width:4; stroke-opacity:1; fill:none\" points=\"986.035,1438.47 1102.74,1438.47 1102.74,1334.79 986.035,1334.79 986.035,1438.47 \"/>\n",
       "<polyline clip-path=\"url(#clip530)\" style=\"stroke:#ff0000; stroke-linecap:round; stroke-linejoin:round; stroke-width:4; stroke-opacity:1; fill:none\" points=\"996.569,1386.63 1059.77,1386.63 \"/>\n",
       "<path clip-path=\"url(#clip530)\" d=\"M1083.71 1390.88 Q1078.55 1390.88 1076.56 1392.06 Q1074.57 1393.24 1074.57 1396.09 Q1074.57 1398.36 1076.05 1399.7 Q1077.55 1401.02 1080.12 1401.02 Q1083.66 1401.02 1085.79 1398.52 Q1087.95 1396 1087.95 1391.83 L1087.95 1390.88 L1083.71 1390.88 M1092.21 1389.12 L1092.21 1403.91 L1087.95 1403.91 L1087.95 1399.98 Q1086.49 1402.34 1084.31 1403.47 Q1082.14 1404.59 1078.99 1404.59 Q1075.01 1404.59 1072.65 1402.36 Q1070.31 1400.12 1070.31 1396.37 Q1070.31 1391.99 1073.22 1389.77 Q1076.16 1387.55 1081.97 1387.55 L1087.95 1387.55 L1087.95 1387.13 Q1087.95 1384.19 1086 1382.6 Q1084.08 1380.97 1080.59 1380.97 Q1078.36 1380.97 1076.26 1381.51 Q1074.15 1382.04 1072.21 1383.1 L1072.21 1379.17 Q1074.54 1378.27 1076.74 1377.83 Q1078.94 1377.36 1081.02 1377.36 Q1086.65 1377.36 1089.43 1380.28 Q1092.21 1383.2 1092.21 1389.12 Z\" fill=\"#000000\" fill-rule=\"nonzero\" fill-opacity=\"1\" /><path clip-path=\"url(#clip530)\" d=\"M1404.69 1486.45 L2352.76 1486.45 L2352.76 47.2441 L1404.69 47.2441  Z\" fill=\"#ffffff\" fill-rule=\"evenodd\" fill-opacity=\"1\"/>\n",
       "<defs>\n",
       "  <clipPath id=\"clip533\">\n",
       "    <rect x=\"1404\" y=\"47\" width=\"949\" height=\"1440\"/>\n",
       "  </clipPath>\n",
       "</defs>\n",
       "<polyline clip-path=\"url(#clip533)\" style=\"stroke:#000000; stroke-linecap:round; stroke-linejoin:round; stroke-width:2; stroke-opacity:0.1; fill:none\" points=\"1422.49,1486.45 1422.49,47.2441 \"/>\n",
       "<polyline clip-path=\"url(#clip533)\" style=\"stroke:#000000; stroke-linecap:round; stroke-linejoin:round; stroke-width:2; stroke-opacity:0.1; fill:none\" points=\"1648.35,1486.45 1648.35,47.2441 \"/>\n",
       "<polyline clip-path=\"url(#clip533)\" style=\"stroke:#000000; stroke-linecap:round; stroke-linejoin:round; stroke-width:2; stroke-opacity:0.1; fill:none\" points=\"1874.2,1486.45 1874.2,47.2441 \"/>\n",
       "<polyline clip-path=\"url(#clip533)\" style=\"stroke:#000000; stroke-linecap:round; stroke-linejoin:round; stroke-width:2; stroke-opacity:0.1; fill:none\" points=\"2100.06,1486.45 2100.06,47.2441 \"/>\n",
       "<polyline clip-path=\"url(#clip533)\" style=\"stroke:#000000; stroke-linecap:round; stroke-linejoin:round; stroke-width:2; stroke-opacity:0.1; fill:none\" points=\"2325.92,1486.45 2325.92,47.2441 \"/>\n",
       "<polyline clip-path=\"url(#clip530)\" style=\"stroke:#000000; stroke-linecap:round; stroke-linejoin:round; stroke-width:4; stroke-opacity:1; fill:none\" points=\"1404.69,1486.45 2352.76,1486.45 \"/>\n",
       "<polyline clip-path=\"url(#clip530)\" style=\"stroke:#000000; stroke-linecap:round; stroke-linejoin:round; stroke-width:4; stroke-opacity:1; fill:none\" points=\"1422.49,1486.45 1422.49,1467.55 \"/>\n",
       "<polyline clip-path=\"url(#clip530)\" style=\"stroke:#000000; stroke-linecap:round; stroke-linejoin:round; stroke-width:4; stroke-opacity:1; fill:none\" points=\"1648.35,1486.45 1648.35,1467.55 \"/>\n",
       "<polyline clip-path=\"url(#clip530)\" style=\"stroke:#000000; stroke-linecap:round; stroke-linejoin:round; stroke-width:4; stroke-opacity:1; fill:none\" points=\"1874.2,1486.45 1874.2,1467.55 \"/>\n",
       "<polyline clip-path=\"url(#clip530)\" style=\"stroke:#000000; stroke-linecap:round; stroke-linejoin:round; stroke-width:4; stroke-opacity:1; fill:none\" points=\"2100.06,1486.45 2100.06,1467.55 \"/>\n",
       "<polyline clip-path=\"url(#clip530)\" style=\"stroke:#000000; stroke-linecap:round; stroke-linejoin:round; stroke-width:4; stroke-opacity:1; fill:none\" points=\"2325.92,1486.45 2325.92,1467.55 \"/>\n",
       "<path clip-path=\"url(#clip530)\" d=\"M1422.49 1517.37 Q1418.87 1517.37 1417.05 1520.93 Q1415.24 1524.47 1415.24 1531.6 Q1415.24 1538.71 1417.05 1542.27 Q1418.87 1545.82 1422.49 1545.82 Q1426.12 1545.82 1427.93 1542.27 Q1429.75 1538.71 1429.75 1531.6 Q1429.75 1524.47 1427.93 1520.93 Q1426.12 1517.37 1422.49 1517.37 M1422.49 1513.66 Q1428.3 1513.66 1431.35 1518.27 Q1434.43 1522.85 1434.43 1531.6 Q1434.43 1540.33 1431.35 1544.94 Q1428.3 1549.52 1422.49 1549.52 Q1416.68 1549.52 1413.6 1544.94 Q1410.54 1540.33 1410.54 1531.6 Q1410.54 1522.85 1413.6 1518.27 Q1416.68 1513.66 1422.49 1513.66 Z\" fill=\"#000000\" fill-rule=\"nonzero\" fill-opacity=\"1\" /><path clip-path=\"url(#clip530)\" d=\"M1627.62 1544.91 L1643.94 1544.91 L1643.94 1548.85 L1621.99 1548.85 L1621.99 1544.91 Q1624.65 1542.16 1629.24 1537.53 Q1633.84 1532.88 1635.02 1531.53 Q1637.27 1529.01 1638.15 1527.27 Q1639.05 1525.51 1639.05 1523.82 Q1639.05 1521.07 1637.11 1519.33 Q1635.19 1517.6 1632.08 1517.6 Q1629.88 1517.6 1627.43 1518.36 Q1625 1519.13 1622.22 1520.68 L1622.22 1515.95 Q1625.05 1514.82 1627.5 1514.24 Q1629.95 1513.66 1631.99 1513.66 Q1637.36 1513.66 1640.56 1516.35 Q1643.75 1519.03 1643.75 1523.52 Q1643.75 1525.65 1642.94 1527.57 Q1642.15 1529.47 1640.05 1532.07 Q1639.47 1532.74 1636.37 1535.95 Q1633.26 1539.15 1627.62 1544.91 Z\" fill=\"#000000\" fill-rule=\"nonzero\" fill-opacity=\"1\" /><path clip-path=\"url(#clip530)\" d=\"M1653.8 1514.29 L1672.15 1514.29 L1672.15 1518.22 L1658.08 1518.22 L1658.08 1526.7 Q1659.1 1526.35 1660.12 1526.19 Q1661.13 1526 1662.15 1526 Q1667.94 1526 1671.32 1529.17 Q1674.7 1532.34 1674.7 1537.76 Q1674.7 1543.34 1671.23 1546.44 Q1667.76 1549.52 1661.44 1549.52 Q1659.26 1549.52 1656.99 1549.15 Q1654.75 1548.78 1652.34 1548.04 L1652.34 1543.34 Q1654.42 1544.47 1656.64 1545.03 Q1658.87 1545.58 1661.34 1545.58 Q1665.35 1545.58 1667.69 1543.48 Q1670.02 1541.37 1670.02 1537.76 Q1670.02 1534.15 1667.69 1532.04 Q1665.35 1529.94 1661.34 1529.94 Q1659.47 1529.94 1657.59 1530.35 Q1655.74 1530.77 1653.8 1531.65 L1653.8 1514.29 Z\" fill=\"#000000\" fill-rule=\"nonzero\" fill-opacity=\"1\" /><path clip-path=\"url(#clip530)\" d=\"M1848.9 1514.29 L1867.26 1514.29 L1867.26 1518.22 L1853.19 1518.22 L1853.19 1526.7 Q1854.2 1526.35 1855.22 1526.19 Q1856.24 1526 1857.26 1526 Q1863.05 1526 1866.43 1529.17 Q1869.81 1532.34 1869.81 1537.76 Q1869.81 1543.34 1866.33 1546.44 Q1862.86 1549.52 1856.54 1549.52 Q1854.37 1549.52 1852.1 1549.15 Q1849.85 1548.78 1847.45 1548.04 L1847.45 1543.34 Q1849.53 1544.47 1851.75 1545.03 Q1853.97 1545.58 1856.45 1545.58 Q1860.45 1545.58 1862.79 1543.48 Q1865.13 1541.37 1865.13 1537.76 Q1865.13 1534.15 1862.79 1532.04 Q1860.45 1529.94 1856.45 1529.94 Q1854.58 1529.94 1852.7 1530.35 Q1850.85 1530.77 1848.9 1531.65 L1848.9 1514.29 Z\" fill=\"#000000\" fill-rule=\"nonzero\" fill-opacity=\"1\" /><path clip-path=\"url(#clip530)\" d=\"M1889.02 1517.37 Q1885.41 1517.37 1883.58 1520.93 Q1881.77 1524.47 1881.77 1531.6 Q1881.77 1538.71 1883.58 1542.27 Q1885.41 1545.82 1889.02 1545.82 Q1892.65 1545.82 1894.46 1542.27 Q1896.29 1538.71 1896.29 1531.6 Q1896.29 1524.47 1894.46 1520.93 Q1892.65 1517.37 1889.02 1517.37 M1889.02 1513.66 Q1894.83 1513.66 1897.89 1518.27 Q1900.96 1522.85 1900.96 1531.6 Q1900.96 1540.33 1897.89 1544.94 Q1894.83 1549.52 1889.02 1549.52 Q1883.21 1549.52 1880.13 1544.94 Q1877.08 1540.33 1877.08 1531.6 Q1877.08 1522.85 1880.13 1518.27 Q1883.21 1513.66 1889.02 1513.66 Z\" fill=\"#000000\" fill-rule=\"nonzero\" fill-opacity=\"1\" /><path clip-path=\"url(#clip530)\" d=\"M2073.92 1514.29 L2096.14 1514.29 L2096.14 1516.28 L2083.59 1548.85 L2078.71 1548.85 L2090.52 1518.22 L2073.92 1518.22 L2073.92 1514.29 Z\" fill=\"#000000\" fill-rule=\"nonzero\" fill-opacity=\"1\" /><path clip-path=\"url(#clip530)\" d=\"M2105.31 1514.29 L2123.66 1514.29 L2123.66 1518.22 L2109.59 1518.22 L2109.59 1526.7 Q2110.61 1526.35 2111.63 1526.19 Q2112.65 1526 2113.66 1526 Q2119.45 1526 2122.83 1529.17 Q2126.21 1532.34 2126.21 1537.76 Q2126.21 1543.34 2122.74 1546.44 Q2119.27 1549.52 2112.95 1549.52 Q2110.77 1549.52 2108.5 1549.15 Q2106.26 1548.78 2103.85 1548.04 L2103.85 1543.34 Q2105.93 1544.47 2108.15 1545.03 Q2110.38 1545.58 2112.85 1545.58 Q2116.86 1545.58 2119.2 1543.48 Q2121.53 1541.37 2121.53 1537.76 Q2121.53 1534.15 2119.2 1532.04 Q2116.86 1529.94 2112.85 1529.94 Q2110.98 1529.94 2109.1 1530.35 Q2107.25 1530.77 2105.31 1531.65 L2105.31 1514.29 Z\" fill=\"#000000\" fill-rule=\"nonzero\" fill-opacity=\"1\" /><path clip-path=\"url(#clip530)\" d=\"M2285.53 1544.91 L2293.17 1544.91 L2293.17 1518.55 L2284.86 1520.21 L2284.86 1515.95 L2293.12 1514.29 L2297.8 1514.29 L2297.8 1544.91 L2305.44 1544.91 L2305.44 1548.85 L2285.53 1548.85 L2285.53 1544.91 Z\" fill=\"#000000\" fill-rule=\"nonzero\" fill-opacity=\"1\" /><path clip-path=\"url(#clip530)\" d=\"M2324.88 1517.37 Q2321.27 1517.37 2319.44 1520.93 Q2317.64 1524.47 2317.64 1531.6 Q2317.64 1538.71 2319.44 1542.27 Q2321.27 1545.82 2324.88 1545.82 Q2328.52 1545.82 2330.32 1542.27 Q2332.15 1538.71 2332.15 1531.6 Q2332.15 1524.47 2330.32 1520.93 Q2328.52 1517.37 2324.88 1517.37 M2324.88 1513.66 Q2330.69 1513.66 2333.75 1518.27 Q2336.83 1522.85 2336.83 1531.6 Q2336.83 1540.33 2333.75 1544.94 Q2330.69 1549.52 2324.88 1549.52 Q2319.07 1549.52 2315.99 1544.94 Q2312.94 1540.33 2312.94 1531.6 Q2312.94 1522.85 2315.99 1518.27 Q2319.07 1513.66 2324.88 1513.66 Z\" fill=\"#000000\" fill-rule=\"nonzero\" fill-opacity=\"1\" /><path clip-path=\"url(#clip530)\" d=\"M2355.04 1517.37 Q2351.43 1517.37 2349.6 1520.93 Q2347.8 1524.47 2347.8 1531.6 Q2347.8 1538.71 2349.6 1542.27 Q2351.43 1545.82 2355.04 1545.82 Q2358.68 1545.82 2360.48 1542.27 Q2362.31 1538.71 2362.31 1531.6 Q2362.31 1524.47 2360.48 1520.93 Q2358.68 1517.37 2355.04 1517.37 M2355.04 1513.66 Q2360.85 1513.66 2363.91 1518.27 Q2366.99 1522.85 2366.99 1531.6 Q2366.99 1540.33 2363.91 1544.94 Q2360.85 1549.52 2355.04 1549.52 Q2349.23 1549.52 2346.16 1544.94 Q2343.1 1540.33 2343.1 1531.6 Q2343.1 1522.85 2346.16 1518.27 Q2349.23 1513.66 2355.04 1513.66 Z\" fill=\"#000000\" fill-rule=\"nonzero\" fill-opacity=\"1\" /><polyline clip-path=\"url(#clip533)\" style=\"stroke:#000000; stroke-linecap:round; stroke-linejoin:round; stroke-width:2; stroke-opacity:0.1; fill:none\" points=\"1404.69,1407.39 2352.76,1407.39 \"/>\n",
       "<polyline clip-path=\"url(#clip533)\" style=\"stroke:#000000; stroke-linecap:round; stroke-linejoin:round; stroke-width:2; stroke-opacity:0.1; fill:none\" points=\"1404.69,1201.63 2352.76,1201.63 \"/>\n",
       "<polyline clip-path=\"url(#clip533)\" style=\"stroke:#000000; stroke-linecap:round; stroke-linejoin:round; stroke-width:2; stroke-opacity:0.1; fill:none\" points=\"1404.69,995.865 2352.76,995.865 \"/>\n",
       "<polyline clip-path=\"url(#clip533)\" style=\"stroke:#000000; stroke-linecap:round; stroke-linejoin:round; stroke-width:2; stroke-opacity:0.1; fill:none\" points=\"1404.69,790.102 2352.76,790.102 \"/>\n",
       "<polyline clip-path=\"url(#clip533)\" style=\"stroke:#000000; stroke-linecap:round; stroke-linejoin:round; stroke-width:2; stroke-opacity:0.1; fill:none\" points=\"1404.69,584.339 2352.76,584.339 \"/>\n",
       "<polyline clip-path=\"url(#clip533)\" style=\"stroke:#000000; stroke-linecap:round; stroke-linejoin:round; stroke-width:2; stroke-opacity:0.1; fill:none\" points=\"1404.69,378.576 2352.76,378.576 \"/>\n",
       "<polyline clip-path=\"url(#clip533)\" style=\"stroke:#000000; stroke-linecap:round; stroke-linejoin:round; stroke-width:2; stroke-opacity:0.1; fill:none\" points=\"1404.69,172.814 2352.76,172.814 \"/>\n",
       "<polyline clip-path=\"url(#clip530)\" style=\"stroke:#000000; stroke-linecap:round; stroke-linejoin:round; stroke-width:4; stroke-opacity:1; fill:none\" points=\"1404.69,1486.45 1404.69,47.2441 \"/>\n",
       "<polyline clip-path=\"url(#clip530)\" style=\"stroke:#000000; stroke-linecap:round; stroke-linejoin:round; stroke-width:4; stroke-opacity:1; fill:none\" points=\"1404.69,1407.39 1423.59,1407.39 \"/>\n",
       "<polyline clip-path=\"url(#clip530)\" style=\"stroke:#000000; stroke-linecap:round; stroke-linejoin:round; stroke-width:4; stroke-opacity:1; fill:none\" points=\"1404.69,1201.63 1423.59,1201.63 \"/>\n",
       "<polyline clip-path=\"url(#clip530)\" style=\"stroke:#000000; stroke-linecap:round; stroke-linejoin:round; stroke-width:4; stroke-opacity:1; fill:none\" points=\"1404.69,995.865 1423.59,995.865 \"/>\n",
       "<polyline clip-path=\"url(#clip530)\" style=\"stroke:#000000; stroke-linecap:round; stroke-linejoin:round; stroke-width:4; stroke-opacity:1; fill:none\" points=\"1404.69,790.102 1423.59,790.102 \"/>\n",
       "<polyline clip-path=\"url(#clip530)\" style=\"stroke:#000000; stroke-linecap:round; stroke-linejoin:round; stroke-width:4; stroke-opacity:1; fill:none\" points=\"1404.69,584.339 1423.59,584.339 \"/>\n",
       "<polyline clip-path=\"url(#clip530)\" style=\"stroke:#000000; stroke-linecap:round; stroke-linejoin:round; stroke-width:4; stroke-opacity:1; fill:none\" points=\"1404.69,378.576 1423.59,378.576 \"/>\n",
       "<polyline clip-path=\"url(#clip530)\" style=\"stroke:#000000; stroke-linecap:round; stroke-linejoin:round; stroke-width:4; stroke-opacity:1; fill:none\" points=\"1404.69,172.814 1423.59,172.814 \"/>\n",
       "<path clip-path=\"url(#clip530)\" d=\"M1232.58 1407.84 L1262.25 1407.84 L1262.25 1411.78 L1232.58 1411.78 L1232.58 1407.84 Z\" fill=\"#000000\" fill-rule=\"nonzero\" fill-opacity=\"1\" /><path clip-path=\"url(#clip530)\" d=\"M1282.35 1393.19 Q1278.74 1393.19 1276.91 1396.75 Q1275.1 1400.3 1275.1 1407.42 Q1275.1 1414.53 1276.91 1418.1 Q1278.74 1421.64 1282.35 1421.64 Q1285.98 1421.64 1287.79 1418.1 Q1289.61 1414.53 1289.61 1407.42 Q1289.61 1400.3 1287.79 1396.75 Q1285.98 1393.19 1282.35 1393.19 M1282.35 1389.49 Q1288.16 1389.49 1291.21 1394.09 Q1294.29 1398.67 1294.29 1407.42 Q1294.29 1416.15 1291.21 1420.76 Q1288.16 1425.34 1282.35 1425.34 Q1276.54 1425.34 1273.46 1420.76 Q1270.4 1416.15 1270.4 1407.42 Q1270.4 1398.67 1273.46 1394.09 Q1276.54 1389.49 1282.35 1389.49 Z\" fill=\"#000000\" fill-rule=\"nonzero\" fill-opacity=\"1\" /><path clip-path=\"url(#clip530)\" d=\"M1302.51 1418.79 L1307.39 1418.79 L1307.39 1424.67 L1302.51 1424.67 L1302.51 1418.79 Z\" fill=\"#000000\" fill-rule=\"nonzero\" fill-opacity=\"1\" /><path clip-path=\"url(#clip530)\" d=\"M1321.61 1420.73 L1337.92 1420.73 L1337.92 1424.67 L1315.98 1424.67 L1315.98 1420.73 Q1318.64 1417.98 1323.23 1413.35 Q1327.83 1408.7 1329.01 1407.36 Q1331.26 1404.83 1332.14 1403.1 Q1333.04 1401.34 1333.04 1399.65 Q1333.04 1396.89 1331.1 1395.16 Q1329.17 1393.42 1326.07 1393.42 Q1323.87 1393.42 1321.42 1394.18 Q1318.99 1394.95 1316.21 1396.5 L1316.21 1391.78 Q1319.04 1390.64 1321.49 1390.06 Q1323.94 1389.49 1325.98 1389.49 Q1331.35 1389.49 1334.54 1392.17 Q1337.74 1394.86 1337.74 1399.35 Q1337.74 1401.48 1336.93 1403.4 Q1336.14 1405.3 1334.04 1407.89 Q1333.46 1408.56 1330.36 1411.78 Q1327.25 1414.97 1321.61 1420.73 Z\" fill=\"#000000\" fill-rule=\"nonzero\" fill-opacity=\"1\" /><path clip-path=\"url(#clip530)\" d=\"M1347.79 1390.11 L1366.14 1390.11 L1366.14 1394.05 L1352.07 1394.05 L1352.07 1402.52 Q1353.09 1402.17 1354.1 1402.01 Q1355.12 1401.82 1356.14 1401.82 Q1361.93 1401.82 1365.31 1404.99 Q1368.69 1408.17 1368.69 1413.58 Q1368.69 1419.16 1365.22 1422.26 Q1361.74 1425.34 1355.42 1425.34 Q1353.25 1425.34 1350.98 1424.97 Q1348.73 1424.6 1346.33 1423.86 L1346.33 1419.16 Q1348.41 1420.3 1350.63 1420.85 Q1352.86 1421.41 1355.33 1421.41 Q1359.34 1421.41 1361.67 1419.3 Q1364.01 1417.19 1364.01 1413.58 Q1364.01 1409.97 1361.67 1407.86 Q1359.34 1405.76 1355.33 1405.76 Q1353.46 1405.76 1351.58 1406.17 Q1349.73 1406.59 1347.79 1407.47 L1347.79 1390.11 Z\" fill=\"#000000\" fill-rule=\"nonzero\" fill-opacity=\"1\" /><path clip-path=\"url(#clip530)\" d=\"M1281.35 1187.43 Q1277.74 1187.43 1275.91 1190.99 Q1274.11 1194.53 1274.11 1201.66 Q1274.11 1208.77 1275.91 1212.33 Q1277.74 1215.87 1281.35 1215.87 Q1284.98 1215.87 1286.79 1212.33 Q1288.62 1208.77 1288.62 1201.66 Q1288.62 1194.53 1286.79 1190.99 Q1284.98 1187.43 1281.35 1187.43 M1281.35 1183.72 Q1287.16 1183.72 1290.22 1188.33 Q1293.3 1192.91 1293.3 1201.66 Q1293.3 1210.39 1290.22 1215 Q1287.16 1219.58 1281.35 1219.58 Q1275.54 1219.58 1272.46 1215 Q1269.41 1210.39 1269.41 1201.66 Q1269.41 1192.91 1272.46 1188.33 Q1275.54 1183.72 1281.35 1183.72 Z\" fill=\"#000000\" fill-rule=\"nonzero\" fill-opacity=\"1\" /><path clip-path=\"url(#clip530)\" d=\"M1301.51 1213.03 L1306.4 1213.03 L1306.4 1218.91 L1301.51 1218.91 L1301.51 1213.03 Z\" fill=\"#000000\" fill-rule=\"nonzero\" fill-opacity=\"1\" /><path clip-path=\"url(#clip530)\" d=\"M1326.58 1187.43 Q1322.97 1187.43 1321.14 1190.99 Q1319.34 1194.53 1319.34 1201.66 Q1319.34 1208.77 1321.14 1212.33 Q1322.97 1215.87 1326.58 1215.87 Q1330.22 1215.87 1332.02 1212.33 Q1333.85 1208.77 1333.85 1201.66 Q1333.85 1194.53 1332.02 1190.99 Q1330.22 1187.43 1326.58 1187.43 M1326.58 1183.72 Q1332.39 1183.72 1335.45 1188.33 Q1338.53 1192.91 1338.53 1201.66 Q1338.53 1210.39 1335.45 1215 Q1332.39 1219.58 1326.58 1219.58 Q1320.77 1219.58 1317.69 1215 Q1314.64 1210.39 1314.64 1201.66 Q1314.64 1192.91 1317.69 1188.33 Q1320.77 1183.72 1326.58 1183.72 Z\" fill=\"#000000\" fill-rule=\"nonzero\" fill-opacity=\"1\" /><path clip-path=\"url(#clip530)\" d=\"M1356.74 1187.43 Q1353.13 1187.43 1351.3 1190.99 Q1349.5 1194.53 1349.5 1201.66 Q1349.5 1208.77 1351.3 1212.33 Q1353.13 1215.87 1356.74 1215.87 Q1360.38 1215.87 1362.18 1212.33 Q1364.01 1208.77 1364.01 1201.66 Q1364.01 1194.53 1362.18 1190.99 Q1360.38 1187.43 1356.74 1187.43 M1356.74 1183.72 Q1362.55 1183.72 1365.61 1188.33 Q1368.69 1192.91 1368.69 1201.66 Q1368.69 1210.39 1365.61 1215 Q1362.55 1219.58 1356.74 1219.58 Q1350.93 1219.58 1347.86 1215 Q1344.8 1210.39 1344.8 1201.66 Q1344.8 1192.91 1347.86 1188.33 Q1350.93 1183.72 1356.74 1183.72 Z\" fill=\"#000000\" fill-rule=\"nonzero\" fill-opacity=\"1\" /><path clip-path=\"url(#clip530)\" d=\"M1282.35 981.663 Q1278.74 981.663 1276.91 985.228 Q1275.1 988.77 1275.1 995.899 Q1275.1 1003.01 1276.91 1006.57 Q1278.74 1010.11 1282.35 1010.11 Q1285.98 1010.11 1287.79 1006.57 Q1289.61 1003.01 1289.61 995.899 Q1289.61 988.77 1287.79 985.228 Q1285.98 981.663 1282.35 981.663 M1282.35 977.96 Q1288.16 977.96 1291.21 982.566 Q1294.29 987.149 1294.29 995.899 Q1294.29 1004.63 1291.21 1009.23 Q1288.16 1013.82 1282.35 1013.82 Q1276.54 1013.82 1273.46 1009.23 Q1270.4 1004.63 1270.4 995.899 Q1270.4 987.149 1273.46 982.566 Q1276.54 977.96 1282.35 977.96 Z\" fill=\"#000000\" fill-rule=\"nonzero\" fill-opacity=\"1\" /><path clip-path=\"url(#clip530)\" d=\"M1302.51 1007.26 L1307.39 1007.26 L1307.39 1013.14 L1302.51 1013.14 L1302.51 1007.26 Z\" fill=\"#000000\" fill-rule=\"nonzero\" fill-opacity=\"1\" /><path clip-path=\"url(#clip530)\" d=\"M1321.61 1009.21 L1337.92 1009.21 L1337.92 1013.14 L1315.98 1013.14 L1315.98 1009.21 Q1318.64 1006.45 1323.23 1001.83 Q1327.83 997.172 1329.01 995.83 Q1331.26 993.307 1332.14 991.571 Q1333.04 989.811 1333.04 988.122 Q1333.04 985.367 1331.1 983.631 Q1329.17 981.895 1326.07 981.895 Q1323.87 981.895 1321.42 982.659 Q1318.99 983.422 1316.21 984.973 L1316.21 980.251 Q1319.04 979.117 1321.49 978.538 Q1323.94 977.96 1325.98 977.96 Q1331.35 977.96 1334.54 980.645 Q1337.74 983.33 1337.74 987.821 Q1337.74 989.95 1336.93 991.872 Q1336.14 993.77 1334.04 996.362 Q1333.46 997.034 1330.36 1000.25 Q1327.25 1003.45 1321.61 1009.21 Z\" fill=\"#000000\" fill-rule=\"nonzero\" fill-opacity=\"1\" /><path clip-path=\"url(#clip530)\" d=\"M1347.79 978.585 L1366.14 978.585 L1366.14 982.52 L1352.07 982.52 L1352.07 990.992 Q1353.09 990.645 1354.1 990.483 Q1355.12 990.297 1356.14 990.297 Q1361.93 990.297 1365.31 993.469 Q1368.69 996.64 1368.69 1002.06 Q1368.69 1007.64 1365.22 1010.74 Q1361.74 1013.82 1355.42 1013.82 Q1353.25 1013.82 1350.98 1013.45 Q1348.73 1013.08 1346.33 1012.33 L1346.33 1007.64 Q1348.41 1008.77 1350.63 1009.33 Q1352.86 1009.88 1355.33 1009.88 Q1359.34 1009.88 1361.67 1007.77 Q1364.01 1005.67 1364.01 1002.06 Q1364.01 998.446 1361.67 996.339 Q1359.34 994.233 1355.33 994.233 Q1353.46 994.233 1351.58 994.649 Q1349.73 995.066 1347.79 995.946 L1347.79 978.585 Z\" fill=\"#000000\" fill-rule=\"nonzero\" fill-opacity=\"1\" /><path clip-path=\"url(#clip530)\" d=\"M1281.35 775.9 Q1277.74 775.9 1275.91 779.465 Q1274.11 783.007 1274.11 790.137 Q1274.11 797.243 1275.91 800.808 Q1277.74 804.349 1281.35 804.349 Q1284.98 804.349 1286.79 800.808 Q1288.62 797.243 1288.62 790.137 Q1288.62 783.007 1286.79 779.465 Q1284.98 775.9 1281.35 775.9 M1281.35 772.197 Q1287.16 772.197 1290.22 776.803 Q1293.3 781.387 1293.3 790.137 Q1293.3 798.863 1290.22 803.47 Q1287.16 808.053 1281.35 808.053 Q1275.54 808.053 1272.46 803.47 Q1269.41 798.863 1269.41 790.137 Q1269.41 781.387 1272.46 776.803 Q1275.54 772.197 1281.35 772.197 Z\" fill=\"#000000\" fill-rule=\"nonzero\" fill-opacity=\"1\" /><path clip-path=\"url(#clip530)\" d=\"M1301.51 801.502 L1306.4 801.502 L1306.4 807.382 L1301.51 807.382 L1301.51 801.502 Z\" fill=\"#000000\" fill-rule=\"nonzero\" fill-opacity=\"1\" /><path clip-path=\"url(#clip530)\" d=\"M1316.63 772.822 L1334.98 772.822 L1334.98 776.757 L1320.91 776.757 L1320.91 785.229 Q1321.93 784.882 1322.95 784.72 Q1323.97 784.535 1324.98 784.535 Q1330.77 784.535 1334.15 787.706 Q1337.53 790.877 1337.53 796.294 Q1337.53 801.873 1334.06 804.974 Q1330.59 808.053 1324.27 808.053 Q1322.09 808.053 1319.82 807.683 Q1317.58 807.312 1315.17 806.572 L1315.17 801.873 Q1317.25 803.007 1319.48 803.562 Q1321.7 804.118 1324.17 804.118 Q1328.18 804.118 1330.52 802.011 Q1332.86 799.905 1332.86 796.294 Q1332.86 792.683 1330.52 790.576 Q1328.18 788.47 1324.17 788.47 Q1322.3 788.47 1320.42 788.887 Q1318.57 789.303 1316.63 790.183 L1316.63 772.822 Z\" fill=\"#000000\" fill-rule=\"nonzero\" fill-opacity=\"1\" /><path clip-path=\"url(#clip530)\" d=\"M1356.74 775.9 Q1353.13 775.9 1351.3 779.465 Q1349.5 783.007 1349.5 790.137 Q1349.5 797.243 1351.3 800.808 Q1353.13 804.349 1356.74 804.349 Q1360.38 804.349 1362.18 800.808 Q1364.01 797.243 1364.01 790.137 Q1364.01 783.007 1362.18 779.465 Q1360.38 775.9 1356.74 775.9 M1356.74 772.197 Q1362.55 772.197 1365.61 776.803 Q1368.69 781.387 1368.69 790.137 Q1368.69 798.863 1365.61 803.47 Q1362.55 808.053 1356.74 808.053 Q1350.93 808.053 1347.86 803.47 Q1344.8 798.863 1344.8 790.137 Q1344.8 781.387 1347.86 776.803 Q1350.93 772.197 1356.74 772.197 Z\" fill=\"#000000\" fill-rule=\"nonzero\" fill-opacity=\"1\" /><path clip-path=\"url(#clip530)\" d=\"M1282.35 570.138 Q1278.74 570.138 1276.91 573.703 Q1275.1 577.244 1275.1 584.374 Q1275.1 591.48 1276.91 595.045 Q1278.74 598.587 1282.35 598.587 Q1285.98 598.587 1287.79 595.045 Q1289.61 591.48 1289.61 584.374 Q1289.61 577.244 1287.79 573.703 Q1285.98 570.138 1282.35 570.138 M1282.35 566.434 Q1288.16 566.434 1291.21 571.041 Q1294.29 575.624 1294.29 584.374 Q1294.29 593.101 1291.21 597.707 Q1288.16 602.29 1282.35 602.29 Q1276.54 602.29 1273.46 597.707 Q1270.4 593.101 1270.4 584.374 Q1270.4 575.624 1273.46 571.041 Q1276.54 566.434 1282.35 566.434 Z\" fill=\"#000000\" fill-rule=\"nonzero\" fill-opacity=\"1\" /><path clip-path=\"url(#clip530)\" d=\"M1302.51 595.739 L1307.39 595.739 L1307.39 601.619 L1302.51 601.619 L1302.51 595.739 Z\" fill=\"#000000\" fill-rule=\"nonzero\" fill-opacity=\"1\" /><path clip-path=\"url(#clip530)\" d=\"M1316.4 567.059 L1338.62 567.059 L1338.62 569.05 L1326.07 601.619 L1321.19 601.619 L1332.99 570.994 L1316.4 570.994 L1316.4 567.059 Z\" fill=\"#000000\" fill-rule=\"nonzero\" fill-opacity=\"1\" /><path clip-path=\"url(#clip530)\" d=\"M1347.79 567.059 L1366.14 567.059 L1366.14 570.994 L1352.07 570.994 L1352.07 579.466 Q1353.09 579.119 1354.1 578.957 Q1355.12 578.772 1356.14 578.772 Q1361.93 578.772 1365.31 581.943 Q1368.69 585.115 1368.69 590.531 Q1368.69 596.11 1365.22 599.212 Q1361.74 602.29 1355.42 602.29 Q1353.25 602.29 1350.98 601.92 Q1348.73 601.55 1346.33 600.809 L1346.33 596.11 Q1348.41 597.244 1350.63 597.8 Q1352.86 598.355 1355.33 598.355 Q1359.34 598.355 1361.67 596.249 Q1364.01 594.142 1364.01 590.531 Q1364.01 586.92 1361.67 584.814 Q1359.34 582.707 1355.33 582.707 Q1353.46 582.707 1351.58 583.124 Q1349.73 583.54 1347.79 584.42 L1347.79 567.059 Z\" fill=\"#000000\" fill-rule=\"nonzero\" fill-opacity=\"1\" /><path clip-path=\"url(#clip530)\" d=\"M1272.16 391.921 L1279.8 391.921 L1279.8 365.556 L1271.49 367.222 L1271.49 362.963 L1279.75 361.296 L1284.43 361.296 L1284.43 391.921 L1292.07 391.921 L1292.07 395.856 L1272.16 395.856 L1272.16 391.921 Z\" fill=\"#000000\" fill-rule=\"nonzero\" fill-opacity=\"1\" /><path clip-path=\"url(#clip530)\" d=\"M1301.51 389.977 L1306.4 389.977 L1306.4 395.856 L1301.51 395.856 L1301.51 389.977 Z\" fill=\"#000000\" fill-rule=\"nonzero\" fill-opacity=\"1\" /><path clip-path=\"url(#clip530)\" d=\"M1326.58 364.375 Q1322.97 364.375 1321.14 367.94 Q1319.34 371.481 1319.34 378.611 Q1319.34 385.717 1321.14 389.282 Q1322.97 392.824 1326.58 392.824 Q1330.22 392.824 1332.02 389.282 Q1333.85 385.717 1333.85 378.611 Q1333.85 371.481 1332.02 367.94 Q1330.22 364.375 1326.58 364.375 M1326.58 360.671 Q1332.39 360.671 1335.45 365.278 Q1338.53 369.861 1338.53 378.611 Q1338.53 387.338 1335.45 391.944 Q1332.39 396.528 1326.58 396.528 Q1320.77 396.528 1317.69 391.944 Q1314.64 387.338 1314.64 378.611 Q1314.64 369.861 1317.69 365.278 Q1320.77 360.671 1326.58 360.671 Z\" fill=\"#000000\" fill-rule=\"nonzero\" fill-opacity=\"1\" /><path clip-path=\"url(#clip530)\" d=\"M1356.74 364.375 Q1353.13 364.375 1351.3 367.94 Q1349.5 371.481 1349.5 378.611 Q1349.5 385.717 1351.3 389.282 Q1353.13 392.824 1356.74 392.824 Q1360.38 392.824 1362.18 389.282 Q1364.01 385.717 1364.01 378.611 Q1364.01 371.481 1362.18 367.94 Q1360.38 364.375 1356.74 364.375 M1356.74 360.671 Q1362.55 360.671 1365.61 365.278 Q1368.69 369.861 1368.69 378.611 Q1368.69 387.338 1365.61 391.944 Q1362.55 396.528 1356.74 396.528 Q1350.93 396.528 1347.86 391.944 Q1344.8 387.338 1344.8 378.611 Q1344.8 369.861 1347.86 365.278 Q1350.93 360.671 1356.74 360.671 Z\" fill=\"#000000\" fill-rule=\"nonzero\" fill-opacity=\"1\" /><path clip-path=\"url(#clip530)\" d=\"M1273.16 186.158 L1280.8 186.158 L1280.8 159.793 L1272.49 161.459 L1272.49 157.2 L1280.75 155.534 L1285.42 155.534 L1285.42 186.158 L1293.06 186.158 L1293.06 190.094 L1273.16 190.094 L1273.16 186.158 Z\" fill=\"#000000\" fill-rule=\"nonzero\" fill-opacity=\"1\" /><path clip-path=\"url(#clip530)\" d=\"M1302.51 184.214 L1307.39 184.214 L1307.39 190.094 L1302.51 190.094 L1302.51 184.214 Z\" fill=\"#000000\" fill-rule=\"nonzero\" fill-opacity=\"1\" /><path clip-path=\"url(#clip530)\" d=\"M1321.61 186.158 L1337.92 186.158 L1337.92 190.094 L1315.98 190.094 L1315.98 186.158 Q1318.64 183.404 1323.23 178.774 Q1327.83 174.121 1329.01 172.779 Q1331.26 170.256 1332.14 168.52 Q1333.04 166.76 1333.04 165.071 Q1333.04 162.316 1331.1 160.58 Q1329.17 158.844 1326.07 158.844 Q1323.87 158.844 1321.42 159.608 Q1318.99 160.372 1316.21 161.922 L1316.21 157.2 Q1319.04 156.066 1321.49 155.487 Q1323.94 154.909 1325.98 154.909 Q1331.35 154.909 1334.54 157.594 Q1337.74 160.279 1337.74 164.77 Q1337.74 166.899 1336.93 168.821 Q1336.14 170.719 1334.04 173.311 Q1333.46 173.983 1330.36 177.2 Q1327.25 180.395 1321.61 186.158 Z\" fill=\"#000000\" fill-rule=\"nonzero\" fill-opacity=\"1\" /><path clip-path=\"url(#clip530)\" d=\"M1347.79 155.534 L1366.14 155.534 L1366.14 159.469 L1352.07 159.469 L1352.07 167.941 Q1353.09 167.594 1354.1 167.432 Q1355.12 167.246 1356.14 167.246 Q1361.93 167.246 1365.31 170.418 Q1368.69 173.589 1368.69 179.006 Q1368.69 184.584 1365.22 187.686 Q1361.74 190.765 1355.42 190.765 Q1353.25 190.765 1350.98 190.395 Q1348.73 190.024 1346.33 189.283 L1346.33 184.584 Q1348.41 185.719 1350.63 186.274 Q1352.86 186.83 1355.33 186.83 Q1359.34 186.83 1361.67 184.723 Q1364.01 182.617 1364.01 179.006 Q1364.01 175.395 1361.67 173.288 Q1359.34 171.182 1355.33 171.182 Q1353.46 171.182 1351.58 171.598 Q1349.73 172.015 1347.79 172.895 L1347.79 155.534 Z\" fill=\"#000000\" fill-rule=\"nonzero\" fill-opacity=\"1\" /><polyline clip-path=\"url(#clip533)\" style=\"stroke:#0000ff; stroke-linecap:round; stroke-linejoin:round; stroke-width:4; stroke-opacity:1; fill:none\" points=\"1431.52,645.789 1440.55,603.475 1449.59,551.352 1458.62,1239.29 1467.66,668.924 1476.69,794.856 1485.73,1253.13 1494.76,986.472 1503.8,507.618 1512.83,355.34 1521.86,973.488 1530.9,722.486 1539.93,856.445 1548.97,876.445 1558,743.634 1567.04,955.111 1576.07,722.16 1585.1,1036.69 1594.14,1029.75 1603.17,362.096 1612.21,1191.9 1621.24,752.47 1630.28,774.784 1639.31,1345.85 1648.35,892.702 1657.38,1145.76 1666.41,1046.93 1675.45,1002.99 1684.48,1368 1693.52,596.21 1702.55,754.017 1711.59,1049.83 1720.62,683.737 1729.65,885.677 1738.69,1068.84 1747.72,390.659 1756.76,1439.61 1765.79,1311.38 1774.83,598.02 1783.86,550.02 1792.9,495.806 1801.93,1318.87 1810.96,867.251 1820,694.001 1829.03,459.247 1838.07,816.683 1847.1,661.683 1856.14,589.393 1865.17,365.187 1874.2,590.502 1883.24,440.919 1892.27,667.66 1901.31,389.282 1910.34,224.318 1919.38,444.796 1928.41,913.623 1937.45,613.01 1946.48,848.43 1955.51,493.135 1964.55,733.098 1973.58,603.968 1982.62,608.007 1991.65,543.441 2000.69,1186.68 2009.72,333.839 2018.75,880.503 2027.79,297.209 2036.82,725.227 2045.86,1162.91 2054.89,512.958 2063.93,1445.72 2072.96,981.746 2082,1106.67 2091.03,1004.51 2100.06,1017.91 2109.1,695.12 2118.13,950.972 2127.17,837.506 2136.2,795.904 2145.24,692.503 2154.27,635.043 2163.3,998.683 2172.34,484.72 2181.37,879.746 2190.41,1073.13 2199.44,213.869 2208.48,933.813 2217.51,240.985 2226.55,366.793 2235.58,857.166 2244.61,305.546 2253.65,263.475 2262.68,275.643 2271.72,1172.25 2280.75,87.9763 2289.79,795.863 2298.82,761.383 2307.86,856.696 2316.89,692.563 2325.92,816.171 \"/>\n",
       "<path clip-path=\"url(#clip530)\" d=\"M2203.15 1438.47 L2321.15 1438.47 L2321.15 1334.79 L2203.15 1334.79  Z\" fill=\"#ffffff\" fill-rule=\"evenodd\" fill-opacity=\"1\"/>\n",
       "<polyline clip-path=\"url(#clip530)\" style=\"stroke:#000000; stroke-linecap:round; stroke-linejoin:round; stroke-width:4; stroke-opacity:1; fill:none\" points=\"2203.15,1438.47 2321.15,1438.47 2321.15,1334.79 2203.15,1334.79 2203.15,1438.47 \"/>\n",
       "<polyline clip-path=\"url(#clip530)\" style=\"stroke:#0000ff; stroke-linecap:round; stroke-linejoin:round; stroke-width:4; stroke-opacity:1; fill:none\" points=\"2213.69,1386.63 2276.89,1386.63 \"/>\n",
       "<path clip-path=\"url(#clip530)\" d=\"M2306.2 1390.97 Q2306.2 1386.28 2304.25 1383.61 Q2302.33 1380.93 2298.95 1380.93 Q2295.57 1380.93 2293.63 1383.61 Q2291.71 1386.28 2291.71 1390.97 Q2291.71 1395.67 2293.63 1398.36 Q2295.57 1401.02 2298.95 1401.02 Q2302.33 1401.02 2304.25 1398.36 Q2306.2 1395.67 2306.2 1390.97 M2291.71 1381.92 Q2293.05 1379.61 2295.09 1378.5 Q2297.15 1377.36 2299.99 1377.36 Q2304.72 1377.36 2307.66 1381.11 Q2310.62 1384.86 2310.62 1390.97 Q2310.62 1397.09 2307.66 1400.84 Q2304.72 1404.59 2299.99 1404.59 Q2297.15 1404.59 2295.09 1403.47 Q2293.05 1402.34 2291.71 1400.03 L2291.71 1403.91 L2287.43 1403.91 L2287.43 1367.9 L2291.71 1367.9 L2291.71 1381.92 Z\" fill=\"#000000\" fill-rule=\"nonzero\" fill-opacity=\"1\" /></svg>\n"
      ]
     },
     "execution_count": 32,
     "metadata": {},
     "output_type": "execute_result"
    }
   ],
   "source": [
    "plot([a b], label=[\"a\" \"b\"], layout=(1, 2), c=[\"red\" \"blue\"])"
   ]
  },
  {
   "cell_type": "markdown",
   "metadata": {},
   "source": [
    "**Task 3:** Plot beside subplots \"a\" and \"b\" another subplot showing the difference series a.-b ."
   ]
  },
  {
   "cell_type": "code",
   "execution_count": 33,
   "metadata": {},
   "outputs": [
    {
     "data": {
      "image/svg+xml": [
       "<?xml version=\"1.0\" encoding=\"utf-8\"?>\n",
       "<svg xmlns=\"http://www.w3.org/2000/svg\" xmlns:xlink=\"http://www.w3.org/1999/xlink\" width=\"600\" height=\"400\" viewBox=\"0 0 2400 1600\">\n",
       "<defs>\n",
       "  <clipPath id=\"clip570\">\n",
       "    <rect x=\"0\" y=\"0\" width=\"2400\" height=\"1600\"/>\n",
       "  </clipPath>\n",
       "</defs>\n",
       "<path clip-path=\"url(#clip570)\" d=\"M0 1600 L2400 1600 L2400 0 L0 0  Z\" fill=\"#ffffff\" fill-rule=\"evenodd\" fill-opacity=\"1\"/>\n",
       "<defs>\n",
       "  <clipPath id=\"clip571\">\n",
       "    <rect x=\"480\" y=\"0\" width=\"1681\" height=\"1600\"/>\n",
       "  </clipPath>\n",
       "</defs>\n",
       "<path clip-path=\"url(#clip570)\" d=\"M186.274 1486.45 L737.764 1486.45 L737.764 47.2441 L186.274 47.2441  Z\" fill=\"#ffffff\" fill-rule=\"evenodd\" fill-opacity=\"1\"/>\n",
       "<defs>\n",
       "  <clipPath id=\"clip572\">\n",
       "    <rect x=\"186\" y=\"47\" width=\"552\" height=\"1440\"/>\n",
       "  </clipPath>\n",
       "</defs>\n",
       "<polyline clip-path=\"url(#clip572)\" style=\"stroke:#000000; stroke-linecap:round; stroke-linejoin:round; stroke-width:2; stroke-opacity:0.1; fill:none\" points=\"196.627,1486.45 196.627,47.2441 \"/>\n",
       "<polyline clip-path=\"url(#clip572)\" style=\"stroke:#000000; stroke-linecap:round; stroke-linejoin:round; stroke-width:2; stroke-opacity:0.1; fill:none\" points=\"328.009,1486.45 328.009,47.2441 \"/>\n",
       "<polyline clip-path=\"url(#clip572)\" style=\"stroke:#000000; stroke-linecap:round; stroke-linejoin:round; stroke-width:2; stroke-opacity:0.1; fill:none\" points=\"459.391,1486.45 459.391,47.2441 \"/>\n",
       "<polyline clip-path=\"url(#clip572)\" style=\"stroke:#000000; stroke-linecap:round; stroke-linejoin:round; stroke-width:2; stroke-opacity:0.1; fill:none\" points=\"590.773,1486.45 590.773,47.2441 \"/>\n",
       "<polyline clip-path=\"url(#clip572)\" style=\"stroke:#000000; stroke-linecap:round; stroke-linejoin:round; stroke-width:2; stroke-opacity:0.1; fill:none\" points=\"722.156,1486.45 722.156,47.2441 \"/>\n",
       "<polyline clip-path=\"url(#clip570)\" style=\"stroke:#000000; stroke-linecap:round; stroke-linejoin:round; stroke-width:4; stroke-opacity:1; fill:none\" points=\"186.274,1486.45 737.764,1486.45 \"/>\n",
       "<polyline clip-path=\"url(#clip570)\" style=\"stroke:#000000; stroke-linecap:round; stroke-linejoin:round; stroke-width:4; stroke-opacity:1; fill:none\" points=\"196.627,1486.45 196.627,1467.55 \"/>\n",
       "<polyline clip-path=\"url(#clip570)\" style=\"stroke:#000000; stroke-linecap:round; stroke-linejoin:round; stroke-width:4; stroke-opacity:1; fill:none\" points=\"328.009,1486.45 328.009,1467.55 \"/>\n",
       "<polyline clip-path=\"url(#clip570)\" style=\"stroke:#000000; stroke-linecap:round; stroke-linejoin:round; stroke-width:4; stroke-opacity:1; fill:none\" points=\"459.391,1486.45 459.391,1467.55 \"/>\n",
       "<polyline clip-path=\"url(#clip570)\" style=\"stroke:#000000; stroke-linecap:round; stroke-linejoin:round; stroke-width:4; stroke-opacity:1; fill:none\" points=\"590.773,1486.45 590.773,1467.55 \"/>\n",
       "<polyline clip-path=\"url(#clip570)\" style=\"stroke:#000000; stroke-linecap:round; stroke-linejoin:round; stroke-width:4; stroke-opacity:1; fill:none\" points=\"722.156,1486.45 722.156,1467.55 \"/>\n",
       "<path clip-path=\"url(#clip570)\" d=\"M196.627 1517.37 Q193.016 1517.37 191.187 1520.93 Q189.382 1524.47 189.382 1531.6 Q189.382 1538.71 191.187 1542.27 Q193.016 1545.82 196.627 1545.82 Q200.261 1545.82 202.067 1542.27 Q203.895 1538.71 203.895 1531.6 Q203.895 1524.47 202.067 1520.93 Q200.261 1517.37 196.627 1517.37 M196.627 1513.66 Q202.437 1513.66 205.493 1518.27 Q208.571 1522.85 208.571 1531.6 Q208.571 1540.33 205.493 1544.94 Q202.437 1549.52 196.627 1549.52 Q190.817 1549.52 187.738 1544.94 Q184.683 1540.33 184.683 1531.6 Q184.683 1522.85 187.738 1518.27 Q190.817 1513.66 196.627 1513.66 Z\" fill=\"#000000\" fill-rule=\"nonzero\" fill-opacity=\"1\" /><path clip-path=\"url(#clip570)\" d=\"M307.28 1544.91 L323.599 1544.91 L323.599 1548.85 L301.655 1548.85 L301.655 1544.91 Q304.317 1542.16 308.9 1537.53 Q313.507 1532.88 314.687 1531.53 Q316.933 1529.01 317.812 1527.27 Q318.715 1525.51 318.715 1523.82 Q318.715 1521.07 316.771 1519.33 Q314.849 1517.6 311.748 1517.6 Q309.549 1517.6 307.095 1518.36 Q304.664 1519.13 301.887 1520.68 L301.887 1515.95 Q304.711 1514.82 307.164 1514.24 Q309.618 1513.66 311.655 1513.66 Q317.025 1513.66 320.22 1516.35 Q323.414 1519.03 323.414 1523.52 Q323.414 1525.65 322.604 1527.57 Q321.817 1529.47 319.71 1532.07 Q319.132 1532.74 316.03 1535.95 Q312.928 1539.15 307.28 1544.91 Z\" fill=\"#000000\" fill-rule=\"nonzero\" fill-opacity=\"1\" /><path clip-path=\"url(#clip570)\" d=\"M333.46 1514.29 L351.817 1514.29 L351.817 1518.22 L337.743 1518.22 L337.743 1526.7 Q338.761 1526.35 339.78 1526.19 Q340.798 1526 341.817 1526 Q347.604 1526 350.983 1529.17 Q354.363 1532.34 354.363 1537.76 Q354.363 1543.34 350.891 1546.44 Q347.419 1549.52 341.099 1549.52 Q338.923 1549.52 336.655 1549.15 Q334.409 1548.78 332.002 1548.04 L332.002 1543.34 Q334.085 1544.47 336.308 1545.03 Q338.53 1545.58 341.007 1545.58 Q345.011 1545.58 347.349 1543.48 Q349.687 1541.37 349.687 1537.76 Q349.687 1534.15 347.349 1532.04 Q345.011 1529.94 341.007 1529.94 Q339.132 1529.94 337.257 1530.35 Q335.405 1530.77 333.46 1531.65 L333.46 1514.29 Z\" fill=\"#000000\" fill-rule=\"nonzero\" fill-opacity=\"1\" /><path clip-path=\"url(#clip570)\" d=\"M434.09 1514.29 L452.447 1514.29 L452.447 1518.22 L438.373 1518.22 L438.373 1526.7 Q439.391 1526.35 440.41 1526.19 Q441.428 1526 442.447 1526 Q448.234 1526 451.613 1529.17 Q454.993 1532.34 454.993 1537.76 Q454.993 1543.34 451.521 1546.44 Q448.049 1549.52 441.729 1549.52 Q439.553 1549.52 437.285 1549.15 Q435.039 1548.78 432.632 1548.04 L432.632 1543.34 Q434.715 1544.47 436.938 1545.03 Q439.16 1545.58 441.637 1545.58 Q445.641 1545.58 447.979 1543.48 Q450.317 1541.37 450.317 1537.76 Q450.317 1534.15 447.979 1532.04 Q445.641 1529.94 441.637 1529.94 Q439.762 1529.94 437.887 1530.35 Q436.035 1530.77 434.09 1531.65 L434.09 1514.29 Z\" fill=\"#000000\" fill-rule=\"nonzero\" fill-opacity=\"1\" /><path clip-path=\"url(#clip570)\" d=\"M474.206 1517.37 Q470.595 1517.37 468.766 1520.93 Q466.961 1524.47 466.961 1531.6 Q466.961 1538.71 468.766 1542.27 Q470.595 1545.82 474.206 1545.82 Q477.84 1545.82 479.646 1542.27 Q481.474 1538.71 481.474 1531.6 Q481.474 1524.47 479.646 1520.93 Q477.84 1517.37 474.206 1517.37 M474.206 1513.66 Q480.016 1513.66 483.072 1518.27 Q486.15 1522.85 486.15 1531.6 Q486.15 1540.33 483.072 1544.94 Q480.016 1549.52 474.206 1549.52 Q468.396 1549.52 465.317 1544.94 Q462.262 1540.33 462.262 1531.6 Q462.262 1522.85 465.317 1518.27 Q468.396 1513.66 474.206 1513.66 Z\" fill=\"#000000\" fill-rule=\"nonzero\" fill-opacity=\"1\" /><path clip-path=\"url(#clip570)\" d=\"M564.628 1514.29 L586.85 1514.29 L586.85 1516.28 L574.304 1548.85 L569.419 1548.85 L581.225 1518.22 L564.628 1518.22 L564.628 1514.29 Z\" fill=\"#000000\" fill-rule=\"nonzero\" fill-opacity=\"1\" /><path clip-path=\"url(#clip570)\" d=\"M596.016 1514.29 L614.373 1514.29 L614.373 1518.22 L600.299 1518.22 L600.299 1526.7 Q601.317 1526.35 602.336 1526.19 Q603.354 1526 604.373 1526 Q610.16 1526 613.539 1529.17 Q616.919 1532.34 616.919 1537.76 Q616.919 1543.34 613.447 1546.44 Q609.975 1549.52 603.655 1549.52 Q601.479 1549.52 599.211 1549.15 Q596.965 1548.78 594.558 1548.04 L594.558 1543.34 Q596.641 1544.47 598.864 1545.03 Q601.086 1545.58 603.563 1545.58 Q607.567 1545.58 609.905 1543.48 Q612.243 1541.37 612.243 1537.76 Q612.243 1534.15 609.905 1532.04 Q607.567 1529.94 603.563 1529.94 Q601.688 1529.94 599.813 1530.35 Q597.961 1530.77 596.016 1531.65 L596.016 1514.29 Z\" fill=\"#000000\" fill-rule=\"nonzero\" fill-opacity=\"1\" /><path clip-path=\"url(#clip570)\" d=\"M681.762 1544.91 L689.401 1544.91 L689.401 1518.55 L681.091 1520.21 L681.091 1515.95 L689.355 1514.29 L694.031 1514.29 L694.031 1544.91 L701.67 1544.91 L701.67 1548.85 L681.762 1548.85 L681.762 1544.91 Z\" fill=\"#000000\" fill-rule=\"nonzero\" fill-opacity=\"1\" /><path clip-path=\"url(#clip570)\" d=\"M721.114 1517.37 Q717.503 1517.37 715.674 1520.93 Q713.869 1524.47 713.869 1531.6 Q713.869 1538.71 715.674 1542.27 Q717.503 1545.82 721.114 1545.82 Q724.748 1545.82 726.554 1542.27 Q728.382 1538.71 728.382 1531.6 Q728.382 1524.47 726.554 1520.93 Q724.748 1517.37 721.114 1517.37 M721.114 1513.66 Q726.924 1513.66 729.98 1518.27 Q733.058 1522.85 733.058 1531.6 Q733.058 1540.33 729.98 1544.94 Q726.924 1549.52 721.114 1549.52 Q715.304 1549.52 712.225 1544.94 Q709.169 1540.33 709.169 1531.6 Q709.169 1522.85 712.225 1518.27 Q715.304 1513.66 721.114 1513.66 Z\" fill=\"#000000\" fill-rule=\"nonzero\" fill-opacity=\"1\" /><path clip-path=\"url(#clip570)\" d=\"M751.276 1517.37 Q747.665 1517.37 745.836 1520.93 Q744.03 1524.47 744.03 1531.6 Q744.03 1538.71 745.836 1542.27 Q747.665 1545.82 751.276 1545.82 Q754.91 1545.82 756.716 1542.27 Q758.544 1538.71 758.544 1531.6 Q758.544 1524.47 756.716 1520.93 Q754.91 1517.37 751.276 1517.37 M751.276 1513.66 Q757.086 1513.66 760.141 1518.27 Q763.22 1522.85 763.22 1531.6 Q763.22 1540.33 760.141 1544.94 Q757.086 1549.52 751.276 1549.52 Q745.466 1549.52 742.387 1544.94 Q739.331 1540.33 739.331 1531.6 Q739.331 1522.85 742.387 1518.27 Q745.466 1513.66 751.276 1513.66 Z\" fill=\"#000000\" fill-rule=\"nonzero\" fill-opacity=\"1\" /><polyline clip-path=\"url(#clip572)\" style=\"stroke:#000000; stroke-linecap:round; stroke-linejoin:round; stroke-width:2; stroke-opacity:0.1; fill:none\" points=\"186.274,1448.51 737.764,1448.51 \"/>\n",
       "<polyline clip-path=\"url(#clip572)\" style=\"stroke:#000000; stroke-linecap:round; stroke-linejoin:round; stroke-width:2; stroke-opacity:0.1; fill:none\" points=\"186.274,1107.97 737.764,1107.97 \"/>\n",
       "<polyline clip-path=\"url(#clip572)\" style=\"stroke:#000000; stroke-linecap:round; stroke-linejoin:round; stroke-width:2; stroke-opacity:0.1; fill:none\" points=\"186.274,767.438 737.764,767.438 \"/>\n",
       "<polyline clip-path=\"url(#clip572)\" style=\"stroke:#000000; stroke-linecap:round; stroke-linejoin:round; stroke-width:2; stroke-opacity:0.1; fill:none\" points=\"186.274,426.904 737.764,426.904 \"/>\n",
       "<polyline clip-path=\"url(#clip572)\" style=\"stroke:#000000; stroke-linecap:round; stroke-linejoin:round; stroke-width:2; stroke-opacity:0.1; fill:none\" points=\"186.274,86.3691 737.764,86.3691 \"/>\n",
       "<polyline clip-path=\"url(#clip570)\" style=\"stroke:#000000; stroke-linecap:round; stroke-linejoin:round; stroke-width:4; stroke-opacity:1; fill:none\" points=\"186.274,1486.45 186.274,47.2441 \"/>\n",
       "<polyline clip-path=\"url(#clip570)\" style=\"stroke:#000000; stroke-linecap:round; stroke-linejoin:round; stroke-width:4; stroke-opacity:1; fill:none\" points=\"186.274,1448.51 205.172,1448.51 \"/>\n",
       "<polyline clip-path=\"url(#clip570)\" style=\"stroke:#000000; stroke-linecap:round; stroke-linejoin:round; stroke-width:4; stroke-opacity:1; fill:none\" points=\"186.274,1107.97 205.172,1107.97 \"/>\n",
       "<polyline clip-path=\"url(#clip570)\" style=\"stroke:#000000; stroke-linecap:round; stroke-linejoin:round; stroke-width:4; stroke-opacity:1; fill:none\" points=\"186.274,767.438 205.172,767.438 \"/>\n",
       "<polyline clip-path=\"url(#clip570)\" style=\"stroke:#000000; stroke-linecap:round; stroke-linejoin:round; stroke-width:4; stroke-opacity:1; fill:none\" points=\"186.274,426.904 205.172,426.904 \"/>\n",
       "<polyline clip-path=\"url(#clip570)\" style=\"stroke:#000000; stroke-linecap:round; stroke-linejoin:round; stroke-width:4; stroke-opacity:1; fill:none\" points=\"186.274,86.3691 205.172,86.3691 \"/>\n",
       "<path clip-path=\"url(#clip570)\" d=\"M62.9365 1434.31 Q59.3254 1434.31 57.4967 1437.87 Q55.6912 1441.41 55.6912 1448.54 Q55.6912 1455.65 57.4967 1459.21 Q59.3254 1462.75 62.9365 1462.75 Q66.5707 1462.75 68.3763 1459.21 Q70.205 1455.65 70.205 1448.54 Q70.205 1441.41 68.3763 1437.87 Q66.5707 1434.31 62.9365 1434.31 M62.9365 1430.6 Q68.7467 1430.6 71.8022 1435.21 Q74.8809 1439.79 74.8809 1448.54 Q74.8809 1457.27 71.8022 1461.88 Q68.7467 1466.46 62.9365 1466.46 Q57.1264 1466.46 54.0477 1461.88 Q50.9921 1457.27 50.9921 1448.54 Q50.9921 1439.79 54.0477 1435.21 Q57.1264 1430.6 62.9365 1430.6 Z\" fill=\"#000000\" fill-rule=\"nonzero\" fill-opacity=\"1\" /><path clip-path=\"url(#clip570)\" d=\"M83.0984 1459.91 L87.9827 1459.91 L87.9827 1465.79 L83.0984 1465.79 L83.0984 1459.91 Z\" fill=\"#000000\" fill-rule=\"nonzero\" fill-opacity=\"1\" /><path clip-path=\"url(#clip570)\" d=\"M108.168 1434.31 Q104.557 1434.31 102.728 1437.87 Q100.922 1441.41 100.922 1448.54 Q100.922 1455.65 102.728 1459.21 Q104.557 1462.75 108.168 1462.75 Q111.802 1462.75 113.608 1459.21 Q115.436 1455.65 115.436 1448.54 Q115.436 1441.41 113.608 1437.87 Q111.802 1434.31 108.168 1434.31 M108.168 1430.6 Q113.978 1430.6 117.033 1435.21 Q120.112 1439.79 120.112 1448.54 Q120.112 1457.27 117.033 1461.88 Q113.978 1466.46 108.168 1466.46 Q102.358 1466.46 99.2789 1461.88 Q96.2234 1457.27 96.2234 1448.54 Q96.2234 1439.79 99.2789 1435.21 Q102.358 1430.6 108.168 1430.6 Z\" fill=\"#000000\" fill-rule=\"nonzero\" fill-opacity=\"1\" /><path clip-path=\"url(#clip570)\" d=\"M138.33 1434.31 Q134.719 1434.31 132.89 1437.87 Q131.084 1441.41 131.084 1448.54 Q131.084 1455.65 132.89 1459.21 Q134.719 1462.75 138.33 1462.75 Q141.964 1462.75 143.769 1459.21 Q145.598 1455.65 145.598 1448.54 Q145.598 1441.41 143.769 1437.87 Q141.964 1434.31 138.33 1434.31 M138.33 1430.6 Q144.14 1430.6 147.195 1435.21 Q150.274 1439.79 150.274 1448.54 Q150.274 1457.27 147.195 1461.88 Q144.14 1466.46 138.33 1466.46 Q132.519 1466.46 129.441 1461.88 Q126.385 1457.27 126.385 1448.54 Q126.385 1439.79 129.441 1435.21 Q132.519 1430.6 138.33 1430.6 Z\" fill=\"#000000\" fill-rule=\"nonzero\" fill-opacity=\"1\" /><path clip-path=\"url(#clip570)\" d=\"M63.9319 1093.77 Q60.3208 1093.77 58.4921 1097.34 Q56.6865 1100.88 56.6865 1108.01 Q56.6865 1115.11 58.4921 1118.68 Q60.3208 1122.22 63.9319 1122.22 Q67.5661 1122.22 69.3717 1118.68 Q71.2004 1115.11 71.2004 1108.01 Q71.2004 1100.88 69.3717 1097.34 Q67.5661 1093.77 63.9319 1093.77 M63.9319 1090.07 Q69.742 1090.07 72.7976 1094.67 Q75.8763 1099.26 75.8763 1108.01 Q75.8763 1116.73 72.7976 1121.34 Q69.742 1125.92 63.9319 1125.92 Q58.1217 1125.92 55.043 1121.34 Q51.9875 1116.73 51.9875 1108.01 Q51.9875 1099.26 55.043 1094.67 Q58.1217 1090.07 63.9319 1090.07 Z\" fill=\"#000000\" fill-rule=\"nonzero\" fill-opacity=\"1\" /><path clip-path=\"url(#clip570)\" d=\"M84.0938 1119.37 L88.978 1119.37 L88.978 1125.25 L84.0938 1125.25 L84.0938 1119.37 Z\" fill=\"#000000\" fill-rule=\"nonzero\" fill-opacity=\"1\" /><path clip-path=\"url(#clip570)\" d=\"M103.191 1121.32 L119.51 1121.32 L119.51 1125.25 L97.566 1125.25 L97.566 1121.32 Q100.228 1118.56 104.811 1113.93 Q109.418 1109.28 110.598 1107.94 Q112.844 1105.41 113.723 1103.68 Q114.626 1101.92 114.626 1100.23 Q114.626 1097.48 112.682 1095.74 Q110.76 1094 107.658 1094 Q105.459 1094 103.006 1094.77 Q100.575 1095.53 97.7974 1097.08 L97.7974 1092.36 Q100.621 1091.23 103.075 1090.65 Q105.529 1090.07 107.566 1090.07 Q112.936 1090.07 116.131 1092.75 Q119.325 1095.44 119.325 1099.93 Q119.325 1102.06 118.515 1103.98 Q117.728 1105.88 115.621 1108.47 Q115.043 1109.14 111.941 1112.36 Q108.839 1115.55 103.191 1121.32 Z\" fill=\"#000000\" fill-rule=\"nonzero\" fill-opacity=\"1\" /><path clip-path=\"url(#clip570)\" d=\"M129.371 1090.69 L147.728 1090.69 L147.728 1094.63 L133.654 1094.63 L133.654 1103.1 Q134.672 1102.75 135.691 1102.59 Q136.709 1102.41 137.728 1102.41 Q143.515 1102.41 146.894 1105.58 Q150.274 1108.75 150.274 1114.16 Q150.274 1119.74 146.802 1122.85 Q143.33 1125.92 137.01 1125.92 Q134.834 1125.92 132.566 1125.55 Q130.32 1125.18 127.913 1124.44 L127.913 1119.74 Q129.996 1120.88 132.219 1121.43 Q134.441 1121.99 136.918 1121.99 Q140.922 1121.99 143.26 1119.88 Q145.598 1117.78 145.598 1114.16 Q145.598 1110.55 143.26 1108.45 Q140.922 1106.34 136.918 1106.34 Q135.043 1106.34 133.168 1106.76 Q131.316 1107.17 129.371 1108.05 L129.371 1090.69 Z\" fill=\"#000000\" fill-rule=\"nonzero\" fill-opacity=\"1\" /><path clip-path=\"url(#clip570)\" d=\"M62.9365 753.237 Q59.3254 753.237 57.4967 756.802 Q55.6912 760.343 55.6912 767.473 Q55.6912 774.579 57.4967 778.144 Q59.3254 781.686 62.9365 781.686 Q66.5707 781.686 68.3763 778.144 Q70.205 774.579 70.205 767.473 Q70.205 760.343 68.3763 756.802 Q66.5707 753.237 62.9365 753.237 M62.9365 749.533 Q68.7467 749.533 71.8022 754.14 Q74.8809 758.723 74.8809 767.473 Q74.8809 776.2 71.8022 780.806 Q68.7467 785.389 62.9365 785.389 Q57.1264 785.389 54.0477 780.806 Q50.9921 776.2 50.9921 767.473 Q50.9921 758.723 54.0477 754.14 Q57.1264 749.533 62.9365 749.533 Z\" fill=\"#000000\" fill-rule=\"nonzero\" fill-opacity=\"1\" /><path clip-path=\"url(#clip570)\" d=\"M83.0984 778.839 L87.9827 778.839 L87.9827 784.718 L83.0984 784.718 L83.0984 778.839 Z\" fill=\"#000000\" fill-rule=\"nonzero\" fill-opacity=\"1\" /><path clip-path=\"url(#clip570)\" d=\"M98.2141 750.158 L116.57 750.158 L116.57 754.093 L102.496 754.093 L102.496 762.566 Q103.515 762.218 104.534 762.056 Q105.552 761.871 106.571 761.871 Q112.358 761.871 115.737 765.042 Q119.117 768.214 119.117 773.63 Q119.117 779.209 115.645 782.311 Q112.172 785.389 105.853 785.389 Q103.677 785.389 101.409 785.019 Q99.1632 784.649 96.7558 783.908 L96.7558 779.209 Q98.8391 780.343 101.061 780.899 Q103.284 781.454 105.76 781.454 Q109.765 781.454 112.103 779.348 Q114.441 777.241 114.441 773.63 Q114.441 770.019 112.103 767.913 Q109.765 765.806 105.76 765.806 Q103.885 765.806 102.01 766.223 Q100.159 766.64 98.2141 767.519 L98.2141 750.158 Z\" fill=\"#000000\" fill-rule=\"nonzero\" fill-opacity=\"1\" /><path clip-path=\"url(#clip570)\" d=\"M138.33 753.237 Q134.719 753.237 132.89 756.802 Q131.084 760.343 131.084 767.473 Q131.084 774.579 132.89 778.144 Q134.719 781.686 138.33 781.686 Q141.964 781.686 143.769 778.144 Q145.598 774.579 145.598 767.473 Q145.598 760.343 143.769 756.802 Q141.964 753.237 138.33 753.237 M138.33 749.533 Q144.14 749.533 147.195 754.14 Q150.274 758.723 150.274 767.473 Q150.274 776.2 147.195 780.806 Q144.14 785.389 138.33 785.389 Q132.519 785.389 129.441 780.806 Q126.385 776.2 126.385 767.473 Q126.385 758.723 129.441 754.14 Q132.519 749.533 138.33 749.533 Z\" fill=\"#000000\" fill-rule=\"nonzero\" fill-opacity=\"1\" /><path clip-path=\"url(#clip570)\" d=\"M63.9319 412.702 Q60.3208 412.702 58.4921 416.267 Q56.6865 419.809 56.6865 426.938 Q56.6865 434.045 58.4921 437.61 Q60.3208 441.151 63.9319 441.151 Q67.5661 441.151 69.3717 437.61 Q71.2004 434.045 71.2004 426.938 Q71.2004 419.809 69.3717 416.267 Q67.5661 412.702 63.9319 412.702 M63.9319 408.999 Q69.742 408.999 72.7976 413.605 Q75.8763 418.188 75.8763 426.938 Q75.8763 435.665 72.7976 440.272 Q69.742 444.855 63.9319 444.855 Q58.1217 444.855 55.043 440.272 Q51.9875 435.665 51.9875 426.938 Q51.9875 418.188 55.043 413.605 Q58.1217 408.999 63.9319 408.999 Z\" fill=\"#000000\" fill-rule=\"nonzero\" fill-opacity=\"1\" /><path clip-path=\"url(#clip570)\" d=\"M84.0938 438.304 L88.978 438.304 L88.978 444.184 L84.0938 444.184 L84.0938 438.304 Z\" fill=\"#000000\" fill-rule=\"nonzero\" fill-opacity=\"1\" /><path clip-path=\"url(#clip570)\" d=\"M97.9826 409.624 L120.205 409.624 L120.205 411.614 L107.658 444.184 L102.774 444.184 L114.58 413.559 L97.9826 413.559 L97.9826 409.624 Z\" fill=\"#000000\" fill-rule=\"nonzero\" fill-opacity=\"1\" /><path clip-path=\"url(#clip570)\" d=\"M129.371 409.624 L147.728 409.624 L147.728 413.559 L133.654 413.559 L133.654 422.031 Q134.672 421.684 135.691 421.522 Q136.709 421.337 137.728 421.337 Q143.515 421.337 146.894 424.508 Q150.274 427.679 150.274 433.096 Q150.274 438.674 146.802 441.776 Q143.33 444.855 137.01 444.855 Q134.834 444.855 132.566 444.485 Q130.32 444.114 127.913 443.373 L127.913 438.674 Q129.996 439.809 132.219 440.364 Q134.441 440.92 136.918 440.92 Q140.922 440.92 143.26 438.813 Q145.598 436.707 145.598 433.096 Q145.598 429.485 143.26 427.378 Q140.922 425.272 136.918 425.272 Q135.043 425.272 133.168 425.688 Q131.316 426.105 129.371 426.985 L129.371 409.624 Z\" fill=\"#000000\" fill-rule=\"nonzero\" fill-opacity=\"1\" /><path clip-path=\"url(#clip570)\" d=\"M53.7467 99.7139 L61.3856 99.7139 L61.3856 73.3483 L53.0754 75.015 L53.0754 70.7557 L61.3393 69.0891 L66.0152 69.0891 L66.0152 99.7139 L73.654 99.7139 L73.654 103.649 L53.7467 103.649 L53.7467 99.7139 Z\" fill=\"#000000\" fill-rule=\"nonzero\" fill-opacity=\"1\" /><path clip-path=\"url(#clip570)\" d=\"M83.0984 97.7695 L87.9827 97.7695 L87.9827 103.649 L83.0984 103.649 L83.0984 97.7695 Z\" fill=\"#000000\" fill-rule=\"nonzero\" fill-opacity=\"1\" /><path clip-path=\"url(#clip570)\" d=\"M108.168 72.1678 Q104.557 72.1678 102.728 75.7326 Q100.922 79.2742 100.922 86.4038 Q100.922 93.5102 102.728 97.075 Q104.557 100.617 108.168 100.617 Q111.802 100.617 113.608 97.075 Q115.436 93.5102 115.436 86.4038 Q115.436 79.2742 113.608 75.7326 Q111.802 72.1678 108.168 72.1678 M108.168 68.4641 Q113.978 68.4641 117.033 73.0705 Q120.112 77.6539 120.112 86.4038 Q120.112 95.1306 117.033 99.7371 Q113.978 104.32 108.168 104.32 Q102.358 104.32 99.2789 99.7371 Q96.2234 95.1306 96.2234 86.4038 Q96.2234 77.6539 99.2789 73.0705 Q102.358 68.4641 108.168 68.4641 Z\" fill=\"#000000\" fill-rule=\"nonzero\" fill-opacity=\"1\" /><path clip-path=\"url(#clip570)\" d=\"M138.33 72.1678 Q134.719 72.1678 132.89 75.7326 Q131.084 79.2742 131.084 86.4038 Q131.084 93.5102 132.89 97.075 Q134.719 100.617 138.33 100.617 Q141.964 100.617 143.769 97.075 Q145.598 93.5102 145.598 86.4038 Q145.598 79.2742 143.769 75.7326 Q141.964 72.1678 138.33 72.1678 M138.33 68.4641 Q144.14 68.4641 147.195 73.0705 Q150.274 77.6539 150.274 86.4038 Q150.274 95.1306 147.195 99.7371 Q144.14 104.32 138.33 104.32 Q132.519 104.32 129.441 99.7371 Q126.385 95.1306 126.385 86.4038 Q126.385 77.6539 129.441 73.0705 Q132.519 68.4641 138.33 68.4641 Z\" fill=\"#000000\" fill-rule=\"nonzero\" fill-opacity=\"1\" /><polyline clip-path=\"url(#clip572)\" style=\"stroke:#ff0000; stroke-linecap:round; stroke-linejoin:round; stroke-width:4; stroke-opacity:1; fill:none\" points=\"201.882,270.579 207.137,246.898 212.393,504.402 217.648,1431.82 222.903,696.035 228.159,485.478 233.414,1445.72 238.669,1231.17 243.924,714.572 249.18,98.8572 254.435,556.22 259.69,590.829 264.946,714.516 270.201,932.873 275.456,161.701 280.711,1197.52 285.967,478.524 291.222,1342.17 296.477,1309.08 301.733,263.953 306.988,963.189 312.243,506.239 317.498,966.266 322.754,1229.05 328.009,741.023 333.264,997.609 338.52,1409.71 343.775,750.626 349.03,1191.38 354.285,506.831 359.541,892.649 364.796,1152.1 370.051,663.535 375.307,818.995 380.562,948.499 385.817,295.191 391.072,1373.79 396.328,1240.2 401.583,215.248 406.838,472.355 412.094,937.573 417.349,1425.24 422.604,923.513 427.859,282.81 433.115,222.167 438.37,957.412 443.625,449.188 448.881,527.929 454.136,563.956 459.391,730.694 464.646,154.906 469.902,779.555 475.157,124.181 480.412,162.876 485.668,544.438 490.923,1138.98 496.178,198.208 501.433,833.619 506.689,620.946 511.944,704.891 517.199,364.961 522.455,524.075 527.71,275.372 532.965,1090.8 538.22,87.9763 543.476,945.294 548.731,402.755 553.986,997.483 559.242,1424.38 564.497,125.919 569.752,1345.32 575.007,717.99 580.263,1274.3 585.518,905.79 590.773,1098.52 596.029,366.803 601.284,791.039 606.539,464.007 611.794,735.909 617.05,284.133 622.305,913.789 627.56,1122.54 632.816,119.719 638.071,1089.29 643.326,910.931 648.582,203.339 653.837,635.857 659.092,145.5 664.347,158.234 669.603,819.25 674.858,181.627 680.113,197.834 685.369,600.585 690.624,1063.92 695.879,159.159 701.134,643.844 706.39,677.221 711.645,687.139 716.9,824.621 722.156,361.458 \"/>\n",
       "<path clip-path=\"url(#clip570)\" d=\"M642.334 1438.47 L719.381 1438.47 L719.381 1334.79 L642.334 1334.79  Z\" fill=\"#ffffff\" fill-rule=\"evenodd\" fill-opacity=\"1\"/>\n",
       "<polyline clip-path=\"url(#clip570)\" style=\"stroke:#000000; stroke-linecap:round; stroke-linejoin:round; stroke-width:4; stroke-opacity:1; fill:none\" points=\"642.334,1438.47 719.381,1438.47 719.381,1334.79 642.334,1334.79 642.334,1438.47 \"/>\n",
       "<polyline clip-path=\"url(#clip570)\" style=\"stroke:#ff0000; stroke-linecap:round; stroke-linejoin:round; stroke-width:4; stroke-opacity:1; fill:none\" points=\"648.461,1386.63 685.227,1386.63 \"/>\n",
       "<path clip-path=\"url(#clip570)\" d=\"M704.758 1390.88 Q699.596 1390.88 697.605 1392.06 Q695.614 1393.24 695.614 1396.09 Q695.614 1398.36 697.096 1399.7 Q698.6 1401.02 701.17 1401.02 Q704.711 1401.02 706.841 1398.52 Q708.994 1396 708.994 1391.83 L708.994 1390.88 L704.758 1390.88 M713.253 1389.12 L713.253 1403.91 L708.994 1403.91 L708.994 1399.98 Q707.535 1402.34 705.36 1403.47 Q703.184 1404.59 700.036 1404.59 Q696.054 1404.59 693.693 1402.36 Q691.355 1400.12 691.355 1396.37 Q691.355 1391.99 694.272 1389.77 Q697.211 1387.55 703.022 1387.55 L708.994 1387.55 L708.994 1387.13 Q708.994 1384.19 707.049 1382.6 Q705.128 1380.97 701.633 1380.97 Q699.411 1380.97 697.304 1381.51 Q695.198 1382.04 693.253 1383.1 L693.253 1379.17 Q695.591 1378.27 697.79 1377.83 Q699.989 1377.36 702.073 1377.36 Q707.698 1377.36 710.475 1380.28 Q713.253 1383.2 713.253 1389.12 Z\" fill=\"#000000\" fill-rule=\"nonzero\" fill-opacity=\"1\" /><path clip-path=\"url(#clip570)\" d=\"M1008.11 1486.45 L1559.6 1486.45 L1559.6 47.2441 L1008.11 47.2441  Z\" fill=\"#ffffff\" fill-rule=\"evenodd\" fill-opacity=\"1\"/>\n",
       "<defs>\n",
       "  <clipPath id=\"clip573\">\n",
       "    <rect x=\"1008\" y=\"47\" width=\"552\" height=\"1440\"/>\n",
       "  </clipPath>\n",
       "</defs>\n",
       "<polyline clip-path=\"url(#clip573)\" style=\"stroke:#000000; stroke-linecap:round; stroke-linejoin:round; stroke-width:2; stroke-opacity:0.1; fill:none\" points=\"1018.46,1486.45 1018.46,47.2441 \"/>\n",
       "<polyline clip-path=\"url(#clip573)\" style=\"stroke:#000000; stroke-linecap:round; stroke-linejoin:round; stroke-width:2; stroke-opacity:0.1; fill:none\" points=\"1149.85,1486.45 1149.85,47.2441 \"/>\n",
       "<polyline clip-path=\"url(#clip573)\" style=\"stroke:#000000; stroke-linecap:round; stroke-linejoin:round; stroke-width:2; stroke-opacity:0.1; fill:none\" points=\"1281.23,1486.45 1281.23,47.2441 \"/>\n",
       "<polyline clip-path=\"url(#clip573)\" style=\"stroke:#000000; stroke-linecap:round; stroke-linejoin:round; stroke-width:2; stroke-opacity:0.1; fill:none\" points=\"1412.61,1486.45 1412.61,47.2441 \"/>\n",
       "<polyline clip-path=\"url(#clip573)\" style=\"stroke:#000000; stroke-linecap:round; stroke-linejoin:round; stroke-width:2; stroke-opacity:0.1; fill:none\" points=\"1543.99,1486.45 1543.99,47.2441 \"/>\n",
       "<polyline clip-path=\"url(#clip570)\" style=\"stroke:#000000; stroke-linecap:round; stroke-linejoin:round; stroke-width:4; stroke-opacity:1; fill:none\" points=\"1008.11,1486.45 1559.6,1486.45 \"/>\n",
       "<polyline clip-path=\"url(#clip570)\" style=\"stroke:#000000; stroke-linecap:round; stroke-linejoin:round; stroke-width:4; stroke-opacity:1; fill:none\" points=\"1018.46,1486.45 1018.46,1467.55 \"/>\n",
       "<polyline clip-path=\"url(#clip570)\" style=\"stroke:#000000; stroke-linecap:round; stroke-linejoin:round; stroke-width:4; stroke-opacity:1; fill:none\" points=\"1149.85,1486.45 1149.85,1467.55 \"/>\n",
       "<polyline clip-path=\"url(#clip570)\" style=\"stroke:#000000; stroke-linecap:round; stroke-linejoin:round; stroke-width:4; stroke-opacity:1; fill:none\" points=\"1281.23,1486.45 1281.23,1467.55 \"/>\n",
       "<polyline clip-path=\"url(#clip570)\" style=\"stroke:#000000; stroke-linecap:round; stroke-linejoin:round; stroke-width:4; stroke-opacity:1; fill:none\" points=\"1412.61,1486.45 1412.61,1467.55 \"/>\n",
       "<polyline clip-path=\"url(#clip570)\" style=\"stroke:#000000; stroke-linecap:round; stroke-linejoin:round; stroke-width:4; stroke-opacity:1; fill:none\" points=\"1543.99,1486.45 1543.99,1467.55 \"/>\n",
       "<path clip-path=\"url(#clip570)\" d=\"M1018.46 1517.37 Q1014.85 1517.37 1013.02 1520.93 Q1011.22 1524.47 1011.22 1531.6 Q1011.22 1538.71 1013.02 1542.27 Q1014.85 1545.82 1018.46 1545.82 Q1022.1 1545.82 1023.9 1542.27 Q1025.73 1538.71 1025.73 1531.6 Q1025.73 1524.47 1023.9 1520.93 Q1022.1 1517.37 1018.46 1517.37 M1018.46 1513.66 Q1024.27 1513.66 1027.33 1518.27 Q1030.41 1522.85 1030.41 1531.6 Q1030.41 1540.33 1027.33 1544.94 Q1024.27 1549.52 1018.46 1549.52 Q1012.65 1549.52 1009.57 1544.94 Q1006.52 1540.33 1006.52 1531.6 Q1006.52 1522.85 1009.57 1518.27 Q1012.65 1513.66 1018.46 1513.66 Z\" fill=\"#000000\" fill-rule=\"nonzero\" fill-opacity=\"1\" /><path clip-path=\"url(#clip570)\" d=\"M1129.12 1544.91 L1145.44 1544.91 L1145.44 1548.85 L1123.49 1548.85 L1123.49 1544.91 Q1126.15 1542.16 1130.74 1537.53 Q1135.34 1532.88 1136.52 1531.53 Q1138.77 1529.01 1139.65 1527.27 Q1140.55 1525.51 1140.55 1523.82 Q1140.55 1521.07 1138.61 1519.33 Q1136.69 1517.6 1133.58 1517.6 Q1131.38 1517.6 1128.93 1518.36 Q1126.5 1519.13 1123.72 1520.68 L1123.72 1515.95 Q1126.55 1514.82 1129 1514.24 Q1131.45 1513.66 1133.49 1513.66 Q1138.86 1513.66 1142.06 1516.35 Q1145.25 1519.03 1145.25 1523.52 Q1145.25 1525.65 1144.44 1527.57 Q1143.65 1529.47 1141.55 1532.07 Q1140.97 1532.74 1137.87 1535.95 Q1134.76 1539.15 1129.12 1544.91 Z\" fill=\"#000000\" fill-rule=\"nonzero\" fill-opacity=\"1\" /><path clip-path=\"url(#clip570)\" d=\"M1155.3 1514.29 L1173.65 1514.29 L1173.65 1518.22 L1159.58 1518.22 L1159.58 1526.7 Q1160.6 1526.35 1161.62 1526.19 Q1162.63 1526 1163.65 1526 Q1169.44 1526 1172.82 1529.17 Q1176.2 1532.34 1176.2 1537.76 Q1176.2 1543.34 1172.73 1546.44 Q1169.25 1549.52 1162.94 1549.52 Q1160.76 1549.52 1158.49 1549.15 Q1156.25 1548.78 1153.84 1548.04 L1153.84 1543.34 Q1155.92 1544.47 1158.14 1545.03 Q1160.37 1545.58 1162.84 1545.58 Q1166.85 1545.58 1169.19 1543.48 Q1171.52 1541.37 1171.52 1537.76 Q1171.52 1534.15 1169.19 1532.04 Q1166.85 1529.94 1162.84 1529.94 Q1160.97 1529.94 1159.09 1530.35 Q1157.24 1530.77 1155.3 1531.65 L1155.3 1514.29 Z\" fill=\"#000000\" fill-rule=\"nonzero\" fill-opacity=\"1\" /><path clip-path=\"url(#clip570)\" d=\"M1255.93 1514.29 L1274.28 1514.29 L1274.28 1518.22 L1260.21 1518.22 L1260.21 1526.7 Q1261.23 1526.35 1262.25 1526.19 Q1263.26 1526 1264.28 1526 Q1270.07 1526 1273.45 1529.17 Q1276.83 1532.34 1276.83 1537.76 Q1276.83 1543.34 1273.36 1546.44 Q1269.88 1549.52 1263.57 1549.52 Q1261.39 1549.52 1259.12 1549.15 Q1256.88 1548.78 1254.47 1548.04 L1254.47 1543.34 Q1256.55 1544.47 1258.77 1545.03 Q1261 1545.58 1263.47 1545.58 Q1267.48 1545.58 1269.82 1543.48 Q1272.15 1541.37 1272.15 1537.76 Q1272.15 1534.15 1269.82 1532.04 Q1267.48 1529.94 1263.47 1529.94 Q1261.6 1529.94 1259.72 1530.35 Q1257.87 1530.77 1255.93 1531.65 L1255.93 1514.29 Z\" fill=\"#000000\" fill-rule=\"nonzero\" fill-opacity=\"1\" /><path clip-path=\"url(#clip570)\" d=\"M1296.04 1517.37 Q1292.43 1517.37 1290.6 1520.93 Q1288.8 1524.47 1288.8 1531.6 Q1288.8 1538.71 1290.6 1542.27 Q1292.43 1545.82 1296.04 1545.82 Q1299.68 1545.82 1301.48 1542.27 Q1303.31 1538.71 1303.31 1531.6 Q1303.31 1524.47 1301.48 1520.93 Q1299.68 1517.37 1296.04 1517.37 M1296.04 1513.66 Q1301.85 1513.66 1304.91 1518.27 Q1307.99 1522.85 1307.99 1531.6 Q1307.99 1540.33 1304.91 1544.94 Q1301.85 1549.52 1296.04 1549.52 Q1290.23 1549.52 1287.15 1544.94 Q1284.1 1540.33 1284.1 1531.6 Q1284.1 1522.85 1287.15 1518.27 Q1290.23 1513.66 1296.04 1513.66 Z\" fill=\"#000000\" fill-rule=\"nonzero\" fill-opacity=\"1\" /><path clip-path=\"url(#clip570)\" d=\"M1386.46 1514.29 L1408.69 1514.29 L1408.69 1516.28 L1396.14 1548.85 L1391.26 1548.85 L1403.06 1518.22 L1386.46 1518.22 L1386.46 1514.29 Z\" fill=\"#000000\" fill-rule=\"nonzero\" fill-opacity=\"1\" /><path clip-path=\"url(#clip570)\" d=\"M1417.85 1514.29 L1436.21 1514.29 L1436.21 1518.22 L1422.14 1518.22 L1422.14 1526.7 Q1423.15 1526.35 1424.17 1526.19 Q1425.19 1526 1426.21 1526 Q1432 1526 1435.38 1529.17 Q1438.76 1532.34 1438.76 1537.76 Q1438.76 1543.34 1435.28 1546.44 Q1431.81 1549.52 1425.49 1549.52 Q1423.32 1549.52 1421.05 1549.15 Q1418.8 1548.78 1416.39 1548.04 L1416.39 1543.34 Q1418.48 1544.47 1420.7 1545.03 Q1422.92 1545.58 1425.4 1545.58 Q1429.4 1545.58 1431.74 1543.48 Q1434.08 1541.37 1434.08 1537.76 Q1434.08 1534.15 1431.74 1532.04 Q1429.4 1529.94 1425.4 1529.94 Q1423.52 1529.94 1421.65 1530.35 Q1419.8 1530.77 1417.85 1531.65 L1417.85 1514.29 Z\" fill=\"#000000\" fill-rule=\"nonzero\" fill-opacity=\"1\" /><path clip-path=\"url(#clip570)\" d=\"M1503.6 1544.91 L1511.24 1544.91 L1511.24 1518.55 L1502.93 1520.21 L1502.93 1515.95 L1511.19 1514.29 L1515.87 1514.29 L1515.87 1544.91 L1523.51 1544.91 L1523.51 1548.85 L1503.6 1548.85 L1503.6 1544.91 Z\" fill=\"#000000\" fill-rule=\"nonzero\" fill-opacity=\"1\" /><path clip-path=\"url(#clip570)\" d=\"M1542.95 1517.37 Q1539.34 1517.37 1537.51 1520.93 Q1535.7 1524.47 1535.7 1531.6 Q1535.7 1538.71 1537.51 1542.27 Q1539.34 1545.82 1542.95 1545.82 Q1546.58 1545.82 1548.39 1542.27 Q1550.22 1538.71 1550.22 1531.6 Q1550.22 1524.47 1548.39 1520.93 Q1546.58 1517.37 1542.95 1517.37 M1542.95 1513.66 Q1548.76 1513.66 1551.82 1518.27 Q1554.89 1522.85 1554.89 1531.6 Q1554.89 1540.33 1551.82 1544.94 Q1548.76 1549.52 1542.95 1549.52 Q1537.14 1549.52 1534.06 1544.94 Q1531.01 1540.33 1531.01 1531.6 Q1531.01 1522.85 1534.06 1518.27 Q1537.14 1513.66 1542.95 1513.66 Z\" fill=\"#000000\" fill-rule=\"nonzero\" fill-opacity=\"1\" /><path clip-path=\"url(#clip570)\" d=\"M1573.11 1517.37 Q1569.5 1517.37 1567.67 1520.93 Q1565.87 1524.47 1565.87 1531.6 Q1565.87 1538.71 1567.67 1542.27 Q1569.5 1545.82 1573.11 1545.82 Q1576.75 1545.82 1578.55 1542.27 Q1580.38 1538.71 1580.38 1531.6 Q1580.38 1524.47 1578.55 1520.93 Q1576.75 1517.37 1573.11 1517.37 M1573.11 1513.66 Q1578.92 1513.66 1581.98 1518.27 Q1585.06 1522.85 1585.06 1531.6 Q1585.06 1540.33 1581.98 1544.94 Q1578.92 1549.52 1573.11 1549.52 Q1567.3 1549.52 1564.22 1544.94 Q1561.17 1540.33 1561.17 1531.6 Q1561.17 1522.85 1564.22 1518.27 Q1567.3 1513.66 1573.11 1513.66 Z\" fill=\"#000000\" fill-rule=\"nonzero\" fill-opacity=\"1\" /><polyline clip-path=\"url(#clip573)\" style=\"stroke:#000000; stroke-linecap:round; stroke-linejoin:round; stroke-width:2; stroke-opacity:0.1; fill:none\" points=\"1008.11,1407.39 1559.6,1407.39 \"/>\n",
       "<polyline clip-path=\"url(#clip573)\" style=\"stroke:#000000; stroke-linecap:round; stroke-linejoin:round; stroke-width:2; stroke-opacity:0.1; fill:none\" points=\"1008.11,1201.63 1559.6,1201.63 \"/>\n",
       "<polyline clip-path=\"url(#clip573)\" style=\"stroke:#000000; stroke-linecap:round; stroke-linejoin:round; stroke-width:2; stroke-opacity:0.1; fill:none\" points=\"1008.11,995.865 1559.6,995.865 \"/>\n",
       "<polyline clip-path=\"url(#clip573)\" style=\"stroke:#000000; stroke-linecap:round; stroke-linejoin:round; stroke-width:2; stroke-opacity:0.1; fill:none\" points=\"1008.11,790.102 1559.6,790.102 \"/>\n",
       "<polyline clip-path=\"url(#clip573)\" style=\"stroke:#000000; stroke-linecap:round; stroke-linejoin:round; stroke-width:2; stroke-opacity:0.1; fill:none\" points=\"1008.11,584.339 1559.6,584.339 \"/>\n",
       "<polyline clip-path=\"url(#clip573)\" style=\"stroke:#000000; stroke-linecap:round; stroke-linejoin:round; stroke-width:2; stroke-opacity:0.1; fill:none\" points=\"1008.11,378.576 1559.6,378.576 \"/>\n",
       "<polyline clip-path=\"url(#clip573)\" style=\"stroke:#000000; stroke-linecap:round; stroke-linejoin:round; stroke-width:2; stroke-opacity:0.1; fill:none\" points=\"1008.11,172.814 1559.6,172.814 \"/>\n",
       "<polyline clip-path=\"url(#clip570)\" style=\"stroke:#000000; stroke-linecap:round; stroke-linejoin:round; stroke-width:4; stroke-opacity:1; fill:none\" points=\"1008.11,1486.45 1008.11,47.2441 \"/>\n",
       "<polyline clip-path=\"url(#clip570)\" style=\"stroke:#000000; stroke-linecap:round; stroke-linejoin:round; stroke-width:4; stroke-opacity:1; fill:none\" points=\"1008.11,1407.39 1027.01,1407.39 \"/>\n",
       "<polyline clip-path=\"url(#clip570)\" style=\"stroke:#000000; stroke-linecap:round; stroke-linejoin:round; stroke-width:4; stroke-opacity:1; fill:none\" points=\"1008.11,1201.63 1027.01,1201.63 \"/>\n",
       "<polyline clip-path=\"url(#clip570)\" style=\"stroke:#000000; stroke-linecap:round; stroke-linejoin:round; stroke-width:4; stroke-opacity:1; fill:none\" points=\"1008.11,995.865 1027.01,995.865 \"/>\n",
       "<polyline clip-path=\"url(#clip570)\" style=\"stroke:#000000; stroke-linecap:round; stroke-linejoin:round; stroke-width:4; stroke-opacity:1; fill:none\" points=\"1008.11,790.102 1027.01,790.102 \"/>\n",
       "<polyline clip-path=\"url(#clip570)\" style=\"stroke:#000000; stroke-linecap:round; stroke-linejoin:round; stroke-width:4; stroke-opacity:1; fill:none\" points=\"1008.11,584.339 1027.01,584.339 \"/>\n",
       "<polyline clip-path=\"url(#clip570)\" style=\"stroke:#000000; stroke-linecap:round; stroke-linejoin:round; stroke-width:4; stroke-opacity:1; fill:none\" points=\"1008.11,378.576 1027.01,378.576 \"/>\n",
       "<polyline clip-path=\"url(#clip570)\" style=\"stroke:#000000; stroke-linecap:round; stroke-linejoin:round; stroke-width:4; stroke-opacity:1; fill:none\" points=\"1008.11,172.814 1027.01,172.814 \"/>\n",
       "<path clip-path=\"url(#clip570)\" d=\"M836 1407.84 L865.676 1407.84 L865.676 1411.78 L836 1411.78 L836 1407.84 Z\" fill=\"#000000\" fill-rule=\"nonzero\" fill-opacity=\"1\" /><path clip-path=\"url(#clip570)\" d=\"M885.768 1393.19 Q882.157 1393.19 880.328 1396.75 Q878.523 1400.3 878.523 1407.42 Q878.523 1414.53 880.328 1418.1 Q882.157 1421.64 885.768 1421.64 Q889.402 1421.64 891.208 1418.1 Q893.037 1414.53 893.037 1407.42 Q893.037 1400.3 891.208 1396.75 Q889.402 1393.19 885.768 1393.19 M885.768 1389.49 Q891.578 1389.49 894.634 1394.09 Q897.713 1398.67 897.713 1407.42 Q897.713 1416.15 894.634 1420.76 Q891.578 1425.34 885.768 1425.34 Q879.958 1425.34 876.879 1420.76 Q873.824 1416.15 873.824 1407.42 Q873.824 1398.67 876.879 1394.09 Q879.958 1389.49 885.768 1389.49 Z\" fill=\"#000000\" fill-rule=\"nonzero\" fill-opacity=\"1\" /><path clip-path=\"url(#clip570)\" d=\"M905.93 1418.79 L910.814 1418.79 L910.814 1424.67 L905.93 1424.67 L905.93 1418.79 Z\" fill=\"#000000\" fill-rule=\"nonzero\" fill-opacity=\"1\" /><path clip-path=\"url(#clip570)\" d=\"M925.027 1420.73 L941.347 1420.73 L941.347 1424.67 L919.402 1424.67 L919.402 1420.73 Q922.064 1417.98 926.648 1413.35 Q931.254 1408.7 932.435 1407.36 Q934.68 1404.83 935.56 1403.1 Q936.462 1401.34 936.462 1399.65 Q936.462 1396.89 934.518 1395.16 Q932.597 1393.42 929.495 1393.42 Q927.296 1393.42 924.842 1394.18 Q922.411 1394.95 919.634 1396.5 L919.634 1391.78 Q922.458 1390.64 924.911 1390.06 Q927.365 1389.49 929.402 1389.49 Q934.773 1389.49 937.967 1392.17 Q941.161 1394.86 941.161 1399.35 Q941.161 1401.48 940.351 1403.4 Q939.564 1405.3 937.458 1407.89 Q936.879 1408.56 933.777 1411.78 Q930.675 1414.97 925.027 1420.73 Z\" fill=\"#000000\" fill-rule=\"nonzero\" fill-opacity=\"1\" /><path clip-path=\"url(#clip570)\" d=\"M951.208 1390.11 L969.564 1390.11 L969.564 1394.05 L955.49 1394.05 L955.49 1402.52 Q956.509 1402.17 957.527 1402.01 Q958.546 1401.82 959.564 1401.82 Q965.351 1401.82 968.731 1404.99 Q972.11 1408.17 972.11 1413.58 Q972.11 1419.16 968.638 1422.26 Q965.166 1425.34 958.846 1425.34 Q956.671 1425.34 954.402 1424.97 Q952.157 1424.6 949.749 1423.86 L949.749 1419.16 Q951.833 1420.3 954.055 1420.85 Q956.277 1421.41 958.754 1421.41 Q962.759 1421.41 965.096 1419.3 Q967.434 1417.19 967.434 1413.58 Q967.434 1409.97 965.096 1407.86 Q962.759 1405.76 958.754 1405.76 Q956.879 1405.76 955.004 1406.17 Q953.152 1406.59 951.208 1407.47 L951.208 1390.11 Z\" fill=\"#000000\" fill-rule=\"nonzero\" fill-opacity=\"1\" /><path clip-path=\"url(#clip570)\" d=\"M884.773 1187.43 Q881.162 1187.43 879.333 1190.99 Q877.527 1194.53 877.527 1201.66 Q877.527 1208.77 879.333 1212.33 Q881.162 1215.87 884.773 1215.87 Q888.407 1215.87 890.213 1212.33 Q892.041 1208.77 892.041 1201.66 Q892.041 1194.53 890.213 1190.99 Q888.407 1187.43 884.773 1187.43 M884.773 1183.72 Q890.583 1183.72 893.639 1188.33 Q896.717 1192.91 896.717 1201.66 Q896.717 1210.39 893.639 1215 Q890.583 1219.58 884.773 1219.58 Q878.963 1219.58 875.884 1215 Q872.828 1210.39 872.828 1201.66 Q872.828 1192.91 875.884 1188.33 Q878.963 1183.72 884.773 1183.72 Z\" fill=\"#000000\" fill-rule=\"nonzero\" fill-opacity=\"1\" /><path clip-path=\"url(#clip570)\" d=\"M904.935 1213.03 L909.819 1213.03 L909.819 1218.91 L904.935 1218.91 L904.935 1213.03 Z\" fill=\"#000000\" fill-rule=\"nonzero\" fill-opacity=\"1\" /><path clip-path=\"url(#clip570)\" d=\"M930.004 1187.43 Q926.393 1187.43 924.564 1190.99 Q922.759 1194.53 922.759 1201.66 Q922.759 1208.77 924.564 1212.33 Q926.393 1215.87 930.004 1215.87 Q933.638 1215.87 935.444 1212.33 Q937.273 1208.77 937.273 1201.66 Q937.273 1194.53 935.444 1190.99 Q933.638 1187.43 930.004 1187.43 M930.004 1183.72 Q935.814 1183.72 938.87 1188.33 Q941.948 1192.91 941.948 1201.66 Q941.948 1210.39 938.87 1215 Q935.814 1219.58 930.004 1219.58 Q924.194 1219.58 921.115 1215 Q918.06 1210.39 918.06 1201.66 Q918.06 1192.91 921.115 1188.33 Q924.194 1183.72 930.004 1183.72 Z\" fill=\"#000000\" fill-rule=\"nonzero\" fill-opacity=\"1\" /><path clip-path=\"url(#clip570)\" d=\"M960.166 1187.43 Q956.555 1187.43 954.726 1190.99 Q952.921 1194.53 952.921 1201.66 Q952.921 1208.77 954.726 1212.33 Q956.555 1215.87 960.166 1215.87 Q963.8 1215.87 965.606 1212.33 Q967.434 1208.77 967.434 1201.66 Q967.434 1194.53 965.606 1190.99 Q963.8 1187.43 960.166 1187.43 M960.166 1183.72 Q965.976 1183.72 969.032 1188.33 Q972.11 1192.91 972.11 1201.66 Q972.11 1210.39 969.032 1215 Q965.976 1219.58 960.166 1219.58 Q954.356 1219.58 951.277 1215 Q948.222 1210.39 948.222 1201.66 Q948.222 1192.91 951.277 1188.33 Q954.356 1183.72 960.166 1183.72 Z\" fill=\"#000000\" fill-rule=\"nonzero\" fill-opacity=\"1\" /><path clip-path=\"url(#clip570)\" d=\"M885.768 981.663 Q882.157 981.663 880.328 985.228 Q878.523 988.77 878.523 995.899 Q878.523 1003.01 880.328 1006.57 Q882.157 1010.11 885.768 1010.11 Q889.402 1010.11 891.208 1006.57 Q893.037 1003.01 893.037 995.899 Q893.037 988.77 891.208 985.228 Q889.402 981.663 885.768 981.663 M885.768 977.96 Q891.578 977.96 894.634 982.566 Q897.713 987.149 897.713 995.899 Q897.713 1004.63 894.634 1009.23 Q891.578 1013.82 885.768 1013.82 Q879.958 1013.82 876.879 1009.23 Q873.824 1004.63 873.824 995.899 Q873.824 987.149 876.879 982.566 Q879.958 977.96 885.768 977.96 Z\" fill=\"#000000\" fill-rule=\"nonzero\" fill-opacity=\"1\" /><path clip-path=\"url(#clip570)\" d=\"M905.93 1007.26 L910.814 1007.26 L910.814 1013.14 L905.93 1013.14 L905.93 1007.26 Z\" fill=\"#000000\" fill-rule=\"nonzero\" fill-opacity=\"1\" /><path clip-path=\"url(#clip570)\" d=\"M925.027 1009.21 L941.347 1009.21 L941.347 1013.14 L919.402 1013.14 L919.402 1009.21 Q922.064 1006.45 926.648 1001.83 Q931.254 997.172 932.435 995.83 Q934.68 993.307 935.56 991.571 Q936.462 989.811 936.462 988.122 Q936.462 985.367 934.518 983.631 Q932.597 981.895 929.495 981.895 Q927.296 981.895 924.842 982.659 Q922.411 983.422 919.634 984.973 L919.634 980.251 Q922.458 979.117 924.911 978.538 Q927.365 977.96 929.402 977.96 Q934.773 977.96 937.967 980.645 Q941.161 983.33 941.161 987.821 Q941.161 989.95 940.351 991.872 Q939.564 993.77 937.458 996.362 Q936.879 997.034 933.777 1000.25 Q930.675 1003.45 925.027 1009.21 Z\" fill=\"#000000\" fill-rule=\"nonzero\" fill-opacity=\"1\" /><path clip-path=\"url(#clip570)\" d=\"M951.208 978.585 L969.564 978.585 L969.564 982.52 L955.49 982.52 L955.49 990.992 Q956.509 990.645 957.527 990.483 Q958.546 990.297 959.564 990.297 Q965.351 990.297 968.731 993.469 Q972.11 996.64 972.11 1002.06 Q972.11 1007.64 968.638 1010.74 Q965.166 1013.82 958.846 1013.82 Q956.671 1013.82 954.402 1013.45 Q952.157 1013.08 949.749 1012.33 L949.749 1007.64 Q951.833 1008.77 954.055 1009.33 Q956.277 1009.88 958.754 1009.88 Q962.759 1009.88 965.096 1007.77 Q967.434 1005.67 967.434 1002.06 Q967.434 998.446 965.096 996.339 Q962.759 994.233 958.754 994.233 Q956.879 994.233 955.004 994.649 Q953.152 995.066 951.208 995.946 L951.208 978.585 Z\" fill=\"#000000\" fill-rule=\"nonzero\" fill-opacity=\"1\" /><path clip-path=\"url(#clip570)\" d=\"M884.773 775.9 Q881.162 775.9 879.333 779.465 Q877.527 783.007 877.527 790.137 Q877.527 797.243 879.333 800.808 Q881.162 804.349 884.773 804.349 Q888.407 804.349 890.213 800.808 Q892.041 797.243 892.041 790.137 Q892.041 783.007 890.213 779.465 Q888.407 775.9 884.773 775.9 M884.773 772.197 Q890.583 772.197 893.639 776.803 Q896.717 781.387 896.717 790.137 Q896.717 798.863 893.639 803.47 Q890.583 808.053 884.773 808.053 Q878.963 808.053 875.884 803.47 Q872.828 798.863 872.828 790.137 Q872.828 781.387 875.884 776.803 Q878.963 772.197 884.773 772.197 Z\" fill=\"#000000\" fill-rule=\"nonzero\" fill-opacity=\"1\" /><path clip-path=\"url(#clip570)\" d=\"M904.935 801.502 L909.819 801.502 L909.819 807.382 L904.935 807.382 L904.935 801.502 Z\" fill=\"#000000\" fill-rule=\"nonzero\" fill-opacity=\"1\" /><path clip-path=\"url(#clip570)\" d=\"M920.05 772.822 L938.407 772.822 L938.407 776.757 L924.333 776.757 L924.333 785.229 Q925.351 784.882 926.37 784.72 Q927.388 784.535 928.407 784.535 Q934.194 784.535 937.573 787.706 Q940.953 790.877 940.953 796.294 Q940.953 801.873 937.481 804.974 Q934.009 808.053 927.689 808.053 Q925.513 808.053 923.245 807.683 Q920.999 807.312 918.592 806.572 L918.592 801.873 Q920.675 803.007 922.898 803.562 Q925.12 804.118 927.597 804.118 Q931.601 804.118 933.939 802.011 Q936.277 799.905 936.277 796.294 Q936.277 792.683 933.939 790.576 Q931.601 788.47 927.597 788.47 Q925.722 788.47 923.847 788.887 Q921.995 789.303 920.05 790.183 L920.05 772.822 Z\" fill=\"#000000\" fill-rule=\"nonzero\" fill-opacity=\"1\" /><path clip-path=\"url(#clip570)\" d=\"M960.166 775.9 Q956.555 775.9 954.726 779.465 Q952.921 783.007 952.921 790.137 Q952.921 797.243 954.726 800.808 Q956.555 804.349 960.166 804.349 Q963.8 804.349 965.606 800.808 Q967.434 797.243 967.434 790.137 Q967.434 783.007 965.606 779.465 Q963.8 775.9 960.166 775.9 M960.166 772.197 Q965.976 772.197 969.032 776.803 Q972.11 781.387 972.11 790.137 Q972.11 798.863 969.032 803.47 Q965.976 808.053 960.166 808.053 Q954.356 808.053 951.277 803.47 Q948.222 798.863 948.222 790.137 Q948.222 781.387 951.277 776.803 Q954.356 772.197 960.166 772.197 Z\" fill=\"#000000\" fill-rule=\"nonzero\" fill-opacity=\"1\" /><path clip-path=\"url(#clip570)\" d=\"M885.768 570.138 Q882.157 570.138 880.328 573.703 Q878.523 577.244 878.523 584.374 Q878.523 591.48 880.328 595.045 Q882.157 598.587 885.768 598.587 Q889.402 598.587 891.208 595.045 Q893.037 591.48 893.037 584.374 Q893.037 577.244 891.208 573.703 Q889.402 570.138 885.768 570.138 M885.768 566.434 Q891.578 566.434 894.634 571.041 Q897.713 575.624 897.713 584.374 Q897.713 593.101 894.634 597.707 Q891.578 602.29 885.768 602.29 Q879.958 602.29 876.879 597.707 Q873.824 593.101 873.824 584.374 Q873.824 575.624 876.879 571.041 Q879.958 566.434 885.768 566.434 Z\" fill=\"#000000\" fill-rule=\"nonzero\" fill-opacity=\"1\" /><path clip-path=\"url(#clip570)\" d=\"M905.93 595.739 L910.814 595.739 L910.814 601.619 L905.93 601.619 L905.93 595.739 Z\" fill=\"#000000\" fill-rule=\"nonzero\" fill-opacity=\"1\" /><path clip-path=\"url(#clip570)\" d=\"M919.819 567.059 L942.041 567.059 L942.041 569.05 L929.495 601.619 L924.611 601.619 L936.416 570.994 L919.819 570.994 L919.819 567.059 Z\" fill=\"#000000\" fill-rule=\"nonzero\" fill-opacity=\"1\" /><path clip-path=\"url(#clip570)\" d=\"M951.208 567.059 L969.564 567.059 L969.564 570.994 L955.49 570.994 L955.49 579.466 Q956.509 579.119 957.527 578.957 Q958.546 578.772 959.564 578.772 Q965.351 578.772 968.731 581.943 Q972.11 585.115 972.11 590.531 Q972.11 596.11 968.638 599.212 Q965.166 602.29 958.846 602.29 Q956.671 602.29 954.402 601.92 Q952.157 601.55 949.749 600.809 L949.749 596.11 Q951.833 597.244 954.055 597.8 Q956.277 598.355 958.754 598.355 Q962.759 598.355 965.096 596.249 Q967.434 594.142 967.434 590.531 Q967.434 586.92 965.096 584.814 Q962.759 582.707 958.754 582.707 Q956.879 582.707 955.004 583.124 Q953.152 583.54 951.208 584.42 L951.208 567.059 Z\" fill=\"#000000\" fill-rule=\"nonzero\" fill-opacity=\"1\" /><path clip-path=\"url(#clip570)\" d=\"M875.583 391.921 L883.222 391.921 L883.222 365.556 L874.912 367.222 L874.912 362.963 L883.176 361.296 L887.851 361.296 L887.851 391.921 L895.49 391.921 L895.49 395.856 L875.583 395.856 L875.583 391.921 Z\" fill=\"#000000\" fill-rule=\"nonzero\" fill-opacity=\"1\" /><path clip-path=\"url(#clip570)\" d=\"M904.935 389.977 L909.819 389.977 L909.819 395.856 L904.935 395.856 L904.935 389.977 Z\" fill=\"#000000\" fill-rule=\"nonzero\" fill-opacity=\"1\" /><path clip-path=\"url(#clip570)\" d=\"M930.004 364.375 Q926.393 364.375 924.564 367.94 Q922.759 371.481 922.759 378.611 Q922.759 385.717 924.564 389.282 Q926.393 392.824 930.004 392.824 Q933.638 392.824 935.444 389.282 Q937.273 385.717 937.273 378.611 Q937.273 371.481 935.444 367.94 Q933.638 364.375 930.004 364.375 M930.004 360.671 Q935.814 360.671 938.87 365.278 Q941.948 369.861 941.948 378.611 Q941.948 387.338 938.87 391.944 Q935.814 396.528 930.004 396.528 Q924.194 396.528 921.115 391.944 Q918.06 387.338 918.06 378.611 Q918.06 369.861 921.115 365.278 Q924.194 360.671 930.004 360.671 Z\" fill=\"#000000\" fill-rule=\"nonzero\" fill-opacity=\"1\" /><path clip-path=\"url(#clip570)\" d=\"M960.166 364.375 Q956.555 364.375 954.726 367.94 Q952.921 371.481 952.921 378.611 Q952.921 385.717 954.726 389.282 Q956.555 392.824 960.166 392.824 Q963.8 392.824 965.606 389.282 Q967.434 385.717 967.434 378.611 Q967.434 371.481 965.606 367.94 Q963.8 364.375 960.166 364.375 M960.166 360.671 Q965.976 360.671 969.032 365.278 Q972.11 369.861 972.11 378.611 Q972.11 387.338 969.032 391.944 Q965.976 396.528 960.166 396.528 Q954.356 396.528 951.277 391.944 Q948.222 387.338 948.222 378.611 Q948.222 369.861 951.277 365.278 Q954.356 360.671 960.166 360.671 Z\" fill=\"#000000\" fill-rule=\"nonzero\" fill-opacity=\"1\" /><path clip-path=\"url(#clip570)\" d=\"M876.578 186.158 L884.217 186.158 L884.217 159.793 L875.907 161.459 L875.907 157.2 L884.171 155.534 L888.847 155.534 L888.847 186.158 L896.486 186.158 L896.486 190.094 L876.578 190.094 L876.578 186.158 Z\" fill=\"#000000\" fill-rule=\"nonzero\" fill-opacity=\"1\" /><path clip-path=\"url(#clip570)\" d=\"M905.93 184.214 L910.814 184.214 L910.814 190.094 L905.93 190.094 L905.93 184.214 Z\" fill=\"#000000\" fill-rule=\"nonzero\" fill-opacity=\"1\" /><path clip-path=\"url(#clip570)\" d=\"M925.027 186.158 L941.347 186.158 L941.347 190.094 L919.402 190.094 L919.402 186.158 Q922.064 183.404 926.648 178.774 Q931.254 174.121 932.435 172.779 Q934.68 170.256 935.56 168.52 Q936.462 166.76 936.462 165.071 Q936.462 162.316 934.518 160.58 Q932.597 158.844 929.495 158.844 Q927.296 158.844 924.842 159.608 Q922.411 160.372 919.634 161.922 L919.634 157.2 Q922.458 156.066 924.911 155.487 Q927.365 154.909 929.402 154.909 Q934.773 154.909 937.967 157.594 Q941.161 160.279 941.161 164.77 Q941.161 166.899 940.351 168.821 Q939.564 170.719 937.458 173.311 Q936.879 173.983 933.777 177.2 Q930.675 180.395 925.027 186.158 Z\" fill=\"#000000\" fill-rule=\"nonzero\" fill-opacity=\"1\" /><path clip-path=\"url(#clip570)\" d=\"M951.208 155.534 L969.564 155.534 L969.564 159.469 L955.49 159.469 L955.49 167.941 Q956.509 167.594 957.527 167.432 Q958.546 167.246 959.564 167.246 Q965.351 167.246 968.731 170.418 Q972.11 173.589 972.11 179.006 Q972.11 184.584 968.638 187.686 Q965.166 190.765 958.846 190.765 Q956.671 190.765 954.402 190.395 Q952.157 190.024 949.749 189.283 L949.749 184.584 Q951.833 185.719 954.055 186.274 Q956.277 186.83 958.754 186.83 Q962.759 186.83 965.096 184.723 Q967.434 182.617 967.434 179.006 Q967.434 175.395 965.096 173.288 Q962.759 171.182 958.754 171.182 Q956.879 171.182 955.004 171.598 Q953.152 172.015 951.208 172.895 L951.208 155.534 Z\" fill=\"#000000\" fill-rule=\"nonzero\" fill-opacity=\"1\" /><polyline clip-path=\"url(#clip573)\" style=\"stroke:#0000ff; stroke-linecap:round; stroke-linejoin:round; stroke-width:4; stroke-opacity:1; fill:none\" points=\"1023.72,645.789 1028.97,603.475 1034.23,551.352 1039.48,1239.29 1044.74,668.924 1049.99,794.856 1055.25,1253.13 1060.51,986.472 1065.76,507.618 1071.02,355.34 1076.27,973.488 1081.53,722.486 1086.78,856.445 1092.04,876.445 1097.29,743.634 1102.55,955.111 1107.8,722.16 1113.06,1036.69 1118.31,1029.75 1123.57,362.096 1128.82,1191.9 1134.08,752.47 1139.33,774.784 1144.59,1345.85 1149.85,892.702 1155.1,1145.76 1160.36,1046.93 1165.61,1002.99 1170.87,1368 1176.12,596.21 1181.38,754.017 1186.63,1049.83 1191.89,683.737 1197.14,885.677 1202.4,1068.84 1207.65,390.659 1212.91,1439.61 1218.16,1311.38 1223.42,598.02 1228.67,550.02 1233.93,495.806 1239.19,1318.87 1244.44,867.251 1249.7,694.001 1254.95,459.247 1260.21,816.683 1265.46,661.683 1270.72,589.393 1275.97,365.187 1281.23,590.502 1286.48,440.919 1291.74,667.66 1296.99,389.282 1302.25,224.318 1307.5,444.796 1312.76,913.623 1318.01,613.01 1323.27,848.43 1328.53,493.135 1333.78,733.098 1339.04,603.968 1344.29,608.007 1349.55,543.441 1354.8,1186.68 1360.06,333.839 1365.31,880.503 1370.57,297.209 1375.82,725.227 1381.08,1162.91 1386.33,512.958 1391.59,1445.72 1396.84,981.746 1402.1,1106.67 1407.35,1004.51 1412.61,1017.91 1417.86,695.12 1423.12,950.972 1428.38,837.506 1433.63,795.904 1438.89,692.503 1444.14,635.043 1449.4,998.683 1454.65,484.72 1459.91,879.746 1465.16,1073.13 1470.42,213.869 1475.67,933.813 1480.93,240.985 1486.18,366.793 1491.44,857.166 1496.69,305.546 1501.95,263.475 1507.2,275.643 1512.46,1172.25 1517.72,87.9763 1522.97,795.863 1528.23,761.383 1533.48,856.696 1538.74,692.563 1543.99,816.171 \"/>\n",
       "<path clip-path=\"url(#clip570)\" d=\"M1462.87 1438.47 L1541.22 1438.47 L1541.22 1334.79 L1462.87 1334.79  Z\" fill=\"#ffffff\" fill-rule=\"evenodd\" fill-opacity=\"1\"/>\n",
       "<polyline clip-path=\"url(#clip570)\" style=\"stroke:#000000; stroke-linecap:round; stroke-linejoin:round; stroke-width:4; stroke-opacity:1; fill:none\" points=\"1462.87,1438.47 1541.22,1438.47 1541.22,1334.79 1462.87,1334.79 1462.87,1438.47 \"/>\n",
       "<polyline clip-path=\"url(#clip570)\" style=\"stroke:#0000ff; stroke-linecap:round; stroke-linejoin:round; stroke-width:4; stroke-opacity:1; fill:none\" points=\"1469,1386.63 1505.77,1386.63 \"/>\n",
       "<path clip-path=\"url(#clip570)\" d=\"M1530.67 1390.97 Q1530.67 1386.28 1528.72 1383.61 Q1526.8 1380.93 1523.42 1380.93 Q1520.04 1380.93 1518.1 1383.61 Q1516.18 1386.28 1516.18 1390.97 Q1516.18 1395.67 1518.1 1398.36 Q1520.04 1401.02 1523.42 1401.02 Q1526.8 1401.02 1528.72 1398.36 Q1530.67 1395.67 1530.67 1390.97 M1516.18 1381.92 Q1517.52 1379.61 1519.56 1378.5 Q1521.62 1377.36 1524.46 1377.36 Q1529.19 1377.36 1532.13 1381.11 Q1535.09 1384.86 1535.09 1390.97 Q1535.09 1397.09 1532.13 1400.84 Q1529.19 1404.59 1524.46 1404.59 Q1521.62 1404.59 1519.56 1403.47 Q1517.52 1402.34 1516.18 1400.03 L1516.18 1403.91 L1511.9 1403.91 L1511.9 1367.9 L1516.18 1367.9 L1516.18 1381.92 Z\" fill=\"#000000\" fill-rule=\"nonzero\" fill-opacity=\"1\" /><path clip-path=\"url(#clip570)\" d=\"M1801.27 1486.45 L2352.76 1486.45 L2352.76 47.2441 L1801.27 47.2441  Z\" fill=\"#ffffff\" fill-rule=\"evenodd\" fill-opacity=\"1\"/>\n",
       "<defs>\n",
       "  <clipPath id=\"clip574\">\n",
       "    <rect x=\"1801\" y=\"47\" width=\"552\" height=\"1440\"/>\n",
       "  </clipPath>\n",
       "</defs>\n",
       "<polyline clip-path=\"url(#clip574)\" style=\"stroke:#000000; stroke-linecap:round; stroke-linejoin:round; stroke-width:2; stroke-opacity:0.1; fill:none\" points=\"1811.62,1486.45 1811.62,47.2441 \"/>\n",
       "<polyline clip-path=\"url(#clip574)\" style=\"stroke:#000000; stroke-linecap:round; stroke-linejoin:round; stroke-width:2; stroke-opacity:0.1; fill:none\" points=\"1943,1486.45 1943,47.2441 \"/>\n",
       "<polyline clip-path=\"url(#clip574)\" style=\"stroke:#000000; stroke-linecap:round; stroke-linejoin:round; stroke-width:2; stroke-opacity:0.1; fill:none\" points=\"2074.38,1486.45 2074.38,47.2441 \"/>\n",
       "<polyline clip-path=\"url(#clip574)\" style=\"stroke:#000000; stroke-linecap:round; stroke-linejoin:round; stroke-width:2; stroke-opacity:0.1; fill:none\" points=\"2205.77,1486.45 2205.77,47.2441 \"/>\n",
       "<polyline clip-path=\"url(#clip574)\" style=\"stroke:#000000; stroke-linecap:round; stroke-linejoin:round; stroke-width:2; stroke-opacity:0.1; fill:none\" points=\"2337.15,1486.45 2337.15,47.2441 \"/>\n",
       "<polyline clip-path=\"url(#clip570)\" style=\"stroke:#000000; stroke-linecap:round; stroke-linejoin:round; stroke-width:4; stroke-opacity:1; fill:none\" points=\"1801.27,1486.45 2352.76,1486.45 \"/>\n",
       "<polyline clip-path=\"url(#clip570)\" style=\"stroke:#000000; stroke-linecap:round; stroke-linejoin:round; stroke-width:4; stroke-opacity:1; fill:none\" points=\"1811.62,1486.45 1811.62,1467.55 \"/>\n",
       "<polyline clip-path=\"url(#clip570)\" style=\"stroke:#000000; stroke-linecap:round; stroke-linejoin:round; stroke-width:4; stroke-opacity:1; fill:none\" points=\"1943,1486.45 1943,1467.55 \"/>\n",
       "<polyline clip-path=\"url(#clip570)\" style=\"stroke:#000000; stroke-linecap:round; stroke-linejoin:round; stroke-width:4; stroke-opacity:1; fill:none\" points=\"2074.38,1486.45 2074.38,1467.55 \"/>\n",
       "<polyline clip-path=\"url(#clip570)\" style=\"stroke:#000000; stroke-linecap:round; stroke-linejoin:round; stroke-width:4; stroke-opacity:1; fill:none\" points=\"2205.77,1486.45 2205.77,1467.55 \"/>\n",
       "<polyline clip-path=\"url(#clip570)\" style=\"stroke:#000000; stroke-linecap:round; stroke-linejoin:round; stroke-width:4; stroke-opacity:1; fill:none\" points=\"2337.15,1486.45 2337.15,1467.55 \"/>\n",
       "<path clip-path=\"url(#clip570)\" d=\"M1811.62 1517.37 Q1808.01 1517.37 1806.18 1520.93 Q1804.37 1524.47 1804.37 1531.6 Q1804.37 1538.71 1806.18 1542.27 Q1808.01 1545.82 1811.62 1545.82 Q1815.25 1545.82 1817.06 1542.27 Q1818.89 1538.71 1818.89 1531.6 Q1818.89 1524.47 1817.06 1520.93 Q1815.25 1517.37 1811.62 1517.37 M1811.62 1513.66 Q1817.43 1513.66 1820.48 1518.27 Q1823.56 1522.85 1823.56 1531.6 Q1823.56 1540.33 1820.48 1544.94 Q1817.43 1549.52 1811.62 1549.52 Q1805.81 1549.52 1802.73 1544.94 Q1799.67 1540.33 1799.67 1531.6 Q1799.67 1522.85 1802.73 1518.27 Q1805.81 1513.66 1811.62 1513.66 Z\" fill=\"#000000\" fill-rule=\"nonzero\" fill-opacity=\"1\" /><path clip-path=\"url(#clip570)\" d=\"M1922.27 1544.91 L1938.59 1544.91 L1938.59 1548.85 L1916.65 1548.85 L1916.65 1544.91 Q1919.31 1542.16 1923.89 1537.53 Q1928.5 1532.88 1929.68 1531.53 Q1931.92 1529.01 1932.8 1527.27 Q1933.71 1525.51 1933.71 1523.82 Q1933.71 1521.07 1931.76 1519.33 Q1929.84 1517.6 1926.74 1517.6 Q1924.54 1517.6 1922.09 1518.36 Q1919.66 1519.13 1916.88 1520.68 L1916.88 1515.95 Q1919.7 1514.82 1922.16 1514.24 Q1924.61 1513.66 1926.65 1513.66 Q1932.02 1513.66 1935.21 1516.35 Q1938.41 1519.03 1938.41 1523.52 Q1938.41 1525.65 1937.6 1527.57 Q1936.81 1529.47 1934.7 1532.07 Q1934.12 1532.74 1931.02 1535.95 Q1927.92 1539.15 1922.27 1544.91 Z\" fill=\"#000000\" fill-rule=\"nonzero\" fill-opacity=\"1\" /><path clip-path=\"url(#clip570)\" d=\"M1948.45 1514.29 L1966.81 1514.29 L1966.81 1518.22 L1952.74 1518.22 L1952.74 1526.7 Q1953.75 1526.35 1954.77 1526.19 Q1955.79 1526 1956.81 1526 Q1962.6 1526 1965.98 1529.17 Q1969.36 1532.34 1969.36 1537.76 Q1969.36 1543.34 1965.88 1546.44 Q1962.41 1549.52 1956.09 1549.52 Q1953.92 1549.52 1951.65 1549.15 Q1949.4 1548.78 1946.99 1548.04 L1946.99 1543.34 Q1949.08 1544.47 1951.3 1545.03 Q1953.52 1545.58 1956 1545.58 Q1960 1545.58 1962.34 1543.48 Q1964.68 1541.37 1964.68 1537.76 Q1964.68 1534.15 1962.34 1532.04 Q1960 1529.94 1956 1529.94 Q1954.12 1529.94 1952.25 1530.35 Q1950.4 1530.77 1948.45 1531.65 L1948.45 1514.29 Z\" fill=\"#000000\" fill-rule=\"nonzero\" fill-opacity=\"1\" /><path clip-path=\"url(#clip570)\" d=\"M2049.08 1514.29 L2067.44 1514.29 L2067.44 1518.22 L2053.37 1518.22 L2053.37 1526.7 Q2054.38 1526.35 2055.4 1526.19 Q2056.42 1526 2057.44 1526 Q2063.23 1526 2066.61 1529.17 Q2069.99 1532.34 2069.99 1537.76 Q2069.99 1543.34 2066.51 1546.44 Q2063.04 1549.52 2056.72 1549.52 Q2054.55 1549.52 2052.28 1549.15 Q2050.03 1548.78 2047.62 1548.04 L2047.62 1543.34 Q2049.71 1544.47 2051.93 1545.03 Q2054.15 1545.58 2056.63 1545.58 Q2060.63 1545.58 2062.97 1543.48 Q2065.31 1541.37 2065.31 1537.76 Q2065.31 1534.15 2062.97 1532.04 Q2060.63 1529.94 2056.63 1529.94 Q2054.75 1529.94 2052.88 1530.35 Q2051.03 1530.77 2049.08 1531.65 L2049.08 1514.29 Z\" fill=\"#000000\" fill-rule=\"nonzero\" fill-opacity=\"1\" /><path clip-path=\"url(#clip570)\" d=\"M2089.2 1517.37 Q2085.59 1517.37 2083.76 1520.93 Q2081.95 1524.47 2081.95 1531.6 Q2081.95 1538.71 2083.76 1542.27 Q2085.59 1545.82 2089.2 1545.82 Q2092.83 1545.82 2094.64 1542.27 Q2096.47 1538.71 2096.47 1531.6 Q2096.47 1524.47 2094.64 1520.93 Q2092.83 1517.37 2089.2 1517.37 M2089.2 1513.66 Q2095.01 1513.66 2098.06 1518.27 Q2101.14 1522.85 2101.14 1531.6 Q2101.14 1540.33 2098.06 1544.94 Q2095.01 1549.52 2089.2 1549.52 Q2083.39 1549.52 2080.31 1544.94 Q2077.25 1540.33 2077.25 1531.6 Q2077.25 1522.85 2080.31 1518.27 Q2083.39 1513.66 2089.2 1513.66 Z\" fill=\"#000000\" fill-rule=\"nonzero\" fill-opacity=\"1\" /><path clip-path=\"url(#clip570)\" d=\"M2179.62 1514.29 L2201.84 1514.29 L2201.84 1516.28 L2189.3 1548.85 L2184.41 1548.85 L2196.22 1518.22 L2179.62 1518.22 L2179.62 1514.29 Z\" fill=\"#000000\" fill-rule=\"nonzero\" fill-opacity=\"1\" /><path clip-path=\"url(#clip570)\" d=\"M2211.01 1514.29 L2229.36 1514.29 L2229.36 1518.22 L2215.29 1518.22 L2215.29 1526.7 Q2216.31 1526.35 2217.33 1526.19 Q2218.35 1526 2219.37 1526 Q2225.15 1526 2228.53 1529.17 Q2231.91 1532.34 2231.91 1537.76 Q2231.91 1543.34 2228.44 1546.44 Q2224.97 1549.52 2218.65 1549.52 Q2216.47 1549.52 2214.2 1549.15 Q2211.96 1548.78 2209.55 1548.04 L2209.55 1543.34 Q2211.63 1544.47 2213.86 1545.03 Q2216.08 1545.58 2218.55 1545.58 Q2222.56 1545.58 2224.9 1543.48 Q2227.24 1541.37 2227.24 1537.76 Q2227.24 1534.15 2224.9 1532.04 Q2222.56 1529.94 2218.55 1529.94 Q2216.68 1529.94 2214.8 1530.35 Q2212.95 1530.77 2211.01 1531.65 L2211.01 1514.29 Z\" fill=\"#000000\" fill-rule=\"nonzero\" fill-opacity=\"1\" /><path clip-path=\"url(#clip570)\" d=\"M2296.75 1544.91 L2304.39 1544.91 L2304.39 1518.55 L2296.08 1520.21 L2296.08 1515.95 L2304.35 1514.29 L2309.02 1514.29 L2309.02 1544.91 L2316.66 1544.91 L2316.66 1548.85 L2296.75 1548.85 L2296.75 1544.91 Z\" fill=\"#000000\" fill-rule=\"nonzero\" fill-opacity=\"1\" /><path clip-path=\"url(#clip570)\" d=\"M2336.11 1517.37 Q2332.49 1517.37 2330.67 1520.93 Q2328.86 1524.47 2328.86 1531.6 Q2328.86 1538.71 2330.67 1542.27 Q2332.49 1545.82 2336.11 1545.82 Q2339.74 1545.82 2341.55 1542.27 Q2343.37 1538.71 2343.37 1531.6 Q2343.37 1524.47 2341.55 1520.93 Q2339.74 1517.37 2336.11 1517.37 M2336.11 1513.66 Q2341.92 1513.66 2344.97 1518.27 Q2348.05 1522.85 2348.05 1531.6 Q2348.05 1540.33 2344.97 1544.94 Q2341.92 1549.52 2336.11 1549.52 Q2330.3 1549.52 2327.22 1544.94 Q2324.16 1540.33 2324.16 1531.6 Q2324.16 1522.85 2327.22 1518.27 Q2330.3 1513.66 2336.11 1513.66 Z\" fill=\"#000000\" fill-rule=\"nonzero\" fill-opacity=\"1\" /><path clip-path=\"url(#clip570)\" d=\"M2366.27 1517.37 Q2362.66 1517.37 2360.83 1520.93 Q2359.02 1524.47 2359.02 1531.6 Q2359.02 1538.71 2360.83 1542.27 Q2362.66 1545.82 2366.27 1545.82 Q2369.9 1545.82 2371.71 1542.27 Q2373.54 1538.71 2373.54 1531.6 Q2373.54 1524.47 2371.71 1520.93 Q2369.9 1517.37 2366.27 1517.37 M2366.27 1513.66 Q2372.08 1513.66 2375.13 1518.27 Q2378.21 1522.85 2378.21 1531.6 Q2378.21 1540.33 2375.13 1544.94 Q2372.08 1549.52 2366.27 1549.52 Q2360.46 1549.52 2357.38 1544.94 Q2354.32 1540.33 2354.32 1531.6 Q2354.32 1522.85 2357.38 1518.27 Q2360.46 1513.66 2366.27 1513.66 Z\" fill=\"#000000\" fill-rule=\"nonzero\" fill-opacity=\"1\" /><polyline clip-path=\"url(#clip574)\" style=\"stroke:#000000; stroke-linecap:round; stroke-linejoin:round; stroke-width:2; stroke-opacity:0.1; fill:none\" points=\"1801.27,1289.85 2352.76,1289.85 \"/>\n",
       "<polyline clip-path=\"url(#clip574)\" style=\"stroke:#000000; stroke-linecap:round; stroke-linejoin:round; stroke-width:2; stroke-opacity:0.1; fill:none\" points=\"1801.27,985.929 2352.76,985.929 \"/>\n",
       "<polyline clip-path=\"url(#clip574)\" style=\"stroke:#000000; stroke-linecap:round; stroke-linejoin:round; stroke-width:2; stroke-opacity:0.1; fill:none\" points=\"1801.27,682.008 2352.76,682.008 \"/>\n",
       "<polyline clip-path=\"url(#clip574)\" style=\"stroke:#000000; stroke-linecap:round; stroke-linejoin:round; stroke-width:2; stroke-opacity:0.1; fill:none\" points=\"1801.27,378.087 2352.76,378.087 \"/>\n",
       "<polyline clip-path=\"url(#clip574)\" style=\"stroke:#000000; stroke-linecap:round; stroke-linejoin:round; stroke-width:2; stroke-opacity:0.1; fill:none\" points=\"1801.27,74.1668 2352.76,74.1668 \"/>\n",
       "<polyline clip-path=\"url(#clip570)\" style=\"stroke:#000000; stroke-linecap:round; stroke-linejoin:round; stroke-width:4; stroke-opacity:1; fill:none\" points=\"1801.27,1486.45 1801.27,47.2441 \"/>\n",
       "<polyline clip-path=\"url(#clip570)\" style=\"stroke:#000000; stroke-linecap:round; stroke-linejoin:round; stroke-width:4; stroke-opacity:1; fill:none\" points=\"1801.27,1289.85 1820.16,1289.85 \"/>\n",
       "<polyline clip-path=\"url(#clip570)\" style=\"stroke:#000000; stroke-linecap:round; stroke-linejoin:round; stroke-width:4; stroke-opacity:1; fill:none\" points=\"1801.27,985.929 1820.16,985.929 \"/>\n",
       "<polyline clip-path=\"url(#clip570)\" style=\"stroke:#000000; stroke-linecap:round; stroke-linejoin:round; stroke-width:4; stroke-opacity:1; fill:none\" points=\"1801.27,682.008 1820.16,682.008 \"/>\n",
       "<polyline clip-path=\"url(#clip570)\" style=\"stroke:#000000; stroke-linecap:round; stroke-linejoin:round; stroke-width:4; stroke-opacity:1; fill:none\" points=\"1801.27,378.087 1820.16,378.087 \"/>\n",
       "<polyline clip-path=\"url(#clip570)\" style=\"stroke:#000000; stroke-linecap:round; stroke-linejoin:round; stroke-width:4; stroke-opacity:1; fill:none\" points=\"1801.27,74.1668 1820.16,74.1668 \"/>\n",
       "<path clip-path=\"url(#clip570)\" d=\"M1657.84 1290.3 L1687.51 1290.3 L1687.51 1294.24 L1657.84 1294.24 L1657.84 1290.3 Z\" fill=\"#000000\" fill-rule=\"nonzero\" fill-opacity=\"1\" /><path clip-path=\"url(#clip570)\" d=\"M1707.6 1275.65 Q1703.99 1275.65 1702.16 1279.21 Q1700.36 1282.75 1700.36 1289.88 Q1700.36 1296.99 1702.16 1300.56 Q1703.99 1304.1 1707.6 1304.1 Q1711.24 1304.1 1713.04 1300.56 Q1714.87 1296.99 1714.87 1289.88 Q1714.87 1282.75 1713.04 1279.21 Q1711.24 1275.65 1707.6 1275.65 M1707.6 1271.94 Q1713.41 1271.94 1716.47 1276.55 Q1719.55 1281.13 1719.55 1289.88 Q1719.55 1298.61 1716.47 1303.22 Q1713.41 1307.8 1707.6 1307.8 Q1701.79 1307.8 1698.72 1303.22 Q1695.66 1298.61 1695.66 1289.88 Q1695.66 1281.13 1698.72 1276.55 Q1701.79 1271.94 1707.6 1271.94 Z\" fill=\"#000000\" fill-rule=\"nonzero\" fill-opacity=\"1\" /><path clip-path=\"url(#clip570)\" d=\"M1727.77 1301.25 L1732.65 1301.25 L1732.65 1307.13 L1727.77 1307.13 L1727.77 1301.25 Z\" fill=\"#000000\" fill-rule=\"nonzero\" fill-opacity=\"1\" /><path clip-path=\"url(#clip570)\" d=\"M1755.68 1276.64 L1743.88 1295.09 L1755.68 1295.09 L1755.68 1276.64 M1754.46 1272.57 L1760.34 1272.57 L1760.34 1295.09 L1765.27 1295.09 L1765.27 1298.98 L1760.34 1298.98 L1760.34 1307.13 L1755.68 1307.13 L1755.68 1298.98 L1740.08 1298.98 L1740.08 1294.47 L1754.46 1272.57 Z\" fill=\"#000000\" fill-rule=\"nonzero\" fill-opacity=\"1\" /><path clip-path=\"url(#clip570)\" d=\"M1659.92 986.38 L1689.6 986.38 L1689.6 990.315 L1659.92 990.315 L1659.92 986.38 Z\" fill=\"#000000\" fill-rule=\"nonzero\" fill-opacity=\"1\" /><path clip-path=\"url(#clip570)\" d=\"M1709.69 971.728 Q1706.08 971.728 1704.25 975.292 Q1702.44 978.834 1702.44 985.964 Q1702.44 993.07 1704.25 996.635 Q1706.08 1000.18 1709.69 1000.18 Q1713.32 1000.18 1715.13 996.635 Q1716.96 993.07 1716.96 985.964 Q1716.96 978.834 1715.13 975.292 Q1713.32 971.728 1709.69 971.728 M1709.69 968.024 Q1715.5 968.024 1718.55 972.63 Q1721.63 977.214 1721.63 985.964 Q1721.63 994.69 1718.55 999.297 Q1715.5 1003.88 1709.69 1003.88 Q1703.88 1003.88 1700.8 999.297 Q1697.74 994.69 1697.74 985.964 Q1697.74 977.214 1700.8 972.63 Q1703.88 968.024 1709.69 968.024 Z\" fill=\"#000000\" fill-rule=\"nonzero\" fill-opacity=\"1\" /><path clip-path=\"url(#clip570)\" d=\"M1729.85 997.329 L1734.73 997.329 L1734.73 1003.21 L1729.85 1003.21 L1729.85 997.329 Z\" fill=\"#000000\" fill-rule=\"nonzero\" fill-opacity=\"1\" /><path clip-path=\"url(#clip570)\" d=\"M1748.95 999.274 L1765.27 999.274 L1765.27 1003.21 L1743.32 1003.21 L1743.32 999.274 Q1745.98 996.519 1750.57 991.889 Q1755.17 987.237 1756.35 985.894 Q1758.6 983.371 1759.48 981.635 Q1760.38 979.876 1760.38 978.186 Q1760.38 975.431 1758.44 973.695 Q1756.52 971.959 1753.41 971.959 Q1751.22 971.959 1748.76 972.723 Q1746.33 973.487 1743.55 975.038 L1743.55 970.316 Q1746.38 969.181 1748.83 968.603 Q1751.28 968.024 1753.32 968.024 Q1758.69 968.024 1761.89 970.709 Q1765.08 973.394 1765.08 977.885 Q1765.08 980.015 1764.27 981.936 Q1763.48 983.834 1761.38 986.427 Q1760.8 987.098 1757.7 990.315 Q1754.59 993.51 1748.95 999.274 Z\" fill=\"#000000\" fill-rule=\"nonzero\" fill-opacity=\"1\" /><path clip-path=\"url(#clip570)\" d=\"M1708.09 667.807 Q1704.48 667.807 1702.65 671.372 Q1700.85 674.913 1700.85 682.043 Q1700.85 689.149 1702.65 692.714 Q1704.48 696.256 1708.09 696.256 Q1711.72 696.256 1713.53 692.714 Q1715.36 689.149 1715.36 682.043 Q1715.36 674.913 1713.53 671.372 Q1711.72 667.807 1708.09 667.807 M1708.09 664.103 Q1713.9 664.103 1716.96 668.71 Q1720.03 673.293 1720.03 682.043 Q1720.03 690.77 1716.96 695.376 Q1713.9 699.959 1708.09 699.959 Q1702.28 699.959 1699.2 695.376 Q1696.15 690.77 1696.15 682.043 Q1696.15 673.293 1699.2 668.71 Q1702.28 664.103 1708.09 664.103 Z\" fill=\"#000000\" fill-rule=\"nonzero\" fill-opacity=\"1\" /><path clip-path=\"url(#clip570)\" d=\"M1728.25 693.409 L1733.14 693.409 L1733.14 699.288 L1728.25 699.288 L1728.25 693.409 Z\" fill=\"#000000\" fill-rule=\"nonzero\" fill-opacity=\"1\" /><path clip-path=\"url(#clip570)\" d=\"M1753.32 667.807 Q1749.71 667.807 1747.88 671.372 Q1746.08 674.913 1746.08 682.043 Q1746.08 689.149 1747.88 692.714 Q1749.71 696.256 1753.32 696.256 Q1756.96 696.256 1758.76 692.714 Q1760.59 689.149 1760.59 682.043 Q1760.59 674.913 1758.76 671.372 Q1756.96 667.807 1753.32 667.807 M1753.32 664.103 Q1759.13 664.103 1762.19 668.71 Q1765.27 673.293 1765.27 682.043 Q1765.27 690.77 1762.19 695.376 Q1759.13 699.959 1753.32 699.959 Q1747.51 699.959 1744.43 695.376 Q1741.38 690.77 1741.38 682.043 Q1741.38 673.293 1744.43 668.71 Q1747.51 664.103 1753.32 664.103 Z\" fill=\"#000000\" fill-rule=\"nonzero\" fill-opacity=\"1\" /><path clip-path=\"url(#clip570)\" d=\"M1709.69 363.886 Q1706.08 363.886 1704.25 367.451 Q1702.44 370.993 1702.44 378.122 Q1702.44 385.229 1704.25 388.793 Q1706.08 392.335 1709.69 392.335 Q1713.32 392.335 1715.13 388.793 Q1716.96 385.229 1716.96 378.122 Q1716.96 370.993 1715.13 367.451 Q1713.32 363.886 1709.69 363.886 M1709.69 360.182 Q1715.5 360.182 1718.55 364.789 Q1721.63 369.372 1721.63 378.122 Q1721.63 386.849 1718.55 391.455 Q1715.5 396.039 1709.69 396.039 Q1703.88 396.039 1700.8 391.455 Q1697.74 386.849 1697.74 378.122 Q1697.74 369.372 1700.8 364.789 Q1703.88 360.182 1709.69 360.182 Z\" fill=\"#000000\" fill-rule=\"nonzero\" fill-opacity=\"1\" /><path clip-path=\"url(#clip570)\" d=\"M1729.85 389.488 L1734.73 389.488 L1734.73 395.367 L1729.85 395.367 L1729.85 389.488 Z\" fill=\"#000000\" fill-rule=\"nonzero\" fill-opacity=\"1\" /><path clip-path=\"url(#clip570)\" d=\"M1748.95 391.432 L1765.27 391.432 L1765.27 395.367 L1743.32 395.367 L1743.32 391.432 Q1745.98 388.678 1750.57 384.048 Q1755.17 379.395 1756.35 378.053 Q1758.6 375.53 1759.48 373.794 Q1760.38 372.034 1760.38 370.344 Q1760.38 367.59 1758.44 365.854 Q1756.52 364.118 1753.41 364.118 Q1751.22 364.118 1748.76 364.882 Q1746.33 365.645 1743.55 367.196 L1743.55 362.474 Q1746.38 361.34 1748.83 360.761 Q1751.28 360.182 1753.32 360.182 Q1758.69 360.182 1761.89 362.868 Q1765.08 365.553 1765.08 370.044 Q1765.08 372.173 1764.27 374.094 Q1763.48 375.993 1761.38 378.585 Q1760.8 379.256 1757.7 382.474 Q1754.59 385.668 1748.95 391.432 Z\" fill=\"#000000\" fill-rule=\"nonzero\" fill-opacity=\"1\" /><path clip-path=\"url(#clip570)\" d=\"M1707.6 59.9655 Q1703.99 59.9655 1702.16 63.5303 Q1700.36 67.0719 1700.36 74.2015 Q1700.36 81.308 1702.16 84.8728 Q1703.99 88.4144 1707.6 88.4144 Q1711.24 88.4144 1713.04 84.8728 Q1714.87 81.308 1714.87 74.2015 Q1714.87 67.0719 1713.04 63.5303 Q1711.24 59.9655 1707.6 59.9655 M1707.6 56.2618 Q1713.41 56.2618 1716.47 60.8683 Q1719.55 65.4516 1719.55 74.2015 Q1719.55 82.9283 1716.47 87.5348 Q1713.41 92.1181 1707.6 92.1181 Q1701.79 92.1181 1698.72 87.5348 Q1695.66 82.9283 1695.66 74.2015 Q1695.66 65.4516 1698.72 60.8683 Q1701.79 56.2618 1707.6 56.2618 Z\" fill=\"#000000\" fill-rule=\"nonzero\" fill-opacity=\"1\" /><path clip-path=\"url(#clip570)\" d=\"M1727.77 85.5672 L1732.65 85.5672 L1732.65 91.4468 L1727.77 91.4468 L1727.77 85.5672 Z\" fill=\"#000000\" fill-rule=\"nonzero\" fill-opacity=\"1\" /><path clip-path=\"url(#clip570)\" d=\"M1755.68 60.9609 L1743.88 79.4098 L1755.68 79.4098 L1755.68 60.9609 M1754.46 56.8868 L1760.34 56.8868 L1760.34 79.4098 L1765.27 79.4098 L1765.27 83.2987 L1760.34 83.2987 L1760.34 91.4468 L1755.68 91.4468 L1755.68 83.2987 L1740.08 83.2987 L1740.08 78.7848 L1754.46 56.8868 Z\" fill=\"#000000\" fill-rule=\"nonzero\" fill-opacity=\"1\" /><polyline clip-path=\"url(#clip574)\" style=\"stroke:#008000; stroke-linecap:round; stroke-linejoin:round; stroke-width:4; stroke-opacity:1; fill:none\" points=\"1816.87,394.157 1822.13,445.863 1827.38,829.37 1832.64,593.847 1837.9,826.083 1843.15,358.676 1848.41,583.81 1853.66,836.787 1858.92,1144.58 1864.17,738.841 1869.43,107.786 1874.68,609.823 1879.94,500.478 1885.19,707.151 1890.45,92.0412 1895.7,857.146 1900.96,485.136 1906.21,867.911 1911.47,843.805 1916.72,910.548 1921.98,158.55 1927.24,460.094 1932.49,932.103 1937.75,170.912 1943,463.109 1948.26,282.127 1953.51,924.343 1958.77,270.189 1964.02,87.9763 1969.28,749.258 1974.53,888.318 1979.79,631.594 1985.04,762.476 1990.3,563.064 1995.55,369.356 2000.81,892.662 2006.06,159.264 2011.32,246.995 2016.58,420.625 2021.83,796.078 2027.09,1415.17 2032.34,439.574 2037.6,713.685 2042.85,318.787 2048.11,684.561 2053.36,844.866 2058.62,564.069 2063.87,785.381 2069.13,1239.53 2074.38,1009.54 2079.64,643.365 2084.89,921.591 2090.15,704.425 2095.4,1052.17 2100.66,1070.77 2105.92,868.442 2111.17,373.94 2116.43,648.148 2121.68,1066.87 2126.94,717.476 2132.19,576.664 2137.45,746.715 2142.7,588.468 2147.96,310.551 2153.21,766.399 2158.47,713.517 2163.72,1185.2 2168.98,1058.43 2174.23,726.58 2179.49,478.022 2184.74,116.228 2190,273.01 2195.25,662.983 2200.51,440.486 2205.77,630.769 2211.02,410.424 2216.28,411.321 2221.53,255.977 2226.79,636.12 2232.04,323.029 2237.3,1131.56 2242.55,693.057 2247.81,523.24 2253.06,875.557 2258.32,319.527 2263.57,1116.6 2268.83,269.88 2274.08,1002.01 2279.34,783.937 2284.59,615.989 2289.85,923.114 2295.11,1018.87 2300.36,1445.72 2305.62,307.191 2310.87,1299.75 2316.13,533.489 2321.38,634.385 2326.64,469.473 2331.89,925.887 2337.15,180.966 \"/>\n",
       "<path clip-path=\"url(#clip570)\" d=\"M1819.65 1438.47 L1945.61 1438.47 L1945.61 1334.79 L1819.65 1334.79  Z\" fill=\"#ffffff\" fill-rule=\"evenodd\" fill-opacity=\"1\"/>\n",
       "<polyline clip-path=\"url(#clip570)\" style=\"stroke:#000000; stroke-linecap:round; stroke-linejoin:round; stroke-width:4; stroke-opacity:1; fill:none\" points=\"1819.65,1438.47 1945.61,1438.47 1945.61,1334.79 1819.65,1334.79 1819.65,1438.47 \"/>\n",
       "<polyline clip-path=\"url(#clip570)\" style=\"stroke:#008000; stroke-linecap:round; stroke-linejoin:round; stroke-width:4; stroke-opacity:1; fill:none\" points=\"1825.78,1386.63 1862.54,1386.63 \"/>\n",
       "<path clip-path=\"url(#clip570)\" d=\"M1882.07 1390.88 Q1876.91 1390.88 1874.92 1392.06 Q1872.93 1393.24 1872.93 1396.09 Q1872.93 1398.36 1874.41 1399.7 Q1875.92 1401.02 1878.49 1401.02 Q1882.03 1401.02 1884.16 1398.52 Q1886.31 1396 1886.31 1391.83 L1886.31 1390.88 L1882.07 1390.88 M1890.57 1389.12 L1890.57 1403.91 L1886.31 1403.91 L1886.31 1399.98 Q1884.85 1402.34 1882.68 1403.47 Q1880.5 1404.59 1877.35 1404.59 Q1873.37 1404.59 1871.01 1402.36 Q1868.67 1400.12 1868.67 1396.37 Q1868.67 1391.99 1871.59 1389.77 Q1874.53 1387.55 1880.34 1387.55 L1886.31 1387.55 L1886.31 1387.13 Q1886.31 1384.19 1884.36 1382.6 Q1882.44 1380.97 1878.95 1380.97 Q1876.73 1380.97 1874.62 1381.51 Q1872.51 1382.04 1870.57 1383.1 L1870.57 1379.17 Q1872.91 1378.27 1875.11 1377.83 Q1877.3 1377.36 1879.39 1377.36 Q1885.01 1377.36 1887.79 1380.28 Q1890.57 1383.2 1890.57 1389.12 Z\" fill=\"#000000\" fill-rule=\"nonzero\" fill-opacity=\"1\" /><path clip-path=\"url(#clip570)\" d=\"M1897.19 1389.03 L1909.67 1389.03 L1909.67 1392.83 L1897.19 1392.83 L1897.19 1389.03 Z\" fill=\"#000000\" fill-rule=\"nonzero\" fill-opacity=\"1\" /><path clip-path=\"url(#clip570)\" d=\"M1935.06 1390.97 Q1935.06 1386.28 1933.11 1383.61 Q1931.19 1380.93 1927.81 1380.93 Q1924.43 1380.93 1922.49 1383.61 Q1920.57 1386.28 1920.57 1390.97 Q1920.57 1395.67 1922.49 1398.36 Q1924.43 1401.02 1927.81 1401.02 Q1931.19 1401.02 1933.11 1398.36 Q1935.06 1395.67 1935.06 1390.97 M1920.57 1381.92 Q1921.91 1379.61 1923.95 1378.5 Q1926.01 1377.36 1928.86 1377.36 Q1933.58 1377.36 1936.52 1381.11 Q1939.48 1384.86 1939.48 1390.97 Q1939.48 1397.09 1936.52 1400.84 Q1933.58 1404.59 1928.86 1404.59 Q1926.01 1404.59 1923.95 1403.47 Q1921.91 1402.34 1920.57 1400.03 L1920.57 1403.91 L1916.29 1403.91 L1916.29 1367.9 L1920.57 1367.9 L1920.57 1381.92 Z\" fill=\"#000000\" fill-rule=\"nonzero\" fill-opacity=\"1\" /></svg>\n"
      ]
     },
     "execution_count": 33,
     "metadata": {},
     "output_type": "execute_result"
    }
   ],
   "source": [
    "# your code here\n",
    "plot([a b a.-b], label=[\"a\" \"b\" \"a-b\"], layout=(1, 3), c=[\"red\" \"blue\" \"green\"])"
   ]
  },
  {
   "cell_type": "markdown",
   "metadata": {},
   "source": [
    "Another useful plot type is scatter plots, often used to visualize data by choosing two attributes. Here we generate some 2-D blobs and display their scatter plot one after another. Note the second call to \"scatter\" uses an exclamation mark (!) to update the plot with new content (without wiping off the first plot). "
   ]
  },
  {
   "cell_type": "code",
   "execution_count": 34,
   "metadata": {},
   "outputs": [
    {
     "data": {
      "image/svg+xml": [
       "<?xml version=\"1.0\" encoding=\"utf-8\"?>\n",
       "<svg xmlns=\"http://www.w3.org/2000/svg\" xmlns:xlink=\"http://www.w3.org/1999/xlink\" width=\"600\" height=\"400\" viewBox=\"0 0 2400 1600\">\n",
       "<defs>\n",
       "  <clipPath id=\"clip610\">\n",
       "    <rect x=\"0\" y=\"0\" width=\"2400\" height=\"1600\"/>\n",
       "  </clipPath>\n",
       "</defs>\n",
       "<path clip-path=\"url(#clip610)\" d=\"M0 1600 L2400 1600 L2400 0 L0 0  Z\" fill=\"#ffffff\" fill-rule=\"evenodd\" fill-opacity=\"1\"/>\n",
       "<defs>\n",
       "  <clipPath id=\"clip611\">\n",
       "    <rect x=\"480\" y=\"0\" width=\"1681\" height=\"1600\"/>\n",
       "  </clipPath>\n",
       "</defs>\n",
       "<path clip-path=\"url(#clip610)\" d=\"M147.108 1486.45 L2352.76 1486.45 L2352.76 47.2441 L147.108 47.2441  Z\" fill=\"#ffffff\" fill-rule=\"evenodd\" fill-opacity=\"1\"/>\n",
       "<defs>\n",
       "  <clipPath id=\"clip612\">\n",
       "    <rect x=\"147\" y=\"47\" width=\"2207\" height=\"1440\"/>\n",
       "  </clipPath>\n",
       "</defs>\n",
       "<polyline clip-path=\"url(#clip612)\" style=\"stroke:#000000; stroke-linecap:round; stroke-linejoin:round; stroke-width:2; stroke-opacity:0.1; fill:none\" points=\"380.557,1486.45 380.557,47.2441 \"/>\n",
       "<polyline clip-path=\"url(#clip612)\" style=\"stroke:#000000; stroke-linecap:round; stroke-linejoin:round; stroke-width:2; stroke-opacity:0.1; fill:none\" points=\"689.382,1486.45 689.382,47.2441 \"/>\n",
       "<polyline clip-path=\"url(#clip612)\" style=\"stroke:#000000; stroke-linecap:round; stroke-linejoin:round; stroke-width:2; stroke-opacity:0.1; fill:none\" points=\"998.208,1486.45 998.208,47.2441 \"/>\n",
       "<polyline clip-path=\"url(#clip612)\" style=\"stroke:#000000; stroke-linecap:round; stroke-linejoin:round; stroke-width:2; stroke-opacity:0.1; fill:none\" points=\"1307.03,1486.45 1307.03,47.2441 \"/>\n",
       "<polyline clip-path=\"url(#clip612)\" style=\"stroke:#000000; stroke-linecap:round; stroke-linejoin:round; stroke-width:2; stroke-opacity:0.1; fill:none\" points=\"1615.86,1486.45 1615.86,47.2441 \"/>\n",
       "<polyline clip-path=\"url(#clip612)\" style=\"stroke:#000000; stroke-linecap:round; stroke-linejoin:round; stroke-width:2; stroke-opacity:0.1; fill:none\" points=\"1924.68,1486.45 1924.68,47.2441 \"/>\n",
       "<polyline clip-path=\"url(#clip612)\" style=\"stroke:#000000; stroke-linecap:round; stroke-linejoin:round; stroke-width:2; stroke-opacity:0.1; fill:none\" points=\"2233.51,1486.45 2233.51,47.2441 \"/>\n",
       "<polyline clip-path=\"url(#clip610)\" style=\"stroke:#000000; stroke-linecap:round; stroke-linejoin:round; stroke-width:4; stroke-opacity:1; fill:none\" points=\"147.108,1486.45 2352.76,1486.45 \"/>\n",
       "<polyline clip-path=\"url(#clip610)\" style=\"stroke:#000000; stroke-linecap:round; stroke-linejoin:round; stroke-width:4; stroke-opacity:1; fill:none\" points=\"380.557,1486.45 380.557,1467.55 \"/>\n",
       "<polyline clip-path=\"url(#clip610)\" style=\"stroke:#000000; stroke-linecap:round; stroke-linejoin:round; stroke-width:4; stroke-opacity:1; fill:none\" points=\"689.382,1486.45 689.382,1467.55 \"/>\n",
       "<polyline clip-path=\"url(#clip610)\" style=\"stroke:#000000; stroke-linecap:round; stroke-linejoin:round; stroke-width:4; stroke-opacity:1; fill:none\" points=\"998.208,1486.45 998.208,1467.55 \"/>\n",
       "<polyline clip-path=\"url(#clip610)\" style=\"stroke:#000000; stroke-linecap:round; stroke-linejoin:round; stroke-width:4; stroke-opacity:1; fill:none\" points=\"1307.03,1486.45 1307.03,1467.55 \"/>\n",
       "<polyline clip-path=\"url(#clip610)\" style=\"stroke:#000000; stroke-linecap:round; stroke-linejoin:round; stroke-width:4; stroke-opacity:1; fill:none\" points=\"1615.86,1486.45 1615.86,1467.55 \"/>\n",
       "<polyline clip-path=\"url(#clip610)\" style=\"stroke:#000000; stroke-linecap:round; stroke-linejoin:round; stroke-width:4; stroke-opacity:1; fill:none\" points=\"1924.68,1486.45 1924.68,1467.55 \"/>\n",
       "<polyline clip-path=\"url(#clip610)\" style=\"stroke:#000000; stroke-linecap:round; stroke-linejoin:round; stroke-width:4; stroke-opacity:1; fill:none\" points=\"2233.51,1486.45 2233.51,1467.55 \"/>\n",
       "<path clip-path=\"url(#clip610)\" d=\"M349.457 1532.02 L379.133 1532.02 L379.133 1535.95 L349.457 1535.95 L349.457 1532.02 Z\" fill=\"#000000\" fill-rule=\"nonzero\" fill-opacity=\"1\" /><path clip-path=\"url(#clip610)\" d=\"M402.073 1518.36 L390.267 1536.81 L402.073 1536.81 L402.073 1518.36 M400.846 1514.29 L406.726 1514.29 L406.726 1536.81 L411.656 1536.81 L411.656 1540.7 L406.726 1540.7 L406.726 1548.85 L402.073 1548.85 L402.073 1540.7 L386.471 1540.7 L386.471 1536.19 L400.846 1514.29 Z\" fill=\"#000000\" fill-rule=\"nonzero\" fill-opacity=\"1\" /><path clip-path=\"url(#clip610)\" d=\"M658.85 1532.02 L688.526 1532.02 L688.526 1535.95 L658.85 1535.95 L658.85 1532.02 Z\" fill=\"#000000\" fill-rule=\"nonzero\" fill-opacity=\"1\" /><path clip-path=\"url(#clip610)\" d=\"M712.785 1530.21 Q716.141 1530.93 718.016 1533.2 Q719.914 1535.47 719.914 1538.8 Q719.914 1543.92 716.396 1546.72 Q712.877 1549.52 706.396 1549.52 Q704.22 1549.52 701.905 1549.08 Q699.614 1548.66 697.16 1547.81 L697.16 1543.29 Q699.104 1544.43 701.419 1545.01 Q703.734 1545.58 706.257 1545.58 Q710.655 1545.58 712.947 1543.85 Q715.262 1542.11 715.262 1538.8 Q715.262 1535.75 713.109 1534.03 Q710.979 1532.3 707.16 1532.3 L703.132 1532.3 L703.132 1528.45 L707.345 1528.45 Q710.794 1528.45 712.623 1527.09 Q714.452 1525.7 714.452 1523.11 Q714.452 1520.45 712.553 1519.03 Q710.678 1517.6 707.16 1517.6 Q705.239 1517.6 703.04 1518.01 Q700.84 1518.43 698.202 1519.31 L698.202 1515.14 Q700.864 1514.4 703.178 1514.03 Q705.516 1513.66 707.577 1513.66 Q712.901 1513.66 716.002 1516.09 Q719.104 1518.5 719.104 1522.62 Q719.104 1525.49 717.461 1527.48 Q715.817 1529.45 712.785 1530.21 Z\" fill=\"#000000\" fill-rule=\"nonzero\" fill-opacity=\"1\" /><path clip-path=\"url(#clip610)\" d=\"M968.15 1532.02 L997.826 1532.02 L997.826 1535.95 L968.15 1535.95 L968.15 1532.02 Z\" fill=\"#000000\" fill-rule=\"nonzero\" fill-opacity=\"1\" /><path clip-path=\"url(#clip610)\" d=\"M1011.95 1544.91 L1028.27 1544.91 L1028.27 1548.85 L1006.32 1548.85 L1006.32 1544.91 Q1008.98 1542.16 1013.57 1537.53 Q1018.17 1532.88 1019.35 1531.53 Q1021.6 1529.01 1022.48 1527.27 Q1023.38 1525.51 1023.38 1523.82 Q1023.38 1521.07 1021.44 1519.33 Q1019.52 1517.6 1016.41 1517.6 Q1014.21 1517.6 1011.76 1518.36 Q1009.33 1519.13 1006.55 1520.68 L1006.55 1515.95 Q1009.38 1514.82 1011.83 1514.24 Q1014.28 1513.66 1016.32 1513.66 Q1021.69 1513.66 1024.89 1516.35 Q1028.08 1519.03 1028.08 1523.52 Q1028.08 1525.65 1027.27 1527.57 Q1026.48 1529.47 1024.38 1532.07 Q1023.8 1532.74 1020.7 1535.95 Q1017.59 1539.15 1011.95 1544.91 Z\" fill=\"#000000\" fill-rule=\"nonzero\" fill-opacity=\"1\" /><path clip-path=\"url(#clip610)\" d=\"M1276.79 1532.02 L1306.47 1532.02 L1306.47 1535.95 L1276.79 1535.95 L1276.79 1532.02 Z\" fill=\"#000000\" fill-rule=\"nonzero\" fill-opacity=\"1\" /><path clip-path=\"url(#clip610)\" d=\"M1317.37 1544.91 L1325.01 1544.91 L1325.01 1518.55 L1316.7 1520.21 L1316.7 1515.95 L1324.96 1514.29 L1329.64 1514.29 L1329.64 1544.91 L1337.28 1544.91 L1337.28 1548.85 L1317.37 1548.85 L1317.37 1544.91 Z\" fill=\"#000000\" fill-rule=\"nonzero\" fill-opacity=\"1\" /><path clip-path=\"url(#clip610)\" d=\"M1615.86 1517.37 Q1612.25 1517.37 1610.42 1520.93 Q1608.61 1524.47 1608.61 1531.6 Q1608.61 1538.71 1610.42 1542.27 Q1612.25 1545.82 1615.86 1545.82 Q1619.49 1545.82 1621.3 1542.27 Q1623.13 1538.71 1623.13 1531.6 Q1623.13 1524.47 1621.3 1520.93 Q1619.49 1517.37 1615.86 1517.37 M1615.86 1513.66 Q1621.67 1513.66 1624.72 1518.27 Q1627.8 1522.85 1627.8 1531.6 Q1627.8 1540.33 1624.72 1544.94 Q1621.67 1549.52 1615.86 1549.52 Q1610.05 1549.52 1606.97 1544.94 Q1603.91 1540.33 1603.91 1531.6 Q1603.91 1522.85 1606.97 1518.27 Q1610.05 1513.66 1615.86 1513.66 Z\" fill=\"#000000\" fill-rule=\"nonzero\" fill-opacity=\"1\" /><path clip-path=\"url(#clip610)\" d=\"M1915.07 1544.91 L1922.7 1544.91 L1922.7 1518.55 L1914.39 1520.21 L1914.39 1515.95 L1922.66 1514.29 L1927.33 1514.29 L1927.33 1544.91 L1934.97 1544.91 L1934.97 1548.85 L1915.07 1548.85 L1915.07 1544.91 Z\" fill=\"#000000\" fill-rule=\"nonzero\" fill-opacity=\"1\" /><path clip-path=\"url(#clip610)\" d=\"M2228.16 1544.91 L2244.48 1544.91 L2244.48 1548.85 L2222.54 1548.85 L2222.54 1544.91 Q2225.2 1542.16 2229.78 1537.53 Q2234.39 1532.88 2235.57 1531.53 Q2237.82 1529.01 2238.69 1527.27 Q2239.6 1525.51 2239.6 1523.82 Q2239.6 1521.07 2237.65 1519.33 Q2235.73 1517.6 2232.63 1517.6 Q2230.43 1517.6 2227.98 1518.36 Q2225.55 1519.13 2222.77 1520.68 L2222.77 1515.95 Q2225.59 1514.82 2228.05 1514.24 Q2230.5 1513.66 2232.54 1513.66 Q2237.91 1513.66 2241.1 1516.35 Q2244.3 1519.03 2244.3 1523.52 Q2244.3 1525.65 2243.49 1527.57 Q2242.7 1529.47 2240.59 1532.07 Q2240.01 1532.74 2236.91 1535.95 Q2233.81 1539.15 2228.16 1544.91 Z\" fill=\"#000000\" fill-rule=\"nonzero\" fill-opacity=\"1\" /><polyline clip-path=\"url(#clip612)\" style=\"stroke:#000000; stroke-linecap:round; stroke-linejoin:round; stroke-width:2; stroke-opacity:0.1; fill:none\" points=\"147.108,1416.65 2352.76,1416.65 \"/>\n",
       "<polyline clip-path=\"url(#clip612)\" style=\"stroke:#000000; stroke-linecap:round; stroke-linejoin:round; stroke-width:2; stroke-opacity:0.1; fill:none\" points=\"147.108,1099.15 2352.76,1099.15 \"/>\n",
       "<polyline clip-path=\"url(#clip612)\" style=\"stroke:#000000; stroke-linecap:round; stroke-linejoin:round; stroke-width:2; stroke-opacity:0.1; fill:none\" points=\"147.108,781.64 2352.76,781.64 \"/>\n",
       "<polyline clip-path=\"url(#clip612)\" style=\"stroke:#000000; stroke-linecap:round; stroke-linejoin:round; stroke-width:2; stroke-opacity:0.1; fill:none\" points=\"147.108,464.134 2352.76,464.134 \"/>\n",
       "<polyline clip-path=\"url(#clip612)\" style=\"stroke:#000000; stroke-linecap:round; stroke-linejoin:round; stroke-width:2; stroke-opacity:0.1; fill:none\" points=\"147.108,146.628 2352.76,146.628 \"/>\n",
       "<polyline clip-path=\"url(#clip610)\" style=\"stroke:#000000; stroke-linecap:round; stroke-linejoin:round; stroke-width:4; stroke-opacity:1; fill:none\" points=\"147.108,1486.45 147.108,47.2441 \"/>\n",
       "<polyline clip-path=\"url(#clip610)\" style=\"stroke:#000000; stroke-linecap:round; stroke-linejoin:round; stroke-width:4; stroke-opacity:1; fill:none\" points=\"147.108,1416.65 166.005,1416.65 \"/>\n",
       "<polyline clip-path=\"url(#clip610)\" style=\"stroke:#000000; stroke-linecap:round; stroke-linejoin:round; stroke-width:4; stroke-opacity:1; fill:none\" points=\"147.108,1099.15 166.005,1099.15 \"/>\n",
       "<polyline clip-path=\"url(#clip610)\" style=\"stroke:#000000; stroke-linecap:round; stroke-linejoin:round; stroke-width:4; stroke-opacity:1; fill:none\" points=\"147.108,781.64 166.005,781.64 \"/>\n",
       "<polyline clip-path=\"url(#clip610)\" style=\"stroke:#000000; stroke-linecap:round; stroke-linejoin:round; stroke-width:4; stroke-opacity:1; fill:none\" points=\"147.108,464.134 166.005,464.134 \"/>\n",
       "<polyline clip-path=\"url(#clip610)\" style=\"stroke:#000000; stroke-linecap:round; stroke-linejoin:round; stroke-width:4; stroke-opacity:1; fill:none\" points=\"147.108,146.628 166.005,146.628 \"/>\n",
       "<path clip-path=\"url(#clip610)\" d=\"M50.9921 1417.1 L80.6679 1417.1 L80.6679 1421.04 L50.9921 1421.04 L50.9921 1417.1 Z\" fill=\"#000000\" fill-rule=\"nonzero\" fill-opacity=\"1\" /><path clip-path=\"url(#clip610)\" d=\"M94.7882 1430 L111.108 1430 L111.108 1433.93 L89.1632 1433.93 L89.1632 1430 Q91.8252 1427.24 96.4085 1422.61 Q101.015 1417.96 102.196 1416.62 Q104.441 1414.09 105.321 1412.36 Q106.223 1410.6 106.223 1408.91 Q106.223 1406.16 104.279 1404.42 Q102.358 1402.68 99.2558 1402.68 Q97.0567 1402.68 94.603 1403.45 Q92.1725 1404.21 89.3947 1405.76 L89.3947 1401.04 Q92.2188 1399.91 94.6724 1399.33 Q97.1261 1398.75 99.1632 1398.75 Q104.534 1398.75 107.728 1401.43 Q110.922 1404.12 110.922 1408.61 Q110.922 1410.74 110.112 1412.66 Q109.325 1414.56 107.219 1417.15 Q106.64 1417.82 103.538 1421.04 Q100.436 1424.23 94.7882 1430 Z\" fill=\"#000000\" fill-rule=\"nonzero\" fill-opacity=\"1\" /><path clip-path=\"url(#clip610)\" d=\"M99.1632 1084.95 Q95.5521 1084.95 93.7234 1088.51 Q91.9178 1092.05 91.9178 1099.18 Q91.9178 1106.29 93.7234 1109.85 Q95.5521 1113.39 99.1632 1113.39 Q102.797 1113.39 104.603 1109.85 Q106.432 1106.29 106.432 1099.18 Q106.432 1092.05 104.603 1088.51 Q102.797 1084.95 99.1632 1084.95 M99.1632 1081.24 Q104.973 1081.24 108.029 1085.85 Q111.108 1090.43 111.108 1099.18 Q111.108 1107.91 108.029 1112.51 Q104.973 1117.1 99.1632 1117.1 Q93.353 1117.1 90.2743 1112.51 Q87.2188 1107.91 87.2188 1099.18 Q87.2188 1090.43 90.2743 1085.85 Q93.353 1081.24 99.1632 1081.24 Z\" fill=\"#000000\" fill-rule=\"nonzero\" fill-opacity=\"1\" /><path clip-path=\"url(#clip610)\" d=\"M94.7882 794.985 L111.108 794.985 L111.108 798.92 L89.1632 798.92 L89.1632 794.985 Q91.8252 792.231 96.4085 787.601 Q101.015 782.948 102.196 781.606 Q104.441 779.082 105.321 777.346 Q106.223 775.587 106.223 773.897 Q106.223 771.143 104.279 769.407 Q102.358 767.671 99.2558 767.671 Q97.0567 767.671 94.603 768.434 Q92.1725 769.198 89.3947 770.749 L89.3947 766.027 Q92.2188 764.893 94.6724 764.314 Q97.1261 763.735 99.1632 763.735 Q104.534 763.735 107.728 766.421 Q110.922 769.106 110.922 773.596 Q110.922 775.726 110.112 777.647 Q109.325 779.545 107.219 782.138 Q106.64 782.809 103.538 786.027 Q100.436 789.221 94.7882 794.985 Z\" fill=\"#000000\" fill-rule=\"nonzero\" fill-opacity=\"1\" /><path clip-path=\"url(#clip610)\" d=\"M101.524 450.928 L89.7188 469.377 L101.524 469.377 L101.524 450.928 M100.297 446.854 L106.177 446.854 L106.177 469.377 L111.108 469.377 L111.108 473.266 L106.177 473.266 L106.177 481.414 L101.524 481.414 L101.524 473.266 L85.9225 473.266 L85.9225 468.752 L100.297 446.854 Z\" fill=\"#000000\" fill-rule=\"nonzero\" fill-opacity=\"1\" /><path clip-path=\"url(#clip610)\" d=\"M99.5798 144.765 Q96.4317 144.765 94.5799 146.917 Q92.7512 149.07 92.7512 152.82 Q92.7512 156.547 94.5799 158.723 Q96.4317 160.876 99.5798 160.876 Q102.728 160.876 104.557 158.723 Q106.408 156.547 106.408 152.82 Q106.408 149.07 104.557 146.917 Q102.728 144.765 99.5798 144.765 M108.862 130.112 L108.862 134.371 Q107.103 133.538 105.297 133.098 Q103.515 132.658 101.756 132.658 Q97.1261 132.658 94.6724 135.783 Q92.2419 138.908 91.8947 145.228 Q93.2604 143.214 95.3206 142.149 Q97.3808 141.061 99.8576 141.061 Q105.066 141.061 108.075 144.232 Q111.108 147.38 111.108 152.82 Q111.108 158.144 107.959 161.362 Q104.811 164.579 99.5798 164.579 Q93.5845 164.579 90.4132 159.996 Q87.2419 155.39 87.2419 146.663 Q87.2419 138.468 91.1308 133.607 Q95.0197 128.723 101.571 128.723 Q103.33 128.723 105.112 129.07 Q106.918 129.417 108.862 130.112 Z\" fill=\"#000000\" fill-rule=\"nonzero\" fill-opacity=\"1\" /><circle clip-path=\"url(#clip612)\" cx=\"1352.98\" cy=\"1000.14\" r=\"14.4\" fill=\"#009af9\" fill-rule=\"evenodd\" fill-opacity=\"1\" stroke=\"#000000\" stroke-opacity=\"1\" stroke-width=\"3.2\"/>\n",
       "<circle clip-path=\"url(#clip612)\" cx=\"1362.9\" cy=\"1102.03\" r=\"14.4\" fill=\"#009af9\" fill-rule=\"evenodd\" fill-opacity=\"1\" stroke=\"#000000\" stroke-opacity=\"1\" stroke-width=\"3.2\"/>\n",
       "<circle clip-path=\"url(#clip612)\" cx=\"1921.48\" cy=\"1070.99\" r=\"14.4\" fill=\"#009af9\" fill-rule=\"evenodd\" fill-opacity=\"1\" stroke=\"#000000\" stroke-opacity=\"1\" stroke-width=\"3.2\"/>\n",
       "<circle clip-path=\"url(#clip612)\" cx=\"1130.3\" cy=\"997.108\" r=\"14.4\" fill=\"#009af9\" fill-rule=\"evenodd\" fill-opacity=\"1\" stroke=\"#000000\" stroke-opacity=\"1\" stroke-width=\"3.2\"/>\n",
       "<circle clip-path=\"url(#clip612)\" cx=\"1521.74\" cy=\"1445.72\" r=\"14.4\" fill=\"#009af9\" fill-rule=\"evenodd\" fill-opacity=\"1\" stroke=\"#000000\" stroke-opacity=\"1\" stroke-width=\"3.2\"/>\n",
       "<circle clip-path=\"url(#clip612)\" cx=\"2060.63\" cy=\"1154.12\" r=\"14.4\" fill=\"#009af9\" fill-rule=\"evenodd\" fill-opacity=\"1\" stroke=\"#000000\" stroke-opacity=\"1\" stroke-width=\"3.2\"/>\n",
       "<circle clip-path=\"url(#clip612)\" cx=\"951.526\" cy=\"1400.22\" r=\"14.4\" fill=\"#009af9\" fill-rule=\"evenodd\" fill-opacity=\"1\" stroke=\"#000000\" stroke-opacity=\"1\" stroke-width=\"3.2\"/>\n",
       "<circle clip-path=\"url(#clip612)\" cx=\"1337.54\" cy=\"1227.69\" r=\"14.4\" fill=\"#009af9\" fill-rule=\"evenodd\" fill-opacity=\"1\" stroke=\"#000000\" stroke-opacity=\"1\" stroke-width=\"3.2\"/>\n",
       "<circle clip-path=\"url(#clip612)\" cx=\"2078.83\" cy=\"1311.51\" r=\"14.4\" fill=\"#009af9\" fill-rule=\"evenodd\" fill-opacity=\"1\" stroke=\"#000000\" stroke-opacity=\"1\" stroke-width=\"3.2\"/>\n",
       "<circle clip-path=\"url(#clip612)\" cx=\"1719.8\" cy=\"1127.24\" r=\"14.4\" fill=\"#009af9\" fill-rule=\"evenodd\" fill-opacity=\"1\" stroke=\"#000000\" stroke-opacity=\"1\" stroke-width=\"3.2\"/>\n",
       "<circle clip-path=\"url(#clip612)\" cx=\"1738.86\" cy=\"857.847\" r=\"14.4\" fill=\"#009af9\" fill-rule=\"evenodd\" fill-opacity=\"1\" stroke=\"#000000\" stroke-opacity=\"1\" stroke-width=\"3.2\"/>\n",
       "<circle clip-path=\"url(#clip612)\" cx=\"2233.71\" cy=\"1195.12\" r=\"14.4\" fill=\"#009af9\" fill-rule=\"evenodd\" fill-opacity=\"1\" stroke=\"#000000\" stroke-opacity=\"1\" stroke-width=\"3.2\"/>\n",
       "<circle clip-path=\"url(#clip612)\" cx=\"1947.29\" cy=\"1129.06\" r=\"14.4\" fill=\"#009af9\" fill-rule=\"evenodd\" fill-opacity=\"1\" stroke=\"#000000\" stroke-opacity=\"1\" stroke-width=\"3.2\"/>\n",
       "<circle clip-path=\"url(#clip612)\" cx=\"1512.26\" cy=\"1184.15\" r=\"14.4\" fill=\"#009af9\" fill-rule=\"evenodd\" fill-opacity=\"1\" stroke=\"#000000\" stroke-opacity=\"1\" stroke-width=\"3.2\"/>\n",
       "<circle clip-path=\"url(#clip612)\" cx=\"2290.33\" cy=\"1145.52\" r=\"14.4\" fill=\"#009af9\" fill-rule=\"evenodd\" fill-opacity=\"1\" stroke=\"#000000\" stroke-opacity=\"1\" stroke-width=\"3.2\"/>\n",
       "<circle clip-path=\"url(#clip612)\" cx=\"1335.15\" cy=\"1196.95\" r=\"14.4\" fill=\"#009af9\" fill-rule=\"evenodd\" fill-opacity=\"1\" stroke=\"#000000\" stroke-opacity=\"1\" stroke-width=\"3.2\"/>\n",
       "<circle clip-path=\"url(#clip612)\" cx=\"1894.9\" cy=\"1334.09\" r=\"14.4\" fill=\"#009af9\" fill-rule=\"evenodd\" fill-opacity=\"1\" stroke=\"#000000\" stroke-opacity=\"1\" stroke-width=\"3.2\"/>\n",
       "<circle clip-path=\"url(#clip612)\" cx=\"1750.16\" cy=\"1030.95\" r=\"14.4\" fill=\"#009af9\" fill-rule=\"evenodd\" fill-opacity=\"1\" stroke=\"#000000\" stroke-opacity=\"1\" stroke-width=\"3.2\"/>\n",
       "<circle clip-path=\"url(#clip612)\" cx=\"1255.12\" cy=\"1163.22\" r=\"14.4\" fill=\"#009af9\" fill-rule=\"evenodd\" fill-opacity=\"1\" stroke=\"#000000\" stroke-opacity=\"1\" stroke-width=\"3.2\"/>\n",
       "<circle clip-path=\"url(#clip612)\" cx=\"1910.91\" cy=\"1113.4\" r=\"14.4\" fill=\"#009af9\" fill-rule=\"evenodd\" fill-opacity=\"1\" stroke=\"#000000\" stroke-opacity=\"1\" stroke-width=\"3.2\"/>\n",
       "<circle clip-path=\"url(#clip612)\" cx=\"833.872\" cy=\"408.087\" r=\"14.4\" fill=\"#e26f46\" fill-rule=\"evenodd\" fill-opacity=\"1\" stroke=\"#000000\" stroke-opacity=\"1\" stroke-width=\"3.2\"/>\n",
       "<circle clip-path=\"url(#clip612)\" cx=\"445.066\" cy=\"631.006\" r=\"14.4\" fill=\"#e26f46\" fill-rule=\"evenodd\" fill-opacity=\"1\" stroke=\"#000000\" stroke-opacity=\"1\" stroke-width=\"3.2\"/>\n",
       "<circle clip-path=\"url(#clip612)\" cx=\"526.971\" cy=\"166.503\" r=\"14.4\" fill=\"#e26f46\" fill-rule=\"evenodd\" fill-opacity=\"1\" stroke=\"#000000\" stroke-opacity=\"1\" stroke-width=\"3.2\"/>\n",
       "<circle clip-path=\"url(#clip612)\" cx=\"597.499\" cy=\"457.078\" r=\"14.4\" fill=\"#e26f46\" fill-rule=\"evenodd\" fill-opacity=\"1\" stroke=\"#000000\" stroke-opacity=\"1\" stroke-width=\"3.2\"/>\n",
       "<circle clip-path=\"url(#clip612)\" cx=\"416.748\" cy=\"352.382\" r=\"14.4\" fill=\"#e26f46\" fill-rule=\"evenodd\" fill-opacity=\"1\" stroke=\"#000000\" stroke-opacity=\"1\" stroke-width=\"3.2\"/>\n",
       "<circle clip-path=\"url(#clip612)\" cx=\"1133.15\" cy=\"350.458\" r=\"14.4\" fill=\"#e26f46\" fill-rule=\"evenodd\" fill-opacity=\"1\" stroke=\"#000000\" stroke-opacity=\"1\" stroke-width=\"3.2\"/>\n",
       "<circle clip-path=\"url(#clip612)\" cx=\"889.219\" cy=\"371.311\" r=\"14.4\" fill=\"#e26f46\" fill-rule=\"evenodd\" fill-opacity=\"1\" stroke=\"#000000\" stroke-opacity=\"1\" stroke-width=\"3.2\"/>\n",
       "<circle clip-path=\"url(#clip612)\" cx=\"382.086\" cy=\"564.402\" r=\"14.4\" fill=\"#e26f46\" fill-rule=\"evenodd\" fill-opacity=\"1\" stroke=\"#000000\" stroke-opacity=\"1\" stroke-width=\"3.2\"/>\n",
       "<circle clip-path=\"url(#clip612)\" cx=\"365.804\" cy=\"631.724\" r=\"14.4\" fill=\"#e26f46\" fill-rule=\"evenodd\" fill-opacity=\"1\" stroke=\"#000000\" stroke-opacity=\"1\" stroke-width=\"3.2\"/>\n",
       "<circle clip-path=\"url(#clip612)\" cx=\"809.564\" cy=\"465.24\" r=\"14.4\" fill=\"#e26f46\" fill-rule=\"evenodd\" fill-opacity=\"1\" stroke=\"#000000\" stroke-opacity=\"1\" stroke-width=\"3.2\"/>\n",
       "<circle clip-path=\"url(#clip612)\" cx=\"209.532\" cy=\"297.309\" r=\"14.4\" fill=\"#e26f46\" fill-rule=\"evenodd\" fill-opacity=\"1\" stroke=\"#000000\" stroke-opacity=\"1\" stroke-width=\"3.2\"/>\n",
       "<circle clip-path=\"url(#clip612)\" cx=\"585.096\" cy=\"509.485\" r=\"14.4\" fill=\"#e26f46\" fill-rule=\"evenodd\" fill-opacity=\"1\" stroke=\"#000000\" stroke-opacity=\"1\" stroke-width=\"3.2\"/>\n",
       "<circle clip-path=\"url(#clip612)\" cx=\"1373.33\" cy=\"296.998\" r=\"14.4\" fill=\"#e26f46\" fill-rule=\"evenodd\" fill-opacity=\"1\" stroke=\"#000000\" stroke-opacity=\"1\" stroke-width=\"3.2\"/>\n",
       "<circle clip-path=\"url(#clip612)\" cx=\"593.113\" cy=\"87.9763\" r=\"14.4\" fill=\"#e26f46\" fill-rule=\"evenodd\" fill-opacity=\"1\" stroke=\"#000000\" stroke-opacity=\"1\" stroke-width=\"3.2\"/>\n",
       "<circle clip-path=\"url(#clip612)\" cx=\"624.618\" cy=\"549.841\" r=\"14.4\" fill=\"#e26f46\" fill-rule=\"evenodd\" fill-opacity=\"1\" stroke=\"#000000\" stroke-opacity=\"1\" stroke-width=\"3.2\"/>\n",
       "<circle clip-path=\"url(#clip612)\" cx=\"530.001\" cy=\"666.526\" r=\"14.4\" fill=\"#e26f46\" fill-rule=\"evenodd\" fill-opacity=\"1\" stroke=\"#000000\" stroke-opacity=\"1\" stroke-width=\"3.2\"/>\n",
       "<circle clip-path=\"url(#clip612)\" cx=\"703.565\" cy=\"567.805\" r=\"14.4\" fill=\"#e26f46\" fill-rule=\"evenodd\" fill-opacity=\"1\" stroke=\"#000000\" stroke-opacity=\"1\" stroke-width=\"3.2\"/>\n",
       "<circle clip-path=\"url(#clip612)\" cx=\"1343.98\" cy=\"557.175\" r=\"14.4\" fill=\"#e26f46\" fill-rule=\"evenodd\" fill-opacity=\"1\" stroke=\"#000000\" stroke-opacity=\"1\" stroke-width=\"3.2\"/>\n",
       "<circle clip-path=\"url(#clip612)\" cx=\"979.525\" cy=\"383.731\" r=\"14.4\" fill=\"#e26f46\" fill-rule=\"evenodd\" fill-opacity=\"1\" stroke=\"#000000\" stroke-opacity=\"1\" stroke-width=\"3.2\"/>\n",
       "<circle clip-path=\"url(#clip612)\" cx=\"959.7\" cy=\"562.734\" r=\"14.4\" fill=\"#e26f46\" fill-rule=\"evenodd\" fill-opacity=\"1\" stroke=\"#000000\" stroke-opacity=\"1\" stroke-width=\"3.2\"/>\n",
       "<path clip-path=\"url(#clip610)\" d=\"M1934.83 250.738 L2279.23 250.738 L2279.23 95.2176 L1934.83 95.2176  Z\" fill=\"#ffffff\" fill-rule=\"evenodd\" fill-opacity=\"1\"/>\n",
       "<polyline clip-path=\"url(#clip610)\" style=\"stroke:#000000; stroke-linecap:round; stroke-linejoin:round; stroke-width:4; stroke-opacity:1; fill:none\" points=\"1934.83,250.738 2279.23,250.738 2279.23,95.2176 1934.83,95.2176 1934.83,250.738 \"/>\n",
       "<circle clip-path=\"url(#clip610)\" cx=\"2032.86\" cy=\"147.058\" r=\"20.48\" fill=\"#009af9\" fill-rule=\"evenodd\" fill-opacity=\"1\" stroke=\"#000000\" stroke-opacity=\"1\" stroke-width=\"4.55111\"/>\n",
       "<path clip-path=\"url(#clip610)\" d=\"M2149.66 151.398 Q2149.66 146.699 2147.71 144.037 Q2145.79 141.352 2142.41 141.352 Q2139.03 141.352 2137.09 144.037 Q2135.17 146.699 2135.17 151.398 Q2135.17 156.097 2137.09 158.782 Q2139.03 161.444 2142.41 161.444 Q2145.79 161.444 2147.71 158.782 Q2149.66 156.097 2149.66 151.398 M2135.17 142.347 Q2136.51 140.032 2138.55 138.921 Q2140.61 137.787 2143.45 137.787 Q2148.18 137.787 2151.12 141.537 Q2154.08 145.287 2154.08 151.398 Q2154.08 157.509 2151.12 161.259 Q2148.18 165.009 2143.45 165.009 Q2140.61 165.009 2138.55 163.898 Q2136.51 162.763 2135.17 160.449 L2135.17 164.338 L2130.89 164.338 L2130.89 128.319 L2135.17 128.319 L2135.17 142.347 Z\" fill=\"#000000\" fill-rule=\"nonzero\" fill-opacity=\"1\" /><path clip-path=\"url(#clip610)\" d=\"M2161.14 128.319 L2165.4 128.319 L2165.4 164.338 L2161.14 164.338 L2161.14 128.319 Z\" fill=\"#000000\" fill-rule=\"nonzero\" fill-opacity=\"1\" /><path clip-path=\"url(#clip610)\" d=\"M2184.36 141.398 Q2180.93 141.398 2178.94 144.083 Q2176.95 146.745 2176.95 151.398 Q2176.95 156.051 2178.92 158.736 Q2180.91 161.398 2184.36 161.398 Q2187.76 161.398 2189.75 158.713 Q2191.74 156.027 2191.74 151.398 Q2191.74 146.791 2189.75 144.106 Q2187.76 141.398 2184.36 141.398 M2184.36 137.787 Q2189.91 137.787 2193.08 141.398 Q2196.26 145.009 2196.26 151.398 Q2196.26 157.764 2193.08 161.398 Q2189.91 165.009 2184.36 165.009 Q2178.78 165.009 2175.61 161.398 Q2172.46 157.764 2172.46 151.398 Q2172.46 145.009 2175.61 141.398 Q2178.78 137.787 2184.36 137.787 Z\" fill=\"#000000\" fill-rule=\"nonzero\" fill-opacity=\"1\" /><path clip-path=\"url(#clip610)\" d=\"M2221.93 151.398 Q2221.93 146.699 2219.98 144.037 Q2218.06 141.352 2214.68 141.352 Q2211.3 141.352 2209.36 144.037 Q2207.44 146.699 2207.44 151.398 Q2207.44 156.097 2209.36 158.782 Q2211.3 161.444 2214.68 161.444 Q2218.06 161.444 2219.98 158.782 Q2221.93 156.097 2221.93 151.398 M2207.44 142.347 Q2208.78 140.032 2210.82 138.921 Q2212.88 137.787 2215.72 137.787 Q2220.44 137.787 2223.38 141.537 Q2226.35 145.287 2226.35 151.398 Q2226.35 157.509 2223.38 161.259 Q2220.44 165.009 2215.72 165.009 Q2212.88 165.009 2210.82 163.898 Q2208.78 162.763 2207.44 160.449 L2207.44 164.338 L2203.15 164.338 L2203.15 128.319 L2207.44 128.319 L2207.44 142.347 Z\" fill=\"#000000\" fill-rule=\"nonzero\" fill-opacity=\"1\" /><path clip-path=\"url(#clip610)\" d=\"M2234.82 160.402 L2242.46 160.402 L2242.46 134.037 L2234.15 135.703 L2234.15 131.444 L2242.41 129.778 L2247.09 129.778 L2247.09 160.402 L2254.73 160.402 L2254.73 164.338 L2234.82 164.338 L2234.82 160.402 Z\" fill=\"#000000\" fill-rule=\"nonzero\" fill-opacity=\"1\" /><circle clip-path=\"url(#clip610)\" cx=\"2032.86\" cy=\"198.898\" r=\"20.48\" fill=\"#e26f46\" fill-rule=\"evenodd\" fill-opacity=\"1\" stroke=\"#000000\" stroke-opacity=\"1\" stroke-width=\"4.55111\"/>\n",
       "<path clip-path=\"url(#clip610)\" d=\"M2149.66 203.238 Q2149.66 198.539 2147.71 195.877 Q2145.79 193.192 2142.41 193.192 Q2139.03 193.192 2137.09 195.877 Q2135.17 198.539 2135.17 203.238 Q2135.17 207.937 2137.09 210.622 Q2139.03 213.284 2142.41 213.284 Q2145.79 213.284 2147.71 210.622 Q2149.66 207.937 2149.66 203.238 M2135.17 194.187 Q2136.51 191.872 2138.55 190.761 Q2140.61 189.627 2143.45 189.627 Q2148.18 189.627 2151.12 193.377 Q2154.08 197.127 2154.08 203.238 Q2154.08 209.349 2151.12 213.099 Q2148.18 216.849 2143.45 216.849 Q2140.61 216.849 2138.55 215.738 Q2136.51 214.603 2135.17 212.289 L2135.17 216.178 L2130.89 216.178 L2130.89 180.159 L2135.17 180.159 L2135.17 194.187 Z\" fill=\"#000000\" fill-rule=\"nonzero\" fill-opacity=\"1\" /><path clip-path=\"url(#clip610)\" d=\"M2161.14 180.159 L2165.4 180.159 L2165.4 216.178 L2161.14 216.178 L2161.14 180.159 Z\" fill=\"#000000\" fill-rule=\"nonzero\" fill-opacity=\"1\" /><path clip-path=\"url(#clip610)\" d=\"M2184.36 193.238 Q2180.93 193.238 2178.94 195.923 Q2176.95 198.585 2176.95 203.238 Q2176.95 207.891 2178.92 210.576 Q2180.91 213.238 2184.36 213.238 Q2187.76 213.238 2189.75 210.553 Q2191.74 207.867 2191.74 203.238 Q2191.74 198.631 2189.75 195.946 Q2187.76 193.238 2184.36 193.238 M2184.36 189.627 Q2189.91 189.627 2193.08 193.238 Q2196.26 196.849 2196.26 203.238 Q2196.26 209.604 2193.08 213.238 Q2189.91 216.849 2184.36 216.849 Q2178.78 216.849 2175.61 213.238 Q2172.46 209.604 2172.46 203.238 Q2172.46 196.849 2175.61 193.238 Q2178.78 189.627 2184.36 189.627 Z\" fill=\"#000000\" fill-rule=\"nonzero\" fill-opacity=\"1\" /><path clip-path=\"url(#clip610)\" d=\"M2221.93 203.238 Q2221.93 198.539 2219.98 195.877 Q2218.06 193.192 2214.68 193.192 Q2211.3 193.192 2209.36 195.877 Q2207.44 198.539 2207.44 203.238 Q2207.44 207.937 2209.36 210.622 Q2211.3 213.284 2214.68 213.284 Q2218.06 213.284 2219.98 210.622 Q2221.93 207.937 2221.93 203.238 M2207.44 194.187 Q2208.78 191.872 2210.82 190.761 Q2212.88 189.627 2215.72 189.627 Q2220.44 189.627 2223.38 193.377 Q2226.35 197.127 2226.35 203.238 Q2226.35 209.349 2223.38 213.099 Q2220.44 216.849 2215.72 216.849 Q2212.88 216.849 2210.82 215.738 Q2208.78 214.603 2207.44 212.289 L2207.44 216.178 L2203.15 216.178 L2203.15 180.159 L2207.44 180.159 L2207.44 194.187 Z\" fill=\"#000000\" fill-rule=\"nonzero\" fill-opacity=\"1\" /><path clip-path=\"url(#clip610)\" d=\"M2238.04 212.242 L2254.36 212.242 L2254.36 216.178 L2232.41 216.178 L2232.41 212.242 Q2235.07 209.488 2239.66 204.858 Q2244.26 200.205 2245.44 198.863 Q2247.69 196.34 2248.57 194.604 Q2249.47 192.844 2249.47 191.155 Q2249.47 188.4 2247.53 186.664 Q2245.61 184.928 2242.5 184.928 Q2240.31 184.928 2237.85 185.692 Q2235.42 186.455 2232.64 188.006 L2232.64 183.284 Q2235.47 182.15 2237.92 181.571 Q2240.38 180.993 2242.41 180.993 Q2247.78 180.993 2250.98 183.678 Q2254.17 186.363 2254.17 190.854 Q2254.17 192.983 2253.36 194.905 Q2252.57 196.803 2250.47 199.395 Q2249.89 200.067 2246.79 203.284 Q2243.69 206.479 2238.04 212.242 Z\" fill=\"#000000\" fill-rule=\"nonzero\" fill-opacity=\"1\" /></svg>\n"
      ]
     },
     "execution_count": 34,
     "metadata": {},
     "output_type": "execute_result"
    }
   ],
   "source": [
    "blob1 = randn(2, 20)\n",
    "blob2 = randn(2, 20) .+ [-3, 4]\n",
    "scatter(blob1[1, :], blob1[2, :], label=\"blob1\")\n",
    "scatter!(blob2[1, :], blob2[2, :], label=\"blob2\")"
   ]
  },
  {
   "cell_type": "markdown",
   "metadata": {},
   "source": [
    "**Task 4:** Add another blob that's centred at [2,4] and show the scatter plot of all three blobs."
   ]
  },
  {
   "cell_type": "code",
   "execution_count": 35,
   "metadata": {},
   "outputs": [
    {
     "data": {
      "image/svg+xml": [
       "<?xml version=\"1.0\" encoding=\"utf-8\"?>\n",
       "<svg xmlns=\"http://www.w3.org/2000/svg\" xmlns:xlink=\"http://www.w3.org/1999/xlink\" width=\"600\" height=\"400\" viewBox=\"0 0 2400 1600\">\n",
       "<defs>\n",
       "  <clipPath id=\"clip650\">\n",
       "    <rect x=\"0\" y=\"0\" width=\"2400\" height=\"1600\"/>\n",
       "  </clipPath>\n",
       "</defs>\n",
       "<path clip-path=\"url(#clip650)\" d=\"M0 1600 L2400 1600 L2400 0 L0 0  Z\" fill=\"#ffffff\" fill-rule=\"evenodd\" fill-opacity=\"1\"/>\n",
       "<defs>\n",
       "  <clipPath id=\"clip651\">\n",
       "    <rect x=\"480\" y=\"0\" width=\"1681\" height=\"1600\"/>\n",
       "  </clipPath>\n",
       "</defs>\n",
       "<path clip-path=\"url(#clip650)\" d=\"M147.478 1486.45 L2352.76 1486.45 L2352.76 47.2441 L147.478 47.2441  Z\" fill=\"#ffffff\" fill-rule=\"evenodd\" fill-opacity=\"1\"/>\n",
       "<defs>\n",
       "  <clipPath id=\"clip652\">\n",
       "    <rect x=\"147\" y=\"47\" width=\"2206\" height=\"1440\"/>\n",
       "  </clipPath>\n",
       "</defs>\n",
       "<polyline clip-path=\"url(#clip652)\" style=\"stroke:#000000; stroke-linecap:round; stroke-linejoin:round; stroke-width:2; stroke-opacity:0.1; fill:none\" points=\"580.677,1486.45 580.677,47.2441 \"/>\n",
       "<polyline clip-path=\"url(#clip652)\" style=\"stroke:#000000; stroke-linecap:round; stroke-linejoin:round; stroke-width:2; stroke-opacity:0.1; fill:none\" points=\"1040.22,1486.45 1040.22,47.2441 \"/>\n",
       "<polyline clip-path=\"url(#clip652)\" style=\"stroke:#000000; stroke-linecap:round; stroke-linejoin:round; stroke-width:2; stroke-opacity:0.1; fill:none\" points=\"1499.77,1486.45 1499.77,47.2441 \"/>\n",
       "<polyline clip-path=\"url(#clip652)\" style=\"stroke:#000000; stroke-linecap:round; stroke-linejoin:round; stroke-width:2; stroke-opacity:0.1; fill:none\" points=\"1959.31,1486.45 1959.31,47.2441 \"/>\n",
       "<polyline clip-path=\"url(#clip650)\" style=\"stroke:#000000; stroke-linecap:round; stroke-linejoin:round; stroke-width:4; stroke-opacity:1; fill:none\" points=\"147.478,1486.45 2352.76,1486.45 \"/>\n",
       "<polyline clip-path=\"url(#clip650)\" style=\"stroke:#000000; stroke-linecap:round; stroke-linejoin:round; stroke-width:4; stroke-opacity:1; fill:none\" points=\"580.677,1486.45 580.677,1467.55 \"/>\n",
       "<polyline clip-path=\"url(#clip650)\" style=\"stroke:#000000; stroke-linecap:round; stroke-linejoin:round; stroke-width:4; stroke-opacity:1; fill:none\" points=\"1040.22,1486.45 1040.22,1467.55 \"/>\n",
       "<polyline clip-path=\"url(#clip650)\" style=\"stroke:#000000; stroke-linecap:round; stroke-linejoin:round; stroke-width:4; stroke-opacity:1; fill:none\" points=\"1499.77,1486.45 1499.77,1467.55 \"/>\n",
       "<polyline clip-path=\"url(#clip650)\" style=\"stroke:#000000; stroke-linecap:round; stroke-linejoin:round; stroke-width:4; stroke-opacity:1; fill:none\" points=\"1959.31,1486.45 1959.31,1467.55 \"/>\n",
       "<path clip-path=\"url(#clip650)\" d=\"M549.577 1532.02 L579.253 1532.02 L579.253 1535.95 L549.577 1535.95 L549.577 1532.02 Z\" fill=\"#000000\" fill-rule=\"nonzero\" fill-opacity=\"1\" /><path clip-path=\"url(#clip650)\" d=\"M602.193 1518.36 L590.387 1536.81 L602.193 1536.81 L602.193 1518.36 M600.966 1514.29 L606.845 1514.29 L606.845 1536.81 L611.776 1536.81 L611.776 1540.7 L606.845 1540.7 L606.845 1548.85 L602.193 1548.85 L602.193 1540.7 L586.591 1540.7 L586.591 1536.19 L600.966 1514.29 Z\" fill=\"#000000\" fill-rule=\"nonzero\" fill-opacity=\"1\" /><path clip-path=\"url(#clip650)\" d=\"M1010.16 1532.02 L1039.84 1532.02 L1039.84 1535.95 L1010.16 1535.95 L1010.16 1532.02 Z\" fill=\"#000000\" fill-rule=\"nonzero\" fill-opacity=\"1\" /><path clip-path=\"url(#clip650)\" d=\"M1053.96 1544.91 L1070.28 1544.91 L1070.28 1548.85 L1048.33 1548.85 L1048.33 1544.91 Q1051 1542.16 1055.58 1537.53 Q1060.19 1532.88 1061.37 1531.53 Q1063.61 1529.01 1064.49 1527.27 Q1065.4 1525.51 1065.4 1523.82 Q1065.4 1521.07 1063.45 1519.33 Q1061.53 1517.6 1058.43 1517.6 Q1056.23 1517.6 1053.77 1518.36 Q1051.34 1519.13 1048.57 1520.68 L1048.57 1515.95 Q1051.39 1514.82 1053.84 1514.24 Q1056.3 1513.66 1058.33 1513.66 Q1063.71 1513.66 1066.9 1516.35 Q1070.09 1519.03 1070.09 1523.52 Q1070.09 1525.65 1069.28 1527.57 Q1068.5 1529.47 1066.39 1532.07 Q1065.81 1532.74 1062.71 1535.95 Q1059.61 1539.15 1053.96 1544.91 Z\" fill=\"#000000\" fill-rule=\"nonzero\" fill-opacity=\"1\" /><path clip-path=\"url(#clip650)\" d=\"M1499.77 1517.37 Q1496.16 1517.37 1494.33 1520.93 Q1492.52 1524.47 1492.52 1531.6 Q1492.52 1538.71 1494.33 1542.27 Q1496.16 1545.82 1499.77 1545.82 Q1503.4 1545.82 1505.21 1542.27 Q1507.04 1538.71 1507.04 1531.6 Q1507.04 1524.47 1505.21 1520.93 Q1503.4 1517.37 1499.77 1517.37 M1499.77 1513.66 Q1505.58 1513.66 1508.63 1518.27 Q1511.71 1522.85 1511.71 1531.6 Q1511.71 1540.33 1508.63 1544.94 Q1505.58 1549.52 1499.77 1549.52 Q1493.96 1549.52 1490.88 1544.94 Q1487.82 1540.33 1487.82 1531.6 Q1487.82 1522.85 1490.88 1518.27 Q1493.96 1513.66 1499.77 1513.66 Z\" fill=\"#000000\" fill-rule=\"nonzero\" fill-opacity=\"1\" /><path clip-path=\"url(#clip650)\" d=\"M1953.96 1544.91 L1970.28 1544.91 L1970.28 1548.85 L1948.34 1548.85 L1948.34 1544.91 Q1951 1542.16 1955.58 1537.53 Q1960.19 1532.88 1961.37 1531.53 Q1963.62 1529.01 1964.5 1527.27 Q1965.4 1525.51 1965.4 1523.82 Q1965.4 1521.07 1963.46 1519.33 Q1961.53 1517.6 1958.43 1517.6 Q1956.23 1517.6 1953.78 1518.36 Q1951.35 1519.13 1948.57 1520.68 L1948.57 1515.95 Q1951.39 1514.82 1953.85 1514.24 Q1956.3 1513.66 1958.34 1513.66 Q1963.71 1513.66 1966.9 1516.35 Q1970.1 1519.03 1970.1 1523.52 Q1970.1 1525.65 1969.29 1527.57 Q1968.5 1529.47 1966.39 1532.07 Q1965.82 1532.74 1962.71 1535.95 Q1959.61 1539.15 1953.96 1544.91 Z\" fill=\"#000000\" fill-rule=\"nonzero\" fill-opacity=\"1\" /><polyline clip-path=\"url(#clip652)\" style=\"stroke:#000000; stroke-linecap:round; stroke-linejoin:round; stroke-width:2; stroke-opacity:0.1; fill:none\" points=\"147.478,1373.74 2352.76,1373.74 \"/>\n",
       "<polyline clip-path=\"url(#clip652)\" style=\"stroke:#000000; stroke-linecap:round; stroke-linejoin:round; stroke-width:2; stroke-opacity:0.1; fill:none\" points=\"147.478,1168.06 2352.76,1168.06 \"/>\n",
       "<polyline clip-path=\"url(#clip652)\" style=\"stroke:#000000; stroke-linecap:round; stroke-linejoin:round; stroke-width:2; stroke-opacity:0.1; fill:none\" points=\"147.478,962.374 2352.76,962.374 \"/>\n",
       "<polyline clip-path=\"url(#clip652)\" style=\"stroke:#000000; stroke-linecap:round; stroke-linejoin:round; stroke-width:2; stroke-opacity:0.1; fill:none\" points=\"147.478,756.691 2352.76,756.691 \"/>\n",
       "<polyline clip-path=\"url(#clip652)\" style=\"stroke:#000000; stroke-linecap:round; stroke-linejoin:round; stroke-width:2; stroke-opacity:0.1; fill:none\" points=\"147.478,551.008 2352.76,551.008 \"/>\n",
       "<polyline clip-path=\"url(#clip652)\" style=\"stroke:#000000; stroke-linecap:round; stroke-linejoin:round; stroke-width:2; stroke-opacity:0.1; fill:none\" points=\"147.478,345.326 2352.76,345.326 \"/>\n",
       "<polyline clip-path=\"url(#clip652)\" style=\"stroke:#000000; stroke-linecap:round; stroke-linejoin:round; stroke-width:2; stroke-opacity:0.1; fill:none\" points=\"147.478,139.643 2352.76,139.643 \"/>\n",
       "<polyline clip-path=\"url(#clip650)\" style=\"stroke:#000000; stroke-linecap:round; stroke-linejoin:round; stroke-width:4; stroke-opacity:1; fill:none\" points=\"147.478,1486.45 147.478,47.2441 \"/>\n",
       "<polyline clip-path=\"url(#clip650)\" style=\"stroke:#000000; stroke-linecap:round; stroke-linejoin:round; stroke-width:4; stroke-opacity:1; fill:none\" points=\"147.478,1373.74 166.376,1373.74 \"/>\n",
       "<polyline clip-path=\"url(#clip650)\" style=\"stroke:#000000; stroke-linecap:round; stroke-linejoin:round; stroke-width:4; stroke-opacity:1; fill:none\" points=\"147.478,1168.06 166.376,1168.06 \"/>\n",
       "<polyline clip-path=\"url(#clip650)\" style=\"stroke:#000000; stroke-linecap:round; stroke-linejoin:round; stroke-width:4; stroke-opacity:1; fill:none\" points=\"147.478,962.374 166.376,962.374 \"/>\n",
       "<polyline clip-path=\"url(#clip650)\" style=\"stroke:#000000; stroke-linecap:round; stroke-linejoin:round; stroke-width:4; stroke-opacity:1; fill:none\" points=\"147.478,756.691 166.376,756.691 \"/>\n",
       "<polyline clip-path=\"url(#clip650)\" style=\"stroke:#000000; stroke-linecap:round; stroke-linejoin:round; stroke-width:4; stroke-opacity:1; fill:none\" points=\"147.478,551.008 166.376,551.008 \"/>\n",
       "<polyline clip-path=\"url(#clip650)\" style=\"stroke:#000000; stroke-linecap:round; stroke-linejoin:round; stroke-width:4; stroke-opacity:1; fill:none\" points=\"147.478,345.326 166.376,345.326 \"/>\n",
       "<polyline clip-path=\"url(#clip650)\" style=\"stroke:#000000; stroke-linecap:round; stroke-linejoin:round; stroke-width:4; stroke-opacity:1; fill:none\" points=\"147.478,139.643 166.376,139.643 \"/>\n",
       "<path clip-path=\"url(#clip650)\" d=\"M50.9921 1374.19 L80.6679 1374.19 L80.6679 1378.13 L50.9921 1378.13 L50.9921 1374.19 Z\" fill=\"#000000\" fill-rule=\"nonzero\" fill-opacity=\"1\" /><path clip-path=\"url(#clip650)\" d=\"M91.5706 1387.08 L99.2095 1387.08 L99.2095 1360.72 L90.8993 1362.39 L90.8993 1358.13 L99.1632 1356.46 L103.839 1356.46 L103.839 1387.08 L111.478 1387.08 L111.478 1391.02 L91.5706 1391.02 L91.5706 1387.08 Z\" fill=\"#000000\" fill-rule=\"nonzero\" fill-opacity=\"1\" /><path clip-path=\"url(#clip650)\" d=\"M99.5335 1153.86 Q95.9224 1153.86 94.0937 1157.42 Q92.2882 1160.96 92.2882 1168.09 Q92.2882 1175.2 94.0937 1178.76 Q95.9224 1182.3 99.5335 1182.3 Q103.168 1182.3 104.973 1178.76 Q106.802 1175.2 106.802 1168.09 Q106.802 1160.96 104.973 1157.42 Q103.168 1153.86 99.5335 1153.86 M99.5335 1150.15 Q105.344 1150.15 108.399 1154.76 Q111.478 1159.34 111.478 1168.09 Q111.478 1176.82 108.399 1181.42 Q105.344 1186.01 99.5335 1186.01 Q93.7234 1186.01 90.6447 1181.42 Q87.5892 1176.82 87.5892 1168.09 Q87.5892 1159.34 90.6447 1154.76 Q93.7234 1150.15 99.5335 1150.15 Z\" fill=\"#000000\" fill-rule=\"nonzero\" fill-opacity=\"1\" /><path clip-path=\"url(#clip650)\" d=\"M91.5706 975.719 L99.2095 975.719 L99.2095 949.353 L90.8993 951.02 L90.8993 946.761 L99.1632 945.094 L103.839 945.094 L103.839 975.719 L111.478 975.719 L111.478 979.654 L91.5706 979.654 L91.5706 975.719 Z\" fill=\"#000000\" fill-rule=\"nonzero\" fill-opacity=\"1\" /><path clip-path=\"url(#clip650)\" d=\"M95.1586 770.036 L111.478 770.036 L111.478 773.971 L89.5336 773.971 L89.5336 770.036 Q92.1956 767.281 96.7789 762.652 Q101.385 757.999 102.566 756.656 Q104.811 754.133 105.691 752.397 Q106.594 750.638 106.594 748.948 Q106.594 746.193 104.649 744.457 Q102.728 742.721 99.6261 742.721 Q97.4271 742.721 94.9734 743.485 Q92.5428 744.249 89.7651 745.8 L89.7651 741.078 Q92.5891 739.944 95.0428 739.365 Q97.4965 738.786 99.5335 738.786 Q104.904 738.786 108.098 741.471 Q111.293 744.156 111.293 748.647 Q111.293 750.777 110.483 752.698 Q109.696 754.596 107.589 757.189 Q107.01 757.86 103.909 761.078 Q100.807 764.272 95.1586 770.036 Z\" fill=\"#000000\" fill-rule=\"nonzero\" fill-opacity=\"1\" /><path clip-path=\"url(#clip650)\" d=\"M104.348 549.654 Q107.705 550.372 109.58 552.64 Q111.478 554.909 111.478 558.242 Q111.478 563.358 107.959 566.159 Q104.441 568.96 97.9595 568.96 Q95.7836 568.96 93.4688 568.52 Q91.1771 568.103 88.7234 567.247 L88.7234 562.733 Q90.6678 563.867 92.9826 564.446 Q95.2974 565.025 97.8206 565.025 Q102.219 565.025 104.51 563.288 Q106.825 561.552 106.825 558.242 Q106.825 555.187 104.672 553.474 Q102.543 551.738 98.7234 551.738 L94.6956 551.738 L94.6956 547.895 L98.9085 547.895 Q102.358 547.895 104.186 546.529 Q106.015 545.14 106.015 542.548 Q106.015 539.886 104.117 538.474 Q102.242 537.039 98.7234 537.039 Q96.8021 537.039 94.603 537.455 Q92.4039 537.872 89.7651 538.752 L89.7651 534.585 Q92.4271 533.844 94.7419 533.474 Q97.0798 533.103 99.14 533.103 Q104.464 533.103 107.566 535.534 Q110.668 537.941 110.668 542.062 Q110.668 544.932 109.024 546.923 Q107.381 548.89 104.348 549.654 Z\" fill=\"#000000\" fill-rule=\"nonzero\" fill-opacity=\"1\" /><path clip-path=\"url(#clip650)\" d=\"M101.895 332.12 L90.0891 350.569 L101.895 350.569 L101.895 332.12 M100.668 328.046 L106.547 328.046 L106.547 350.569 L111.478 350.569 L111.478 354.458 L106.547 354.458 L106.547 362.606 L101.895 362.606 L101.895 354.458 L86.2929 354.458 L86.2929 349.944 L100.668 328.046 Z\" fill=\"#000000\" fill-rule=\"nonzero\" fill-opacity=\"1\" /><path clip-path=\"url(#clip650)\" d=\"M90.5752 122.363 L108.932 122.363 L108.932 126.298 L94.8576 126.298 L94.8576 134.77 Q95.8761 134.423 96.8947 134.261 Q97.9132 134.076 98.9317 134.076 Q104.719 134.076 108.098 137.247 Q111.478 140.418 111.478 145.835 Q111.478 151.414 108.006 154.515 Q104.534 157.594 98.2141 157.594 Q96.0382 157.594 93.7697 157.224 Q91.5243 156.853 89.1169 156.113 L89.1169 151.414 Q91.2002 152.548 93.4225 153.103 Q95.6447 153.659 98.1215 153.659 Q102.126 153.659 104.464 151.553 Q106.802 149.446 106.802 145.835 Q106.802 142.224 104.464 140.117 Q102.126 138.011 98.1215 138.011 Q96.2465 138.011 94.3715 138.428 Q92.5197 138.844 90.5752 139.724 L90.5752 122.363 Z\" fill=\"#000000\" fill-rule=\"nonzero\" fill-opacity=\"1\" /><circle clip-path=\"url(#clip652)\" cx=\"1540.7\" cy=\"1225.53\" r=\"14.4\" fill=\"#009af9\" fill-rule=\"evenodd\" fill-opacity=\"1\" stroke=\"#000000\" stroke-opacity=\"1\" stroke-width=\"3.2\"/>\n",
       "<circle clip-path=\"url(#clip652)\" cx=\"2087.11\" cy=\"1019.66\" r=\"14.4\" fill=\"#009af9\" fill-rule=\"evenodd\" fill-opacity=\"1\" stroke=\"#000000\" stroke-opacity=\"1\" stroke-width=\"3.2\"/>\n",
       "<circle clip-path=\"url(#clip652)\" cx=\"1157.53\" cy=\"1309.91\" r=\"14.4\" fill=\"#009af9\" fill-rule=\"evenodd\" fill-opacity=\"1\" stroke=\"#000000\" stroke-opacity=\"1\" stroke-width=\"3.2\"/>\n",
       "<circle clip-path=\"url(#clip652)\" cx=\"1458.34\" cy=\"898.152\" r=\"14.4\" fill=\"#009af9\" fill-rule=\"evenodd\" fill-opacity=\"1\" stroke=\"#000000\" stroke-opacity=\"1\" stroke-width=\"3.2\"/>\n",
       "<circle clip-path=\"url(#clip652)\" cx=\"1707.84\" cy=\"1344.98\" r=\"14.4\" fill=\"#009af9\" fill-rule=\"evenodd\" fill-opacity=\"1\" stroke=\"#000000\" stroke-opacity=\"1\" stroke-width=\"3.2\"/>\n",
       "<circle clip-path=\"url(#clip652)\" cx=\"1304.62\" cy=\"905.276\" r=\"14.4\" fill=\"#009af9\" fill-rule=\"evenodd\" fill-opacity=\"1\" stroke=\"#000000\" stroke-opacity=\"1\" stroke-width=\"3.2\"/>\n",
       "<circle clip-path=\"url(#clip652)\" cx=\"1676.17\" cy=\"461.369\" r=\"14.4\" fill=\"#009af9\" fill-rule=\"evenodd\" fill-opacity=\"1\" stroke=\"#000000\" stroke-opacity=\"1\" stroke-width=\"3.2\"/>\n",
       "<circle clip-path=\"url(#clip652)\" cx=\"1666.78\" cy=\"1406.56\" r=\"14.4\" fill=\"#009af9\" fill-rule=\"evenodd\" fill-opacity=\"1\" stroke=\"#000000\" stroke-opacity=\"1\" stroke-width=\"3.2\"/>\n",
       "<circle clip-path=\"url(#clip652)\" cx=\"1607.93\" cy=\"1129.63\" r=\"14.4\" fill=\"#009af9\" fill-rule=\"evenodd\" fill-opacity=\"1\" stroke=\"#000000\" stroke-opacity=\"1\" stroke-width=\"3.2\"/>\n",
       "<circle clip-path=\"url(#clip652)\" cx=\"1941.39\" cy=\"1047.25\" r=\"14.4\" fill=\"#009af9\" fill-rule=\"evenodd\" fill-opacity=\"1\" stroke=\"#000000\" stroke-opacity=\"1\" stroke-width=\"3.2\"/>\n",
       "<circle clip-path=\"url(#clip652)\" cx=\"1329.81\" cy=\"1026.38\" r=\"14.4\" fill=\"#009af9\" fill-rule=\"evenodd\" fill-opacity=\"1\" stroke=\"#000000\" stroke-opacity=\"1\" stroke-width=\"3.2\"/>\n",
       "<circle clip-path=\"url(#clip652)\" cx=\"1712.42\" cy=\"1027.26\" r=\"14.4\" fill=\"#009af9\" fill-rule=\"evenodd\" fill-opacity=\"1\" stroke=\"#000000\" stroke-opacity=\"1\" stroke-width=\"3.2\"/>\n",
       "<circle clip-path=\"url(#clip652)\" cx=\"1665.42\" cy=\"1313.92\" r=\"14.4\" fill=\"#009af9\" fill-rule=\"evenodd\" fill-opacity=\"1\" stroke=\"#000000\" stroke-opacity=\"1\" stroke-width=\"3.2\"/>\n",
       "<circle clip-path=\"url(#clip652)\" cx=\"1497.29\" cy=\"1368.84\" r=\"14.4\" fill=\"#009af9\" fill-rule=\"evenodd\" fill-opacity=\"1\" stroke=\"#000000\" stroke-opacity=\"1\" stroke-width=\"3.2\"/>\n",
       "<circle clip-path=\"url(#clip652)\" cx=\"1173.96\" cy=\"1445.72\" r=\"14.4\" fill=\"#009af9\" fill-rule=\"evenodd\" fill-opacity=\"1\" stroke=\"#000000\" stroke-opacity=\"1\" stroke-width=\"3.2\"/>\n",
       "<circle clip-path=\"url(#clip652)\" cx=\"1528.84\" cy=\"1142.26\" r=\"14.4\" fill=\"#009af9\" fill-rule=\"evenodd\" fill-opacity=\"1\" stroke=\"#000000\" stroke-opacity=\"1\" stroke-width=\"3.2\"/>\n",
       "<circle clip-path=\"url(#clip652)\" cx=\"1283.99\" cy=\"1161.3\" r=\"14.4\" fill=\"#009af9\" fill-rule=\"evenodd\" fill-opacity=\"1\" stroke=\"#000000\" stroke-opacity=\"1\" stroke-width=\"3.2\"/>\n",
       "<circle clip-path=\"url(#clip652)\" cx=\"1242.81\" cy=\"1154.38\" r=\"14.4\" fill=\"#009af9\" fill-rule=\"evenodd\" fill-opacity=\"1\" stroke=\"#000000\" stroke-opacity=\"1\" stroke-width=\"3.2\"/>\n",
       "<circle clip-path=\"url(#clip652)\" cx=\"1698.32\" cy=\"1226.87\" r=\"14.4\" fill=\"#009af9\" fill-rule=\"evenodd\" fill-opacity=\"1\" stroke=\"#000000\" stroke-opacity=\"1\" stroke-width=\"3.2\"/>\n",
       "<circle clip-path=\"url(#clip652)\" cx=\"1568.02\" cy=\"1351.83\" r=\"14.4\" fill=\"#009af9\" fill-rule=\"evenodd\" fill-opacity=\"1\" stroke=\"#000000\" stroke-opacity=\"1\" stroke-width=\"3.2\"/>\n",
       "<circle clip-path=\"url(#clip652)\" cx=\"844.34\" cy=\"112.857\" r=\"14.4\" fill=\"#e26f46\" fill-rule=\"evenodd\" fill-opacity=\"1\" stroke=\"#000000\" stroke-opacity=\"1\" stroke-width=\"3.2\"/>\n",
       "<circle clip-path=\"url(#clip652)\" cx=\"209.891\" cy=\"214.704\" r=\"14.4\" fill=\"#e26f46\" fill-rule=\"evenodd\" fill-opacity=\"1\" stroke=\"#000000\" stroke-opacity=\"1\" stroke-width=\"3.2\"/>\n",
       "<circle clip-path=\"url(#clip652)\" cx=\"914.511\" cy=\"237.644\" r=\"14.4\" fill=\"#e26f46\" fill-rule=\"evenodd\" fill-opacity=\"1\" stroke=\"#000000\" stroke-opacity=\"1\" stroke-width=\"3.2\"/>\n",
       "<circle clip-path=\"url(#clip652)\" cx=\"1253.2\" cy=\"441.909\" r=\"14.4\" fill=\"#e26f46\" fill-rule=\"evenodd\" fill-opacity=\"1\" stroke=\"#000000\" stroke-opacity=\"1\" stroke-width=\"3.2\"/>\n",
       "<circle clip-path=\"url(#clip652)\" cx=\"845.14\" cy=\"87.9763\" r=\"14.4\" fill=\"#e26f46\" fill-rule=\"evenodd\" fill-opacity=\"1\" stroke=\"#000000\" stroke-opacity=\"1\" stroke-width=\"3.2\"/>\n",
       "<circle clip-path=\"url(#clip652)\" cx=\"829.216\" cy=\"142.909\" r=\"14.4\" fill=\"#e26f46\" fill-rule=\"evenodd\" fill-opacity=\"1\" stroke=\"#000000\" stroke-opacity=\"1\" stroke-width=\"3.2\"/>\n",
       "<circle clip-path=\"url(#clip652)\" cx=\"725.366\" cy=\"253.215\" r=\"14.4\" fill=\"#e26f46\" fill-rule=\"evenodd\" fill-opacity=\"1\" stroke=\"#000000\" stroke-opacity=\"1\" stroke-width=\"3.2\"/>\n",
       "<circle clip-path=\"url(#clip652)\" cx=\"604.44\" cy=\"150.5\" r=\"14.4\" fill=\"#e26f46\" fill-rule=\"evenodd\" fill-opacity=\"1\" stroke=\"#000000\" stroke-opacity=\"1\" stroke-width=\"3.2\"/>\n",
       "<circle clip-path=\"url(#clip652)\" cx=\"864.302\" cy=\"227.048\" r=\"14.4\" fill=\"#e26f46\" fill-rule=\"evenodd\" fill-opacity=\"1\" stroke=\"#000000\" stroke-opacity=\"1\" stroke-width=\"3.2\"/>\n",
       "<circle clip-path=\"url(#clip652)\" cx=\"518.948\" cy=\"643.933\" r=\"14.4\" fill=\"#e26f46\" fill-rule=\"evenodd\" fill-opacity=\"1\" stroke=\"#000000\" stroke-opacity=\"1\" stroke-width=\"3.2\"/>\n",
       "<circle clip-path=\"url(#clip652)\" cx=\"665.596\" cy=\"141.6\" r=\"14.4\" fill=\"#e26f46\" fill-rule=\"evenodd\" fill-opacity=\"1\" stroke=\"#000000\" stroke-opacity=\"1\" stroke-width=\"3.2\"/>\n",
       "<circle clip-path=\"url(#clip652)\" cx=\"912.445\" cy=\"262.078\" r=\"14.4\" fill=\"#e26f46\" fill-rule=\"evenodd\" fill-opacity=\"1\" stroke=\"#000000\" stroke-opacity=\"1\" stroke-width=\"3.2\"/>\n",
       "<circle clip-path=\"url(#clip652)\" cx=\"842.885\" cy=\"486.346\" r=\"14.4\" fill=\"#e26f46\" fill-rule=\"evenodd\" fill-opacity=\"1\" stroke=\"#000000\" stroke-opacity=\"1\" stroke-width=\"3.2\"/>\n",
       "<circle clip-path=\"url(#clip652)\" cx=\"1030.51\" cy=\"376.612\" r=\"14.4\" fill=\"#e26f46\" fill-rule=\"evenodd\" fill-opacity=\"1\" stroke=\"#000000\" stroke-opacity=\"1\" stroke-width=\"3.2\"/>\n",
       "<circle clip-path=\"url(#clip652)\" cx=\"476.072\" cy=\"451.935\" r=\"14.4\" fill=\"#e26f46\" fill-rule=\"evenodd\" fill-opacity=\"1\" stroke=\"#000000\" stroke-opacity=\"1\" stroke-width=\"3.2\"/>\n",
       "<circle clip-path=\"url(#clip652)\" cx=\"686.869\" cy=\"219.957\" r=\"14.4\" fill=\"#e26f46\" fill-rule=\"evenodd\" fill-opacity=\"1\" stroke=\"#000000\" stroke-opacity=\"1\" stroke-width=\"3.2\"/>\n",
       "<circle clip-path=\"url(#clip652)\" cx=\"544.318\" cy=\"495.197\" r=\"14.4\" fill=\"#e26f46\" fill-rule=\"evenodd\" fill-opacity=\"1\" stroke=\"#000000\" stroke-opacity=\"1\" stroke-width=\"3.2\"/>\n",
       "<circle clip-path=\"url(#clip652)\" cx=\"711.923\" cy=\"609.356\" r=\"14.4\" fill=\"#e26f46\" fill-rule=\"evenodd\" fill-opacity=\"1\" stroke=\"#000000\" stroke-opacity=\"1\" stroke-width=\"3.2\"/>\n",
       "<circle clip-path=\"url(#clip652)\" cx=\"984.309\" cy=\"192.254\" r=\"14.4\" fill=\"#e26f46\" fill-rule=\"evenodd\" fill-opacity=\"1\" stroke=\"#000000\" stroke-opacity=\"1\" stroke-width=\"3.2\"/>\n",
       "<circle clip-path=\"url(#clip652)\" cx=\"678.197\" cy=\"366.789\" r=\"14.4\" fill=\"#e26f46\" fill-rule=\"evenodd\" fill-opacity=\"1\" stroke=\"#000000\" stroke-opacity=\"1\" stroke-width=\"3.2\"/>\n",
       "<circle clip-path=\"url(#clip652)\" cx=\"1547.28\" cy=\"669.564\" r=\"14.4\" fill=\"#3da44d\" fill-rule=\"evenodd\" fill-opacity=\"1\" stroke=\"#000000\" stroke-opacity=\"1\" stroke-width=\"3.2\"/>\n",
       "<circle clip-path=\"url(#clip652)\" cx=\"1775.63\" cy=\"397.973\" r=\"14.4\" fill=\"#3da44d\" fill-rule=\"evenodd\" fill-opacity=\"1\" stroke=\"#000000\" stroke-opacity=\"1\" stroke-width=\"3.2\"/>\n",
       "<circle clip-path=\"url(#clip652)\" cx=\"1877.28\" cy=\"487.624\" r=\"14.4\" fill=\"#3da44d\" fill-rule=\"evenodd\" fill-opacity=\"1\" stroke=\"#000000\" stroke-opacity=\"1\" stroke-width=\"3.2\"/>\n",
       "<circle clip-path=\"url(#clip652)\" cx=\"2195.03\" cy=\"349.779\" r=\"14.4\" fill=\"#3da44d\" fill-rule=\"evenodd\" fill-opacity=\"1\" stroke=\"#000000\" stroke-opacity=\"1\" stroke-width=\"3.2\"/>\n",
       "<circle clip-path=\"url(#clip652)\" cx=\"2062.36\" cy=\"317.167\" r=\"14.4\" fill=\"#3da44d\" fill-rule=\"evenodd\" fill-opacity=\"1\" stroke=\"#000000\" stroke-opacity=\"1\" stroke-width=\"3.2\"/>\n",
       "<circle clip-path=\"url(#clip652)\" cx=\"2024.42\" cy=\"310.036\" r=\"14.4\" fill=\"#3da44d\" fill-rule=\"evenodd\" fill-opacity=\"1\" stroke=\"#000000\" stroke-opacity=\"1\" stroke-width=\"3.2\"/>\n",
       "<circle clip-path=\"url(#clip652)\" cx=\"1954.73\" cy=\"287.577\" r=\"14.4\" fill=\"#3da44d\" fill-rule=\"evenodd\" fill-opacity=\"1\" stroke=\"#000000\" stroke-opacity=\"1\" stroke-width=\"3.2\"/>\n",
       "<circle clip-path=\"url(#clip652)\" cx=\"1997\" cy=\"283.56\" r=\"14.4\" fill=\"#3da44d\" fill-rule=\"evenodd\" fill-opacity=\"1\" stroke=\"#000000\" stroke-opacity=\"1\" stroke-width=\"3.2\"/>\n",
       "<circle clip-path=\"url(#clip652)\" cx=\"2290.34\" cy=\"325.145\" r=\"14.4\" fill=\"#3da44d\" fill-rule=\"evenodd\" fill-opacity=\"1\" stroke=\"#000000\" stroke-opacity=\"1\" stroke-width=\"3.2\"/>\n",
       "<circle clip-path=\"url(#clip652)\" cx=\"2070.39\" cy=\"446.443\" r=\"14.4\" fill=\"#3da44d\" fill-rule=\"evenodd\" fill-opacity=\"1\" stroke=\"#000000\" stroke-opacity=\"1\" stroke-width=\"3.2\"/>\n",
       "<circle clip-path=\"url(#clip652)\" cx=\"1821.39\" cy=\"343.82\" r=\"14.4\" fill=\"#3da44d\" fill-rule=\"evenodd\" fill-opacity=\"1\" stroke=\"#000000\" stroke-opacity=\"1\" stroke-width=\"3.2\"/>\n",
       "<circle clip-path=\"url(#clip652)\" cx=\"1969.34\" cy=\"546.434\" r=\"14.4\" fill=\"#3da44d\" fill-rule=\"evenodd\" fill-opacity=\"1\" stroke=\"#000000\" stroke-opacity=\"1\" stroke-width=\"3.2\"/>\n",
       "<circle clip-path=\"url(#clip652)\" cx=\"1834.52\" cy=\"471.828\" r=\"14.4\" fill=\"#3da44d\" fill-rule=\"evenodd\" fill-opacity=\"1\" stroke=\"#000000\" stroke-opacity=\"1\" stroke-width=\"3.2\"/>\n",
       "<circle clip-path=\"url(#clip652)\" cx=\"2145.26\" cy=\"144.651\" r=\"14.4\" fill=\"#3da44d\" fill-rule=\"evenodd\" fill-opacity=\"1\" stroke=\"#000000\" stroke-opacity=\"1\" stroke-width=\"3.2\"/>\n",
       "<circle clip-path=\"url(#clip652)\" cx=\"1521.77\" cy=\"374.56\" r=\"14.4\" fill=\"#3da44d\" fill-rule=\"evenodd\" fill-opacity=\"1\" stroke=\"#000000\" stroke-opacity=\"1\" stroke-width=\"3.2\"/>\n",
       "<circle clip-path=\"url(#clip652)\" cx=\"2154.74\" cy=\"288.365\" r=\"14.4\" fill=\"#3da44d\" fill-rule=\"evenodd\" fill-opacity=\"1\" stroke=\"#000000\" stroke-opacity=\"1\" stroke-width=\"3.2\"/>\n",
       "<circle clip-path=\"url(#clip652)\" cx=\"1664.25\" cy=\"377.087\" r=\"14.4\" fill=\"#3da44d\" fill-rule=\"evenodd\" fill-opacity=\"1\" stroke=\"#000000\" stroke-opacity=\"1\" stroke-width=\"3.2\"/>\n",
       "<circle clip-path=\"url(#clip652)\" cx=\"1942.54\" cy=\"374.21\" r=\"14.4\" fill=\"#3da44d\" fill-rule=\"evenodd\" fill-opacity=\"1\" stroke=\"#000000\" stroke-opacity=\"1\" stroke-width=\"3.2\"/>\n",
       "<circle clip-path=\"url(#clip652)\" cx=\"2016.9\" cy=\"147.707\" r=\"14.4\" fill=\"#3da44d\" fill-rule=\"evenodd\" fill-opacity=\"1\" stroke=\"#000000\" stroke-opacity=\"1\" stroke-width=\"3.2\"/>\n",
       "<circle clip-path=\"url(#clip652)\" cx=\"1608.68\" cy=\"346.153\" r=\"14.4\" fill=\"#3da44d\" fill-rule=\"evenodd\" fill-opacity=\"1\" stroke=\"#000000\" stroke-opacity=\"1\" stroke-width=\"3.2\"/>\n",
       "<path clip-path=\"url(#clip650)\" d=\"M1934.3 1438.47 L2279.25 1438.47 L2279.25 1231.11 L1934.3 1231.11  Z\" fill=\"#ffffff\" fill-rule=\"evenodd\" fill-opacity=\"1\"/>\n",
       "<polyline clip-path=\"url(#clip650)\" style=\"stroke:#000000; stroke-linecap:round; stroke-linejoin:round; stroke-width:4; stroke-opacity:1; fill:none\" points=\"1934.3,1438.47 2279.25,1438.47 2279.25,1231.11 1934.3,1231.11 1934.3,1438.47 \"/>\n",
       "<circle clip-path=\"url(#clip650)\" cx=\"2032.31\" cy=\"1282.95\" r=\"20.48\" fill=\"#009af9\" fill-rule=\"evenodd\" fill-opacity=\"1\" stroke=\"#000000\" stroke-opacity=\"1\" stroke-width=\"4.55111\"/>\n",
       "<path clip-path=\"url(#clip650)\" d=\"M2149.1 1287.29 Q2149.1 1282.6 2147.15 1279.93 Q2145.23 1277.25 2141.85 1277.25 Q2138.47 1277.25 2136.53 1279.93 Q2134.61 1282.6 2134.61 1287.29 Q2134.61 1291.99 2136.53 1294.68 Q2138.47 1297.34 2141.85 1297.34 Q2145.23 1297.34 2147.15 1294.68 Q2149.1 1291.99 2149.1 1287.29 M2134.61 1278.24 Q2135.95 1275.93 2137.98 1274.82 Q2140.05 1273.68 2142.89 1273.68 Q2147.61 1273.68 2150.55 1277.43 Q2153.52 1281.18 2153.52 1287.29 Q2153.52 1293.41 2150.55 1297.16 Q2147.61 1300.91 2142.89 1300.91 Q2140.05 1300.91 2137.98 1299.79 Q2135.95 1298.66 2134.61 1296.35 L2134.61 1300.23 L2130.32 1300.23 L2130.32 1264.22 L2134.61 1264.22 L2134.61 1278.24 Z\" fill=\"#000000\" fill-rule=\"nonzero\" fill-opacity=\"1\" /><path clip-path=\"url(#clip650)\" d=\"M2160.58 1264.22 L2164.84 1264.22 L2164.84 1300.23 L2160.58 1300.23 L2160.58 1264.22 Z\" fill=\"#000000\" fill-rule=\"nonzero\" fill-opacity=\"1\" /><path clip-path=\"url(#clip650)\" d=\"M2183.79 1277.29 Q2180.37 1277.29 2178.38 1279.98 Q2176.39 1282.64 2176.39 1287.29 Q2176.39 1291.95 2178.36 1294.63 Q2180.35 1297.29 2183.79 1297.29 Q2187.2 1297.29 2189.19 1294.61 Q2191.18 1291.92 2191.18 1287.29 Q2191.18 1282.69 2189.19 1280 Q2187.2 1277.29 2183.79 1277.29 M2183.79 1273.68 Q2189.35 1273.68 2192.52 1277.29 Q2195.69 1280.91 2195.69 1287.29 Q2195.69 1293.66 2192.52 1297.29 Q2189.35 1300.91 2183.79 1300.91 Q2178.22 1300.91 2175.04 1297.29 Q2171.9 1293.66 2171.9 1287.29 Q2171.9 1280.91 2175.04 1277.29 Q2178.22 1273.68 2183.79 1273.68 Z\" fill=\"#000000\" fill-rule=\"nonzero\" fill-opacity=\"1\" /><path clip-path=\"url(#clip650)\" d=\"M2221.36 1287.29 Q2221.36 1282.6 2219.42 1279.93 Q2217.5 1277.25 2214.12 1277.25 Q2210.74 1277.25 2208.79 1279.93 Q2206.87 1282.6 2206.87 1287.29 Q2206.87 1291.99 2208.79 1294.68 Q2210.74 1297.34 2214.12 1297.34 Q2217.5 1297.34 2219.42 1294.68 Q2221.36 1291.99 2221.36 1287.29 M2206.87 1278.24 Q2208.22 1275.93 2210.25 1274.82 Q2212.31 1273.68 2215.16 1273.68 Q2219.88 1273.68 2222.82 1277.43 Q2225.79 1281.18 2225.79 1287.29 Q2225.79 1293.41 2222.82 1297.16 Q2219.88 1300.91 2215.16 1300.91 Q2212.31 1300.91 2210.25 1299.79 Q2208.22 1298.66 2206.87 1296.35 L2206.87 1300.23 L2202.59 1300.23 L2202.59 1264.22 L2206.87 1264.22 L2206.87 1278.24 Z\" fill=\"#000000\" fill-rule=\"nonzero\" fill-opacity=\"1\" /><path clip-path=\"url(#clip650)\" d=\"M2234.26 1296.3 L2241.9 1296.3 L2241.9 1269.93 L2233.59 1271.6 L2233.59 1267.34 L2241.85 1265.67 L2246.53 1265.67 L2246.53 1296.3 L2254.16 1296.3 L2254.16 1300.23 L2234.26 1300.23 L2234.26 1296.3 Z\" fill=\"#000000\" fill-rule=\"nonzero\" fill-opacity=\"1\" /><circle clip-path=\"url(#clip650)\" cx=\"2032.31\" cy=\"1334.79\" r=\"20.48\" fill=\"#e26f46\" fill-rule=\"evenodd\" fill-opacity=\"1\" stroke=\"#000000\" stroke-opacity=\"1\" stroke-width=\"4.55111\"/>\n",
       "<path clip-path=\"url(#clip650)\" d=\"M2149.1 1339.13 Q2149.1 1334.44 2147.15 1331.77 Q2145.23 1329.09 2141.85 1329.09 Q2138.47 1329.09 2136.53 1331.77 Q2134.61 1334.44 2134.61 1339.13 Q2134.61 1343.83 2136.53 1346.52 Q2138.47 1349.18 2141.85 1349.18 Q2145.23 1349.18 2147.15 1346.52 Q2149.1 1343.83 2149.1 1339.13 M2134.61 1330.08 Q2135.95 1327.77 2137.98 1326.66 Q2140.05 1325.52 2142.89 1325.52 Q2147.61 1325.52 2150.55 1329.27 Q2153.52 1333.02 2153.52 1339.13 Q2153.52 1345.25 2150.55 1349 Q2147.61 1352.75 2142.89 1352.75 Q2140.05 1352.75 2137.98 1351.63 Q2135.95 1350.5 2134.61 1348.19 L2134.61 1352.07 L2130.32 1352.07 L2130.32 1316.06 L2134.61 1316.06 L2134.61 1330.08 Z\" fill=\"#000000\" fill-rule=\"nonzero\" fill-opacity=\"1\" /><path clip-path=\"url(#clip650)\" d=\"M2160.58 1316.06 L2164.84 1316.06 L2164.84 1352.07 L2160.58 1352.07 L2160.58 1316.06 Z\" fill=\"#000000\" fill-rule=\"nonzero\" fill-opacity=\"1\" /><path clip-path=\"url(#clip650)\" d=\"M2183.79 1329.13 Q2180.37 1329.13 2178.38 1331.82 Q2176.39 1334.48 2176.39 1339.13 Q2176.39 1343.79 2178.36 1346.47 Q2180.35 1349.13 2183.79 1349.13 Q2187.2 1349.13 2189.19 1346.45 Q2191.18 1343.76 2191.18 1339.13 Q2191.18 1334.53 2189.19 1331.84 Q2187.2 1329.13 2183.79 1329.13 M2183.79 1325.52 Q2189.35 1325.52 2192.52 1329.13 Q2195.69 1332.75 2195.69 1339.13 Q2195.69 1345.5 2192.52 1349.13 Q2189.35 1352.75 2183.79 1352.75 Q2178.22 1352.75 2175.04 1349.13 Q2171.9 1345.5 2171.9 1339.13 Q2171.9 1332.75 2175.04 1329.13 Q2178.22 1325.52 2183.79 1325.52 Z\" fill=\"#000000\" fill-rule=\"nonzero\" fill-opacity=\"1\" /><path clip-path=\"url(#clip650)\" d=\"M2221.36 1339.13 Q2221.36 1334.44 2219.42 1331.77 Q2217.5 1329.09 2214.12 1329.09 Q2210.74 1329.09 2208.79 1331.77 Q2206.87 1334.44 2206.87 1339.13 Q2206.87 1343.83 2208.79 1346.52 Q2210.74 1349.18 2214.12 1349.18 Q2217.5 1349.18 2219.42 1346.52 Q2221.36 1343.83 2221.36 1339.13 M2206.87 1330.08 Q2208.22 1327.77 2210.25 1326.66 Q2212.31 1325.52 2215.16 1325.52 Q2219.88 1325.52 2222.82 1329.27 Q2225.79 1333.02 2225.79 1339.13 Q2225.79 1345.25 2222.82 1349 Q2219.88 1352.75 2215.16 1352.75 Q2212.31 1352.75 2210.25 1351.63 Q2208.22 1350.5 2206.87 1348.19 L2206.87 1352.07 L2202.59 1352.07 L2202.59 1316.06 L2206.87 1316.06 L2206.87 1330.08 Z\" fill=\"#000000\" fill-rule=\"nonzero\" fill-opacity=\"1\" /><path clip-path=\"url(#clip650)\" d=\"M2237.48 1348.14 L2253.79 1348.14 L2253.79 1352.07 L2231.85 1352.07 L2231.85 1348.14 Q2234.51 1345.38 2239.1 1340.76 Q2243.7 1336.1 2244.88 1334.76 Q2247.13 1332.24 2248.01 1330.5 Q2248.91 1328.74 2248.91 1327.05 Q2248.91 1324.3 2246.97 1322.56 Q2245.04 1320.82 2241.94 1320.82 Q2239.74 1320.82 2237.29 1321.59 Q2234.86 1322.35 2232.08 1323.9 L2232.08 1319.18 Q2234.91 1318.05 2237.36 1317.47 Q2239.81 1316.89 2241.85 1316.89 Q2247.22 1316.89 2250.41 1319.57 Q2253.61 1322.26 2253.61 1326.75 Q2253.61 1328.88 2252.8 1330.8 Q2252.01 1332.7 2249.91 1335.29 Q2249.33 1335.96 2246.23 1339.18 Q2243.12 1342.38 2237.48 1348.14 Z\" fill=\"#000000\" fill-rule=\"nonzero\" fill-opacity=\"1\" /><circle clip-path=\"url(#clip650)\" cx=\"2032.31\" cy=\"1386.63\" r=\"20.48\" fill=\"#3da44d\" fill-rule=\"evenodd\" fill-opacity=\"1\" stroke=\"#000000\" stroke-opacity=\"1\" stroke-width=\"4.55111\"/>\n",
       "<path clip-path=\"url(#clip650)\" d=\"M2149.1 1390.97 Q2149.1 1386.28 2147.15 1383.61 Q2145.23 1380.93 2141.85 1380.93 Q2138.47 1380.93 2136.53 1383.61 Q2134.61 1386.28 2134.61 1390.97 Q2134.61 1395.67 2136.53 1398.36 Q2138.47 1401.02 2141.85 1401.02 Q2145.23 1401.02 2147.15 1398.36 Q2149.1 1395.67 2149.1 1390.97 M2134.61 1381.92 Q2135.95 1379.61 2137.98 1378.5 Q2140.05 1377.36 2142.89 1377.36 Q2147.61 1377.36 2150.55 1381.11 Q2153.52 1384.86 2153.52 1390.97 Q2153.52 1397.09 2150.55 1400.84 Q2147.61 1404.59 2142.89 1404.59 Q2140.05 1404.59 2137.98 1403.47 Q2135.95 1402.34 2134.61 1400.03 L2134.61 1403.91 L2130.32 1403.91 L2130.32 1367.9 L2134.61 1367.9 L2134.61 1381.92 Z\" fill=\"#000000\" fill-rule=\"nonzero\" fill-opacity=\"1\" /><path clip-path=\"url(#clip650)\" d=\"M2160.58 1367.9 L2164.84 1367.9 L2164.84 1403.91 L2160.58 1403.91 L2160.58 1367.9 Z\" fill=\"#000000\" fill-rule=\"nonzero\" fill-opacity=\"1\" /><path clip-path=\"url(#clip650)\" d=\"M2183.79 1380.97 Q2180.37 1380.97 2178.38 1383.66 Q2176.39 1386.32 2176.39 1390.97 Q2176.39 1395.63 2178.36 1398.31 Q2180.35 1400.97 2183.79 1400.97 Q2187.2 1400.97 2189.19 1398.29 Q2191.18 1395.6 2191.18 1390.97 Q2191.18 1386.37 2189.19 1383.68 Q2187.2 1380.97 2183.79 1380.97 M2183.79 1377.36 Q2189.35 1377.36 2192.52 1380.97 Q2195.69 1384.59 2195.69 1390.97 Q2195.69 1397.34 2192.52 1400.97 Q2189.35 1404.59 2183.79 1404.59 Q2178.22 1404.59 2175.04 1400.97 Q2171.9 1397.34 2171.9 1390.97 Q2171.9 1384.59 2175.04 1380.97 Q2178.22 1377.36 2183.79 1377.36 Z\" fill=\"#000000\" fill-rule=\"nonzero\" fill-opacity=\"1\" /><path clip-path=\"url(#clip650)\" d=\"M2221.36 1390.97 Q2221.36 1386.28 2219.42 1383.61 Q2217.5 1380.93 2214.12 1380.93 Q2210.74 1380.93 2208.79 1383.61 Q2206.87 1386.28 2206.87 1390.97 Q2206.87 1395.67 2208.79 1398.36 Q2210.74 1401.02 2214.12 1401.02 Q2217.5 1401.02 2219.42 1398.36 Q2221.36 1395.67 2221.36 1390.97 M2206.87 1381.92 Q2208.22 1379.61 2210.25 1378.5 Q2212.31 1377.36 2215.16 1377.36 Q2219.88 1377.36 2222.82 1381.11 Q2225.79 1384.86 2225.79 1390.97 Q2225.79 1397.09 2222.82 1400.84 Q2219.88 1404.59 2215.16 1404.59 Q2212.31 1404.59 2210.25 1403.47 Q2208.22 1402.34 2206.87 1400.03 L2206.87 1403.91 L2202.59 1403.91 L2202.59 1367.9 L2206.87 1367.9 L2206.87 1381.92 Z\" fill=\"#000000\" fill-rule=\"nonzero\" fill-opacity=\"1\" /><path clip-path=\"url(#clip650)\" d=\"M2247.61 1385.28 Q2250.97 1386 2252.85 1388.27 Q2254.74 1390.53 2254.74 1393.87 Q2254.74 1398.98 2251.23 1401.78 Q2247.71 1404.59 2241.23 1404.59 Q2239.05 1404.59 2236.73 1404.15 Q2234.44 1403.73 2231.99 1402.87 L2231.99 1398.36 Q2233.93 1399.49 2236.25 1400.07 Q2238.56 1400.65 2241.09 1400.65 Q2245.48 1400.65 2247.78 1398.91 Q2250.09 1397.18 2250.09 1393.87 Q2250.09 1390.81 2247.94 1389.1 Q2245.81 1387.36 2241.99 1387.36 L2237.96 1387.36 L2237.96 1383.52 L2242.17 1383.52 Q2245.62 1383.52 2247.45 1382.16 Q2249.28 1380.77 2249.28 1378.17 Q2249.28 1375.51 2247.38 1374.1 Q2245.51 1372.66 2241.99 1372.66 Q2240.07 1372.66 2237.87 1373.08 Q2235.67 1373.5 2233.03 1374.38 L2233.03 1370.21 Q2235.69 1369.47 2238.01 1369.1 Q2240.35 1368.73 2242.41 1368.73 Q2247.73 1368.73 2250.83 1371.16 Q2253.93 1373.57 2253.93 1377.69 Q2253.93 1380.56 2252.29 1382.55 Q2250.65 1384.52 2247.61 1385.28 Z\" fill=\"#000000\" fill-rule=\"nonzero\" fill-opacity=\"1\" /></svg>\n"
      ]
     },
     "execution_count": 35,
     "metadata": {},
     "output_type": "execute_result"
    }
   ],
   "source": [
    "# your code here\n",
    "blob1 = randn(2, 20)\n",
    "blob2 = randn(2, 20) .+ [-3, 4]\n",
    "blob3 = randn(2, 20) .+ [2, 4]\n",
    "scatter(blob1[1, :], blob1[2, :], label=\"blob1\")\n",
    "scatter!(blob2[1, :], blob2[2, :], label=\"blob2\")\n",
    "scatter!(blob3[1, :], blob3[2, :], label=\"blob3\")"
   ]
  },
  {
   "cell_type": "markdown",
   "metadata": {},
   "source": [
    "## Extra: performance tuning\n",
    "\n",
    "These are some additional notes not directly related to Machine Learning but may be useful - FYI. \n",
    "\n",
    "Usually Julia works quite fast, but at times we may need to take care of memory allocation etc. to speed up our code. "
   ]
  },
  {
   "cell_type": "code",
   "execution_count": 36,
   "metadata": {},
   "outputs": [
    {
     "data": {
      "text/plain": [
       "1000×1000 Matrix{Float64}:\n",
       " -0.263409   -0.317264    -0.579612   …   0.473903    0.340056  -0.593714\n",
       "  0.779286   -2.15822      1.83555        0.638082   -0.540193  -0.642506\n",
       "  0.250113   -0.748077     0.311206       2.57876     1.45965   -0.0125069\n",
       " -0.816147    1.57544      0.410151      -0.0755247  -0.788134   0.333805\n",
       " -1.04353    -1.23984      0.448952       0.13365    -0.452317   0.58365\n",
       "  0.24314     0.0454533   -0.993551   …   0.59219     0.207789  -0.906526\n",
       "  0.60134    -0.513251    -0.198694      -0.699296   -1.32252    2.24433\n",
       " -1.43105    -0.917325     0.664709       0.224434    0.411641  -0.306153\n",
       "  0.115136    0.390551     1.58548        1.47292    -0.086107  -0.798261\n",
       "  0.838671   -0.554058     0.421944      -0.221319   -0.094933  -0.804231\n",
       " -0.122136    0.57407     -1.0397     …   0.441741   -0.245465   0.45582\n",
       " -0.0236335  -1.00761     -0.397056      -0.848133    0.748612  -0.29469\n",
       "  1.11957     0.461116    -0.0338618      0.892522   -1.03652    0.748671\n",
       "  ⋮                                   ⋱                         \n",
       "  0.398757    0.307494    -0.607062      -0.891689    0.543404   0.768037\n",
       "  1.03351     1.9561       1.03919        1.74247     0.713166   0.463545\n",
       " -0.783216    1.82646      0.798511   …   0.725494   -1.0067     0.563803\n",
       "  0.0882855   1.85935      0.501065       0.937005    0.944804   0.420453\n",
       " -0.235661   -0.00356297  -0.730541      -1.64269     1.12785   -1.0172\n",
       "  0.715111   -1.2117      -0.287301       0.712794   -0.198988  -0.00618108\n",
       " -0.773994    0.930655    -0.866919       0.316877    0.933539  -0.731669\n",
       "  1.0182      0.418878     0.21637    …   1.41498    -0.974733  -0.952937\n",
       "  0.559526    0.0813642    0.954671       0.782631    0.234763   0.317311\n",
       "  0.123351    0.0398693   -0.174003      -0.105104    1.12291    0.695615\n",
       "  0.203492    0.171783    -0.522844       1.16737    -1.35168   -0.43453\n",
       "  0.19649     0.746364     0.54457        1.03219     0.712728   0.815927"
      ]
     },
     "execution_count": 36,
     "metadata": {},
     "output_type": "execute_result"
    }
   ],
   "source": [
    "A = randn(1000, 1000)   # a 1000x1000 matrix with random Gaussian-distributed values"
   ]
  },
  {
   "cell_type": "code",
   "execution_count": 37,
   "metadata": {},
   "outputs": [],
   "source": [
    "#import Pkg; Pkg.add(\"BenchmarkTools\")\n",
    "using BenchmarkTools"
   ]
  },
  {
   "cell_type": "code",
   "execution_count": 38,
   "metadata": {},
   "outputs": [
    {
     "name": "stdout",
     "output_type": "stream",
     "text": [
      "  127.107 ns (2 allocations: 64 bytes)\n"
     ]
    },
    {
     "data": {
      "text/plain": [
       "1000-element view(::Matrix{Float64}, 1, :) with eltype Float64:\n",
       " -0.2634094025175531\n",
       " -0.3172635185336222\n",
       " -0.5796118455357961\n",
       "  0.8281790032802567\n",
       " -1.6790675288288348\n",
       " -1.1233932208472803\n",
       " -0.20396689982732077\n",
       " -1.0478003331202796\n",
       " -0.9455998686350355\n",
       "  0.5918046381211463\n",
       " -0.4650292481447435\n",
       "  0.7777291335724038\n",
       "  0.3483427305633072\n",
       "  ⋮\n",
       " -0.3687903938417003\n",
       "  1.1097828923633686\n",
       " -1.3443322840554348\n",
       " -0.6532079352961958\n",
       "  2.2655112097961188\n",
       "  1.6621229272768163\n",
       "  0.9680115096149023\n",
       " -1.2067187697985937\n",
       "  3.529478137067453\n",
       "  0.47390289961362253\n",
       "  0.3400556747040763\n",
       " -0.5937137229529837"
      ]
     },
     "execution_count": 38,
     "metadata": {},
     "output_type": "execute_result"
    }
   ],
   "source": [
    "@btime @view A[1,:]"
   ]
  },
  {
   "cell_type": "code",
   "execution_count": 39,
   "metadata": {},
   "outputs": [
    {
     "name": "stdout",
     "output_type": "stream",
     "text": [
      "  900.000 ns (2 allocations: 7.95 KiB)\n"
     ]
    },
    {
     "data": {
      "text/plain": [
       "1000-element Vector{Float64}:\n",
       " -0.2634094025175531\n",
       " -0.3172635185336222\n",
       " -0.5796118455357961\n",
       "  0.8281790032802567\n",
       " -1.6790675288288348\n",
       " -1.1233932208472803\n",
       " -0.20396689982732077\n",
       " -1.0478003331202796\n",
       " -0.9455998686350355\n",
       "  0.5918046381211463\n",
       " -0.4650292481447435\n",
       "  0.7777291335724038\n",
       "  0.3483427305633072\n",
       "  ⋮\n",
       " -0.3687903938417003\n",
       "  1.1097828923633686\n",
       " -1.3443322840554348\n",
       " -0.6532079352961958\n",
       "  2.2655112097961188\n",
       "  1.6621229272768163\n",
       "  0.9680115096149023\n",
       " -1.2067187697985937\n",
       "  3.529478137067453\n",
       "  0.47390289961362253\n",
       "  0.3400556747040763\n",
       " -0.5937137229529837"
      ]
     },
     "execution_count": 39,
     "metadata": {},
     "output_type": "execute_result"
    }
   ],
   "source": [
    "@btime A[1,:]"
   ]
  },
  {
   "cell_type": "markdown",
   "metadata": {},
   "source": [
    "The performance margin maintains when floating point calculations are involved. E.g., dot product between two rows requires half in time, and one-third in memory: "
   ]
  },
  {
   "cell_type": "code",
   "execution_count": 40,
   "metadata": {},
   "outputs": [
    {
     "name": "stdout",
     "output_type": "stream",
     "text": [
      "  2.450 μs (7 allocations: 23.91 KiB)\n"
     ]
    }
   ],
   "source": [
    "@btime A[1,:] .* A[2,:];"
   ]
  },
  {
   "cell_type": "code",
   "execution_count": 41,
   "metadata": {},
   "outputs": [
    {
     "name": "stdout",
     "output_type": "stream",
     "text": [
      "  1.560 μs (7 allocations: 8.25 KiB)\n"
     ]
    }
   ],
   "source": [
    "@btime (@view A[1,:]) .* (@view A[2,:]);"
   ]
  },
  {
   "cell_type": "markdown",
   "metadata": {},
   "source": [
    "One more fact: column-wise operations work faster in Julia (not Julia's fault - just blame those guys who invented spreadsheets -- we are now more used to store data as row vectors ;0))"
   ]
  },
  {
   "cell_type": "code",
   "execution_count": 42,
   "metadata": {},
   "outputs": [
    {
     "name": "stdout",
     "output_type": "stream",
     "text": [
      "  960.000 ns (7 allocations: 8.25 KiB)\n"
     ]
    }
   ],
   "source": [
    "@btime (@view A[:,1]) .* (@view A[:,1]);"
   ]
  },
  {
   "cell_type": "code",
   "execution_count": null,
   "metadata": {},
   "outputs": [],
   "source": []
  }
 ],
 "metadata": {
  "@webio": {
   "lastCommId": null,
   "lastKernelId": null
  },
  "kernelspec": {
   "display_name": "Julia 1.6.7",
   "language": "julia",
   "name": "julia-1.6"
  },
  "language_info": {
   "file_extension": ".jl",
   "mimetype": "application/julia",
   "name": "julia",
   "version": "1.6.7"
  }
 },
 "nbformat": 4,
 "nbformat_minor": 4
}
